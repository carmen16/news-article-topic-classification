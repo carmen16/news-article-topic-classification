{
 "cells": [
  {
   "cell_type": "markdown",
   "metadata": {},
   "source": [
    "# Packages"
   ]
  },
  {
   "cell_type": "code",
   "execution_count": 1,
   "metadata": {},
   "outputs": [],
   "source": [
    "# Helpful packages\n",
    "import pandas as pd\n",
    "import numpy as np\n",
    "import matplotlib.pyplot as plt\n",
    "%matplotlib inline\n",
    "\n",
    "from importlib import reload\n",
    "import split_vectorize\n",
    "import base_models\n",
    "import neural_net\n",
    "\n",
    "from IPython.display import display, HTML"
   ]
  },
  {
   "cell_type": "markdown",
   "metadata": {},
   "source": [
    "# Get Data\n",
    "\n",
    "Choose how many rows of data you want to work with by filling in the n value below."
   ]
  },
  {
   "cell_type": "code",
   "execution_count": 2,
   "metadata": {},
   "outputs": [],
   "source": [
    "n = 100000"
   ]
  },
  {
   "cell_type": "markdown",
   "metadata": {},
   "source": [
    "Uncomment the line below to create a new data file with a random sample of `n` articles. Otherwise, skip to the next cell to import an existing file with `n` articles."
   ]
  },
  {
   "cell_type": "code",
   "execution_count": 3,
   "metadata": {},
   "outputs": [],
   "source": [
    "# THIS CODE BLOCK CAN TAKE A LONG TIME TO RUN... SKIP IT BY LOADING AN EXISTING FILE INSTEAD\n",
    "# %run parse_corpus.py $n"
   ]
  },
  {
   "cell_type": "code",
   "execution_count": 4,
   "metadata": {},
   "outputs": [
    {
     "data": {
      "text/html": [
       "<div>\n",
       "<style scoped>\n",
       "    .dataframe tbody tr th:only-of-type {\n",
       "        vertical-align: middle;\n",
       "    }\n",
       "\n",
       "    .dataframe tbody tr th {\n",
       "        vertical-align: top;\n",
       "    }\n",
       "\n",
       "    .dataframe thead th {\n",
       "        text-align: right;\n",
       "    }\n",
       "</style>\n",
       "<table border=\"1\" class=\"dataframe\">\n",
       "  <thead>\n",
       "    <tr style=\"text-align: right;\">\n",
       "      <th></th>\n",
       "      <th>abstract</th>\n",
       "      <th>author_info</th>\n",
       "      <th>copyright_holder</th>\n",
       "      <th>copyright_year</th>\n",
       "      <th>descriptor</th>\n",
       "      <th>desk</th>\n",
       "      <th>full_text</th>\n",
       "      <th>general_descriptor</th>\n",
       "      <th>headline</th>\n",
       "      <th>id</th>\n",
       "      <th>...</th>\n",
       "      <th>print_page_number</th>\n",
       "      <th>print_section</th>\n",
       "      <th>publication_day_of_month</th>\n",
       "      <th>publication_day_of_week</th>\n",
       "      <th>publication_month</th>\n",
       "      <th>publication_year</th>\n",
       "      <th>series_name</th>\n",
       "      <th>taxonomic_classifier</th>\n",
       "      <th>title</th>\n",
       "      <th>types_of_material</th>\n",
       "    </tr>\n",
       "  </thead>\n",
       "  <tbody>\n",
       "    <tr>\n",
       "      <th>0</th>\n",
       "      <td>Corel Corp, Ottawa-based software company, re...</td>\n",
       "      <td>NaN</td>\n",
       "      <td>The New York Times</td>\n",
       "      <td>1998.0</td>\n",
       "      <td>NaN</td>\n",
       "      <td>Business/Financial Desk</td>\n",
       "      <td>The Corel Corporation, an Ottawa-based softwa...</td>\n",
       "      <td>['Company Reports', 'Computer Software', 'Copy...</td>\n",
       "      <td>Corel, a Rival Of Microsoft, Had a Bad Year</td>\n",
       "      <td>989253</td>\n",
       "      <td>...</td>\n",
       "      <td>3.0</td>\n",
       "      <td>D</td>\n",
       "      <td>21.0</td>\n",
       "      <td>Wednesday</td>\n",
       "      <td>1.0</td>\n",
       "      <td>1998.0</td>\n",
       "      <td>NaN</td>\n",
       "      <td>['Top/News/Technology', 'Top/News/Business', '...</td>\n",
       "      <td>Corel, a Rival Of Microsoft, Had a Bad Year</td>\n",
       "      <td>NaN</td>\n",
       "    </tr>\n",
       "    <tr>\n",
       "      <th>1</th>\n",
       "      <td>New York State Legislature, ending annual ses...</td>\n",
       "      <td>NaN</td>\n",
       "      <td>The New York Times</td>\n",
       "      <td>1998.0</td>\n",
       "      <td>NaN</td>\n",
       "      <td>Westchester Weekly Desk</td>\n",
       "      <td>STATE legislators ended their annual session ...</td>\n",
       "      <td>['Budgets and Budgeting', 'Finances']</td>\n",
       "      <td>Most of County's Wish List Denied</td>\n",
       "      <td>1027868</td>\n",
       "      <td>...</td>\n",
       "      <td>7.0</td>\n",
       "      <td>14WC</td>\n",
       "      <td>28.0</td>\n",
       "      <td>Sunday</td>\n",
       "      <td>6.0</td>\n",
       "      <td>1998.0</td>\n",
       "      <td>NaN</td>\n",
       "      <td>['Top/News/New York and Region', 'Top/News/New...</td>\n",
       "      <td>Most of County's Wish List Denied</td>\n",
       "      <td>NaN</td>\n",
       "    </tr>\n",
       "    <tr>\n",
       "      <th>2</th>\n",
       "      <td>NaN</td>\n",
       "      <td>NaN</td>\n",
       "      <td>The New York Times</td>\n",
       "      <td>2005.0</td>\n",
       "      <td>NaN</td>\n",
       "      <td>Classified</td>\n",
       "      <td>CARLSON -- Kathleen Ann. Died on January 30, ...</td>\n",
       "      <td>NaN</td>\n",
       "      <td>Paid Notice: Deaths   CARLSON, KATHLEEN ANN</td>\n",
       "      <td>1647142</td>\n",
       "      <td>...</td>\n",
       "      <td>25.0</td>\n",
       "      <td>G</td>\n",
       "      <td>3.0</td>\n",
       "      <td>Thursday</td>\n",
       "      <td>2.0</td>\n",
       "      <td>2005.0</td>\n",
       "      <td>NaN</td>\n",
       "      <td>['Top/Classifieds/Paid Death Notices']</td>\n",
       "      <td>Paid Notice: Deaths   CARLSON, KATHLEEN ANN</td>\n",
       "      <td>['Paid Death Notice']</td>\n",
       "    </tr>\n",
       "  </tbody>\n",
       "</table>\n",
       "<p>3 rows × 32 columns</p>\n",
       "</div>"
      ],
      "text/plain": [
       "                                            abstract author_info  \\\n",
       "0   Corel Corp, Ottawa-based software company, re...         NaN   \n",
       "1   New York State Legislature, ending annual ses...         NaN   \n",
       "2                                                NaN         NaN   \n",
       "\n",
       "     copyright_holder  copyright_year descriptor                     desk  \\\n",
       "0  The New York Times          1998.0        NaN  Business/Financial Desk   \n",
       "1  The New York Times          1998.0        NaN  Westchester Weekly Desk   \n",
       "2  The New York Times          2005.0        NaN               Classified   \n",
       "\n",
       "                                           full_text  \\\n",
       "0   The Corel Corporation, an Ottawa-based softwa...   \n",
       "1   STATE legislators ended their annual session ...   \n",
       "2   CARLSON -- Kathleen Ann. Died on January 30, ...   \n",
       "\n",
       "                                  general_descriptor  \\\n",
       "0  ['Company Reports', 'Computer Software', 'Copy...   \n",
       "1              ['Budgets and Budgeting', 'Finances']   \n",
       "2                                                NaN   \n",
       "\n",
       "                                      headline       id  \\\n",
       "0  Corel, a Rival Of Microsoft, Had a Bad Year   989253   \n",
       "1            Most of County's Wish List Denied  1027868   \n",
       "2  Paid Notice: Deaths   CARLSON, KATHLEEN ANN  1647142   \n",
       "\n",
       "           ...           print_page_number print_section  \\\n",
       "0          ...                         3.0             D   \n",
       "1          ...                         7.0          14WC   \n",
       "2          ...                        25.0             G   \n",
       "\n",
       "  publication_day_of_month publication_day_of_week publication_month  \\\n",
       "0                     21.0               Wednesday               1.0   \n",
       "1                     28.0                  Sunday               6.0   \n",
       "2                      3.0                Thursday               2.0   \n",
       "\n",
       "   publication_year series_name  \\\n",
       "0            1998.0         NaN   \n",
       "1            1998.0         NaN   \n",
       "2            2005.0         NaN   \n",
       "\n",
       "                                taxonomic_classifier  \\\n",
       "0  ['Top/News/Technology', 'Top/News/Business', '...   \n",
       "1  ['Top/News/New York and Region', 'Top/News/New...   \n",
       "2             ['Top/Classifieds/Paid Death Notices']   \n",
       "\n",
       "                                         title      types_of_material  \n",
       "0  Corel, a Rival Of Microsoft, Had a Bad Year                    NaN  \n",
       "1            Most of County's Wish List Denied                    NaN  \n",
       "2  Paid Notice: Deaths   CARLSON, KATHLEEN ANN  ['Paid Death Notice']  \n",
       "\n",
       "[3 rows x 32 columns]"
      ]
     },
     "execution_count": 4,
     "metadata": {},
     "output_type": "execute_result"
    }
   ],
   "source": [
    "df = pd.read_csv('data/nyt_corpus_'+str(n)+'.csv')\n",
    "df.shape\n",
    "df.head(3)"
   ]
  },
  {
   "cell_type": "markdown",
   "metadata": {},
   "source": [
    "### Possible Model Outputs"
   ]
  },
  {
   "cell_type": "markdown",
   "metadata": {},
   "source": [
    "There are multiple columns that could be used as the target variable in classification models. I will use `desk` since it has the lowest percentage of nulls and it never assigns multiple labels to an article."
   ]
  },
  {
   "cell_type": "code",
   "execution_count": 5,
   "metadata": {},
   "outputs": [
    {
     "data": {
      "text/html": [
       "<div>\n",
       "<style scoped>\n",
       "    .dataframe tbody tr th:only-of-type {\n",
       "        vertical-align: middle;\n",
       "    }\n",
       "\n",
       "    .dataframe tbody tr th {\n",
       "        vertical-align: top;\n",
       "    }\n",
       "\n",
       "    .dataframe thead th {\n",
       "        text-align: right;\n",
       "    }\n",
       "</style>\n",
       "<table border=\"1\" class=\"dataframe\">\n",
       "  <thead>\n",
       "    <tr style=\"text-align: right;\">\n",
       "      <th></th>\n",
       "      <th>desk</th>\n",
       "      <th>general_descriptor</th>\n",
       "      <th>online_sections</th>\n",
       "      <th>taxonomic_classifier</th>\n",
       "    </tr>\n",
       "  </thead>\n",
       "  <tbody>\n",
       "    <tr>\n",
       "      <th>99995</th>\n",
       "      <td>Financial Desk</td>\n",
       "      <td>['Mergers, Acquisitions and Divestitures', 'Fi...</td>\n",
       "      <td>Business</td>\n",
       "      <td>['Top/News/Business']</td>\n",
       "    </tr>\n",
       "    <tr>\n",
       "      <th>99996</th>\n",
       "      <td>Metropolitan Desk</td>\n",
       "      <td>['Robberies and Thefts', 'Stadiums and Arenas'...</td>\n",
       "      <td>New York and Region</td>\n",
       "      <td>['Top/News/New York and Region', 'Top/News/Spo...</td>\n",
       "    </tr>\n",
       "    <tr>\n",
       "      <th>99997</th>\n",
       "      <td>Editorial Desk</td>\n",
       "      <td>['Ethics', 'Reform and Reorganization', 'Presi...</td>\n",
       "      <td>Opinion</td>\n",
       "      <td>['Top/Opinion', 'Top/Opinion/Opinion', 'Top/Ne...</td>\n",
       "    </tr>\n",
       "    <tr>\n",
       "      <th>99998</th>\n",
       "      <td>Connecticut Weekly Desk</td>\n",
       "      <td>NaN</td>\n",
       "      <td>New York and Region</td>\n",
       "      <td>['Top/News/New York and Region', 'Top/News/New...</td>\n",
       "    </tr>\n",
       "    <tr>\n",
       "      <th>99999</th>\n",
       "      <td>Home Desk</td>\n",
       "      <td>['Jewels and Jewelry', 'Trade Shows and Fairs']</td>\n",
       "      <td>Home and Garden; Style</td>\n",
       "      <td>['Top/Features/Home and Garden', 'Top/Features...</td>\n",
       "    </tr>\n",
       "  </tbody>\n",
       "</table>\n",
       "</div>"
      ],
      "text/plain": [
       "                          desk  \\\n",
       "99995           Financial Desk   \n",
       "99996        Metropolitan Desk   \n",
       "99997           Editorial Desk   \n",
       "99998  Connecticut Weekly Desk   \n",
       "99999                Home Desk   \n",
       "\n",
       "                                      general_descriptor  \\\n",
       "99995  ['Mergers, Acquisitions and Divestitures', 'Fi...   \n",
       "99996  ['Robberies and Thefts', 'Stadiums and Arenas'...   \n",
       "99997  ['Ethics', 'Reform and Reorganization', 'Presi...   \n",
       "99998                                                NaN   \n",
       "99999    ['Jewels and Jewelry', 'Trade Shows and Fairs']   \n",
       "\n",
       "              online_sections  \\\n",
       "99995                Business   \n",
       "99996     New York and Region   \n",
       "99997                 Opinion   \n",
       "99998     New York and Region   \n",
       "99999  Home and Garden; Style   \n",
       "\n",
       "                                    taxonomic_classifier  \n",
       "99995                              ['Top/News/Business']  \n",
       "99996  ['Top/News/New York and Region', 'Top/News/Spo...  \n",
       "99997  ['Top/Opinion', 'Top/Opinion/Opinion', 'Top/Ne...  \n",
       "99998  ['Top/News/New York and Region', 'Top/News/New...  \n",
       "99999  ['Top/Features/Home and Garden', 'Top/Features...  "
      ]
     },
     "execution_count": 5,
     "metadata": {},
     "output_type": "execute_result"
    }
   ],
   "source": [
    "df[['desk','general_descriptor','online_sections','taxonomic_classifier']][-5:]"
   ]
  },
  {
   "cell_type": "markdown",
   "metadata": {},
   "source": [
    "Percentage of nulls for each of the possible label columns:"
   ]
  },
  {
   "cell_type": "code",
   "execution_count": 6,
   "metadata": {},
   "outputs": [
    {
     "data": {
      "text/plain": [
       "desk                    0.00339\n",
       "general_descriptor      0.21148\n",
       "online_sections         0.02267\n",
       "taxonomic_classifier    0.01465\n",
       "dtype: float64"
      ]
     },
     "execution_count": 6,
     "metadata": {},
     "output_type": "execute_result"
    }
   ],
   "source": [
    "(n - df[['desk','general_descriptor','online_sections','taxonomic_classifier']].count()) / n"
   ]
  },
  {
   "cell_type": "markdown",
   "metadata": {},
   "source": [
    "# Preprocess Data\n",
    "\n",
    "Uncomment the line below to run pre-processing on the parsed data file. Otherwise, skip to the next cell to import the existing preprocessed file."
   ]
  },
  {
   "cell_type": "code",
   "execution_count": 7,
   "metadata": {
    "scrolled": false
   },
   "outputs": [],
   "source": [
    "# THIS CODE BLOCK CAN TAKE A LONG TIME TO RUN... SKIP IT BY LOADING AN EXISTING FILE INSTEAD\n",
    "# %run preprocessing.py $n"
   ]
  },
  {
   "cell_type": "code",
   "execution_count": 8,
   "metadata": {},
   "outputs": [
    {
     "name": "stdout",
     "output_type": "stream",
     "text": [
      "(100000, 6)\n"
     ]
    },
    {
     "data": {
      "text/html": [
       "<div>\n",
       "<style scoped>\n",
       "    .dataframe tbody tr th:only-of-type {\n",
       "        vertical-align: middle;\n",
       "    }\n",
       "\n",
       "    .dataframe tbody tr th {\n",
       "        vertical-align: top;\n",
       "    }\n",
       "\n",
       "    .dataframe thead th {\n",
       "        text-align: right;\n",
       "    }\n",
       "</style>\n",
       "<table border=\"1\" class=\"dataframe\">\n",
       "  <thead>\n",
       "    <tr style=\"text-align: right;\">\n",
       "      <th></th>\n",
       "      <th>desk</th>\n",
       "      <th>full_text</th>\n",
       "      <th>lead_paragraph</th>\n",
       "      <th>headline</th>\n",
       "      <th>nouns</th>\n",
       "      <th>lemmas</th>\n",
       "    </tr>\n",
       "  </thead>\n",
       "  <tbody>\n",
       "    <tr>\n",
       "      <th>0</th>\n",
       "      <td>business &amp; financial</td>\n",
       "      <td>the corel corporation , an ottawa - based soft...</td>\n",
       "      <td>the corel corporation , an ottawa - based soft...</td>\n",
       "      <td>corel , a rival of microsoft , had a bad year</td>\n",
       "      <td>corel corporation ottawa software company batt...</td>\n",
       "      <td>the corel corporation , an ottawa - base softw...</td>\n",
       "    </tr>\n",
       "    <tr>\n",
       "      <th>1</th>\n",
       "      <td>westchester weekly</td>\n",
       "      <td>state legislators ended their annual session e...</td>\n",
       "      <td>state legislators ended their annual session e...</td>\n",
       "      <td>most of county 's wish list denied</td>\n",
       "      <td>state legislators session month county wishes ...</td>\n",
       "      <td>state legislator end their annual session earl...</td>\n",
       "    </tr>\n",
       "    <tr>\n",
       "      <th>2</th>\n",
       "      <td>classified</td>\n",
       "      <td>carlson -- kathleen ann . died on january 30 ,...</td>\n",
       "      <td>carlson -- kathleen ann . died on january 30 ,...</td>\n",
       "      <td>paid notice : deaths carlson , kathleen ann</td>\n",
       "      <td>carlson ann sloan kettering hospital year batt...</td>\n",
       "      <td>carlson -- kathleen ann . die on january 30 , ...</td>\n",
       "    </tr>\n",
       "    <tr>\n",
       "      <th>3</th>\n",
       "      <td>society</td>\n",
       "      <td>judy ball morrill , a daughter of dewitt c . m...</td>\n",
       "      <td>judy ball morrill , a daughter of dewitt c . m...</td>\n",
       "      <td>judy morrill , randall taylor</td>\n",
       "      <td>judy ball morrill daughter c morrill southbury...</td>\n",
       "      <td>judy ball morrill , a daughter of dewitt c . m...</td>\n",
       "    </tr>\n",
       "    <tr>\n",
       "      <th>4</th>\n",
       "      <td>sports</td>\n",
       "      <td>baseball american league tampa bay devil rays ...</td>\n",
       "      <td>baseball american league tampa bay devil rays ...</td>\n",
       "      <td>transactions</td>\n",
       "      <td>baseball league tampa bay devil rays roy silve...</td>\n",
       "      <td>baseball american league tampa bay devil ray -...</td>\n",
       "    </tr>\n",
       "  </tbody>\n",
       "</table>\n",
       "</div>"
      ],
      "text/plain": [
       "                   desk                                          full_text  \\\n",
       "0  business & financial  the corel corporation , an ottawa - based soft...   \n",
       "1    westchester weekly  state legislators ended their annual session e...   \n",
       "2            classified  carlson -- kathleen ann . died on january 30 ,...   \n",
       "3               society  judy ball morrill , a daughter of dewitt c . m...   \n",
       "4                sports  baseball american league tampa bay devil rays ...   \n",
       "\n",
       "                                      lead_paragraph  \\\n",
       "0  the corel corporation , an ottawa - based soft...   \n",
       "1  state legislators ended their annual session e...   \n",
       "2  carlson -- kathleen ann . died on january 30 ,...   \n",
       "3  judy ball morrill , a daughter of dewitt c . m...   \n",
       "4  baseball american league tampa bay devil rays ...   \n",
       "\n",
       "                                        headline  \\\n",
       "0  corel , a rival of microsoft , had a bad year   \n",
       "1             most of county 's wish list denied   \n",
       "2    paid notice : deaths carlson , kathleen ann   \n",
       "3                  judy morrill , randall taylor   \n",
       "4                                   transactions   \n",
       "\n",
       "                                               nouns  \\\n",
       "0  corel corporation ottawa software company batt...   \n",
       "1  state legislators session month county wishes ...   \n",
       "2  carlson ann sloan kettering hospital year batt...   \n",
       "3  judy ball morrill daughter c morrill southbury...   \n",
       "4  baseball league tampa bay devil rays roy silve...   \n",
       "\n",
       "                                              lemmas  \n",
       "0  the corel corporation , an ottawa - base softw...  \n",
       "1  state legislator end their annual session earl...  \n",
       "2  carlson -- kathleen ann . die on january 30 , ...  \n",
       "3  judy ball morrill , a daughter of dewitt c . m...  \n",
       "4  baseball american league tampa bay devil ray -...  "
      ]
     },
     "execution_count": 8,
     "metadata": {},
     "output_type": "execute_result"
    }
   ],
   "source": [
    "df_final = pd.read_csv('data/nyt_corpus_cleaned_'+str(n)+'.csv')\n",
    "print(df_final.shape)\n",
    "df_final.head()"
   ]
  },
  {
   "cell_type": "markdown",
   "metadata": {},
   "source": [
    "The table below shows some examples of how the `desk` variable is cleaned."
   ]
  },
  {
   "cell_type": "code",
   "execution_count": 9,
   "metadata": {},
   "outputs": [
    {
     "data": {
      "text/html": [
       "<div>\n",
       "<style scoped>\n",
       "    .dataframe tbody tr th:only-of-type {\n",
       "        vertical-align: middle;\n",
       "    }\n",
       "\n",
       "    .dataframe tbody tr th {\n",
       "        vertical-align: top;\n",
       "    }\n",
       "\n",
       "    .dataframe thead th {\n",
       "        text-align: right;\n",
       "    }\n",
       "</style>\n",
       "<table border=\"1\" class=\"dataframe\">\n",
       "  <thead>\n",
       "    <tr style=\"text-align: right;\">\n",
       "      <th></th>\n",
       "      <th></th>\n",
       "      <th>cnt</th>\n",
       "    </tr>\n",
       "    <tr>\n",
       "      <th>desk_cleaned</th>\n",
       "      <th>desk</th>\n",
       "      <th></th>\n",
       "    </tr>\n",
       "  </thead>\n",
       "  <tbody>\n",
       "    <tr>\n",
       "      <th>2005: the year in pictures</th>\n",
       "      <th>2005: The Year In Pictures</th>\n",
       "      <td>1</td>\n",
       "    </tr>\n",
       "    <tr>\n",
       "      <th>a nation challenged</th>\n",
       "      <th>A Nation Challenged</th>\n",
       "      <td>5</td>\n",
       "    </tr>\n",
       "    <tr>\n",
       "      <th>art &amp; ideas/arts &amp; leisure</th>\n",
       "      <th>Art &amp; Ideas/Cultural Desk</th>\n",
       "      <td>1</td>\n",
       "    </tr>\n",
       "    <tr>\n",
       "      <th rowspan=\"14\" valign=\"top\">arts &amp; leisure</th>\n",
       "      <th>Arts &amp; Ideas/Cultural Desk</th>\n",
       "      <td>200</td>\n",
       "    </tr>\n",
       "    <tr>\n",
       "      <th>Arts &amp; Leisure Desk</th>\n",
       "      <td>405</td>\n",
       "    </tr>\n",
       "    <tr>\n",
       "      <th>Arts and Leisure Desk</th>\n",
       "      <td>1499</td>\n",
       "    </tr>\n",
       "    <tr>\n",
       "      <th>Arts and Leisure Desk Desk</th>\n",
       "      <td>1</td>\n",
       "    </tr>\n",
       "    <tr>\n",
       "      <th>Cultural Desk</th>\n",
       "      <td>2215</td>\n",
       "    </tr>\n",
       "    <tr>\n",
       "      <th>Cultural Desk;</th>\n",
       "      <td>1</td>\n",
       "    </tr>\n",
       "    <tr>\n",
       "      <th>Cultural desk</th>\n",
       "      <td>1</td>\n",
       "    </tr>\n",
       "    <tr>\n",
       "      <th>Leisure/Weekend Desk</th>\n",
       "      <td>604</td>\n",
       "    </tr>\n",
       "    <tr>\n",
       "      <th>Movies, Performing Arts/Weekend Desk</th>\n",
       "      <td>754</td>\n",
       "    </tr>\n",
       "    <tr>\n",
       "      <th>Museums</th>\n",
       "      <td>14</td>\n",
       "    </tr>\n",
       "    <tr>\n",
       "      <th>The Arts/Cultural Desk</th>\n",
       "      <td>2045</td>\n",
       "    </tr>\n",
       "    <tr>\n",
       "      <th>The Arts\\Cultural Desk</th>\n",
       "      <td>1</td>\n",
       "    </tr>\n",
       "    <tr>\n",
       "      <th>Weekend Desk</th>\n",
       "      <td>1002</td>\n",
       "    </tr>\n",
       "    <tr>\n",
       "      <th>Weekend DeskWeekend Desk</th>\n",
       "      <td>5</td>\n",
       "    </tr>\n",
       "    <tr>\n",
       "      <th rowspan=\"2\" valign=\"top\">book review</th>\n",
       "      <th>Book Review Desk</th>\n",
       "      <td>1750</td>\n",
       "    </tr>\n",
       "    <tr>\n",
       "      <th>Book Review Dest</th>\n",
       "      <td>1</td>\n",
       "    </tr>\n",
       "    <tr>\n",
       "      <th>boston 2004</th>\n",
       "      <th>Boston 2004</th>\n",
       "      <td>2</td>\n",
       "    </tr>\n",
       "  </tbody>\n",
       "</table>\n",
       "</div>"
      ],
      "text/plain": [
       "                                                                  cnt\n",
       "desk_cleaned               desk                                      \n",
       "2005: the year in pictures 2005: The Year In Pictures               1\n",
       "a nation challenged        A Nation Challenged                      5\n",
       "art & ideas/arts & leisure Art & Ideas/Cultural Desk                1\n",
       "arts & leisure             Arts & Ideas/Cultural Desk             200\n",
       "                           Arts & Leisure Desk                    405\n",
       "                           Arts and Leisure Desk                 1499\n",
       "                           Arts and Leisure Desk Desk               1\n",
       "                           Cultural Desk                         2215\n",
       "                           Cultural Desk;                           1\n",
       "                           Cultural desk                            1\n",
       "                           Leisure/Weekend Desk                   604\n",
       "                           Movies, Performing Arts/Weekend Desk   754\n",
       "                           Museums                                 14\n",
       "                           The Arts/Cultural Desk                2045\n",
       "                           The Arts\\Cultural Desk                   1\n",
       "                           Weekend Desk                          1002\n",
       "                           Weekend DeskWeekend Desk                 5\n",
       "book review                Book Review Desk                      1750\n",
       "                           Book Review Dest                         1\n",
       "boston 2004                Boston 2004                              2"
      ]
     },
     "execution_count": 9,
     "metadata": {},
     "output_type": "execute_result"
    }
   ],
   "source": [
    "label_transform = pd.concat([df_final.desk, df.desk], axis=1)\n",
    "label_transform.columns = ['desk_cleaned', 'desk']\n",
    "label_transform.groupby(['desk_cleaned','desk']).size().reset_index(name='cnt').set_index(['desk_cleaned','desk'])[:20]"
   ]
  },
  {
   "cell_type": "markdown",
   "metadata": {},
   "source": [
    "### Train/Dev/Test Split and TF-IDF Vectorize\n",
    "\n",
    "Here I create an object for each model input:\n",
    "\n",
    "1. Full text\n",
    "2. Lead paragraph\n",
    "3. Headlines\n",
    "4. Nouns\n",
    "5. Lemmas\n",
    "\n",
    "Throughout the rest of notebook, I will attach various statistics and models to each object."
   ]
  },
  {
   "cell_type": "code",
   "execution_count": 10,
   "metadata": {},
   "outputs": [
    {
     "name": "stderr",
     "output_type": "stream",
     "text": [
      "/Users/carmen/Documents/NLP/w266-final-project/split_vectorize.py:37: UserWarning: Boolean Series key will be reindexed to match DataFrame index.\n",
      "  data = self.df[[self.articles, self.labels]][self.df[self.articles].notnull()][self.df[self.labels].notnull()]\n"
     ]
    },
    {
     "data": {
      "image/png": "[encoded data removed]",
      "text/plain": [
       "<Figure size 432x288 with 1 Axes>"
      ]
     },
     "metadata": {},
     "output_type": "display_data"
    }
   ],
   "source": [
    "reload(split_vectorize)\n",
    "rand_seed = 102 # Random number to feed in so all models will assign same articles to train/dev/test sets\n",
    "\n",
    "# Create object for each of the model inputs\n",
    "full_text = split_vectorize.SplitVectorize(df_final, 'full_text', 'Full Text')\n",
    "lead_para = split_vectorize.SplitVectorize(df_final, 'lead_paragraph', 'Lead Paragraph')\n",
    "headlines = split_vectorize.SplitVectorize(df_final, 'headline', 'Headlines')\n",
    "nouns = split_vectorize.SplitVectorize(df_final, 'nouns', 'Nouns Only')\n",
    "lemmas = split_vectorize.SplitVectorize(df_final, 'lemmas', 'Lemmatized')\n",
    "\n",
    "all_inputs = [full_text, lead_para, headlines, nouns, lemmas]\n",
    "\n",
    "# Split into train/test data and TF-IDF vectorize\n",
    "for x in all_inputs:\n",
    "    x.train_test_split(rand_seed)\n",
    "    x.tfidf_vectorize()"
   ]
  },
  {
   "cell_type": "markdown",
   "metadata": {},
   "source": [
    "Percentage of articles NOT in the `<OTHER>` category:"
   ]
  },
  {
   "cell_type": "code",
   "execution_count": 11,
   "metadata": {},
   "outputs": [
    {
     "name": "stdout",
     "output_type": "stream",
     "text": [
      "Full Text: 95.1%\n"
     ]
    }
   ],
   "source": [
    "for x in all_inputs:\n",
    "    print('{}: {:.1%}'.format(x.name_, x.df[x.df.desk != '<OTHER>'].groupby('desk').count().sum()[0] / x.df.groupby('desk').count().sum()[0]))"
   ]
  },
  {
   "cell_type": "markdown",
   "metadata": {},
   "source": [
    "Key statistics for each type of data. Note the number of articles for each model input varies because sometimes certain inputs have missing data. However, the same articles are assigned to training/dev/test data for each input."
   ]
  },
  {
   "cell_type": "code",
   "execution_count": 12,
   "metadata": {},
   "outputs": [
    {
     "data": {
      "text/html": [
       "<table><th>Article Type</th><th>Total Articles</th><th>Training Articles</th><th>Training Words</th><th>% Training Words</th><th>Avg. Words per Training Article</th><th>Training Vocab Size</th><th>% Training Vocab</th><th>Avg. Unique Words per Training Article</th><th>Dev Articles</th><th>Test Articles</th></tr><tr><td>Full Text</td><td>98,636</td><td>73,990</td><td>49,702,797</td><td>100%</td><td>672</td><td>258,837</td><td>100%</td><td>260</td><td>4,959</td><td>19,687</td></tr></table>"
      ],
      "text/plain": [
       "<IPython.core.display.HTML object>"
      ]
     },
     "metadata": {},
     "output_type": "display_data"
    }
   ],
   "source": [
    "html = '<table><th>Article Type</th><th>Total Articles</th><th>Training Articles</th><th>Training Words</th><th>% Training Words</th>'\n",
    "html += '<th>Avg. Words per Training Article</th><th>Training Vocab Size</th><th>% Training Vocab</th>'\n",
    "html += '<th>Avg. Unique Words per Training Article</th><th>Dev Articles</th><th>Test Articles</th></tr>'\n",
    "\n",
    "for x in all_inputs:\n",
    "    total = x.tv_train.shape[0] + x.tv_dev.shape[0] + x.tv_test.shape[0]\n",
    "    html += '<tr><td>{}</td><td>{:,}</td><td>{:,}</td><td>{:,}</td>'.format(x.name_, total, x.tv_train.shape[0], x.train_words_)\n",
    "    html += '<td>{:.0%}</td><td>{:.0f}</td>'.format(x.train_words_/full_text.train_words_, x.train_avg_words_)\n",
    "    html += '<td>{:,}</td><td>{:.0%}</td>'.format(x.train_vocab_size_, x.train_vocab_size_/full_text.train_vocab_size_)\n",
    "    html += '<td>{:,.0f}</td><td>{:,}</td><td>{:,}</td></tr>'.format(x.train_avg_unq_words_, x.tv_dev.shape[0], x.tv_test.shape[0])\n",
    "\n",
    "html += '</table>'\n",
    "display(HTML(html))"
   ]
  },
  {
   "cell_type": "markdown",
   "metadata": {},
   "source": [
    "# Baseline Models\n",
    "\n",
    "I use a Multinomial Naïve Bayes and Logistic Regression as simple baseline models. For each model and model input, I fit multiple models with different parameters values, and then optimize on the dev data. After finding the best models, I calculate the accuracy on the test data."
   ]
  },
  {
   "cell_type": "markdown",
   "metadata": {},
   "source": [
    "### Multinomial Naïve Bayes\n",
    "\n",
    "Fit multiple MNB models on each of the model inputs, looking for the best value of `alpha`."
   ]
  },
  {
   "cell_type": "code",
   "execution_count": 14,
   "metadata": {},
   "outputs": [],
   "source": [
    "reload(base_models)\n",
    "mnb = base_models.MultNB()\n",
    "\n",
    "for x in all_inputs:\n",
    "    mnb.test_models(x)"
   ]
  },
  {
   "cell_type": "markdown",
   "metadata": {},
   "source": [
    "Graph the accuracy on the dev data for each of the models tested."
   ]
  },
  {
   "cell_type": "code",
   "execution_count": 15,
   "metadata": {},
   "outputs": [
    {
     "data": {
      "image/png": "[encoded data removed]",
      "text/plain": [
       "<Figure size 432x288 with 1 Axes>"
      ]
     },
     "metadata": {},
     "output_type": "display_data"
    }
   ],
   "source": [
    "mnb_tables = []\n",
    "for x in all_inputs:\n",
    "    mnb_tables.append(x.mnb_accuracy_table_)\n",
    "\n",
    "mnb.plot_accuracy(mnb_tables)"
   ]
  },
  {
   "cell_type": "markdown",
   "metadata": {},
   "source": [
    "### Logistic Regression\n",
    "\n",
    "Fit multiple LR models on each of the model inputs, looking for the best values of `C` and `penalty`."
   ]
  },
  {
   "cell_type": "code",
   "execution_count": 16,
   "metadata": {},
   "outputs": [],
   "source": [
    "reload(base_models)\n",
    "lr = base_models.LogReg()\n",
    "\n",
    "for x in all_inputs:\n",
    "    lr.test_models(x)"
   ]
  },
  {
   "cell_type": "markdown",
   "metadata": {},
   "source": [
    "Graph the accuracy on the dev data for each of the models tested."
   ]
  },
  {
   "cell_type": "code",
   "execution_count": 17,
   "metadata": {},
   "outputs": [
    {
     "data": {
      "image/png": "[encoded data removed]",
      "text/plain": [
       "<Figure size 432x288 with 1 Axes>"
      ]
     },
     "metadata": {},
     "output_type": "display_data"
    }
   ],
   "source": [
    "lr_tables = []\n",
    "for x in all_inputs:\n",
    "    lr_tables.append(x.lr_accuracy_table_)\n",
    "\n",
    "lr.plot_accuracy(lr_tables)"
   ]
  },
  {
   "cell_type": "markdown",
   "metadata": {},
   "source": [
    "### Key Statistics\n",
    "\n",
    "For the best MNB and LR models for each of the possible inputs."
   ]
  },
  {
   "cell_type": "code",
   "execution_count": 18,
   "metadata": {},
   "outputs": [
    {
     "data": {
      "text/html": [
       "<table><th>Model Input</th><th>MNB Parameters</th><th>MNB Dev Accuracy</th><th>MNB Test Accuracy</th><th>LR Parameters</th><th>LR Dev Accuracy</th><th>LR Test Accuracy</th><tr><td>Full Text</td><td>alpha = 2^-7.5</td><td>0.692</td><td>0.687</td><td>C = 10^5.0; penalty = l2</td><td>0.768</td><td>0.746</td></tr><tr><td>Lead Paragraph</td><td>alpha = 2^-5.0</td><td>0.639</td><td>0.623</td><td>C = 10^1.0; penalty = l2</td><td>0.669</td><td>0.665</td></tr><tr><td>Headlines</td><td>alpha = 2^-2.0</td><td>0.554</td><td>0.500</td><td>C = 10^1.0; penalty = l2</td><td>0.547</td><td>0.547</td></tr><tr><td>Nouns Only</td><td>alpha = 2^-7.5</td><td>0.710</td><td>0.664</td><td>C = 10^2.0; penalty = l2</td><td>0.754</td><td>0.697</td></tr><tr><td>Lemmatized</td><td>alpha = 2^-8.5</td><td>0.694</td><td>0.680</td><td>C = 10^5.0; penalty = l2</td><td>0.754</td><td>0.739</td></tr></table>"
      ],
      "text/plain": [
       "<IPython.core.display.HTML object>"
      ]
     },
     "metadata": {},
     "output_type": "display_data"
    }
   ],
   "source": [
    "html = '<table><th>Model Input</th><th>MNB Parameters</th><th>MNB Dev Accuracy</th><th>MNB Test Accuracy</th>'\n",
    "html += '<th>LR Parameters</th><th>LR Dev Accuracy</th><th>LR Test Accuracy</th>'\n",
    "\n",
    "for x in all_inputs:\n",
    "    alpha = 'alpha = 2^'+str(np.log2(x.best_mnb_model_.alpha))\n",
    "    html += '<tr><td>{}</td><td>{}</td><td>{:.3f}</td><td>{:.3f}</td>'.format(x.name_, alpha, max(x.mnb_accuracy_table_.accuracy), x.best_mnb_model_.score(x.tv_test, x.test_labels))\n",
    "    C = 'C = 10^'+str(np.log10(x.best_lr_model_.C))\n",
    "    penalty = 'penalty = '+x.best_lr_model_.penalty\n",
    "    html += '<td>{}</td><td>{:.3f}</td><td>{:.3f}</td></tr>'.format(C+'; '+penalty, max(x.lr_accuracy_table_.accuracy), x.best_lr_model_.score(x.tv_test, x.test_labels))\n",
    "\n",
    "html += '</table>'\n",
    "display(HTML(html))"
   ]
  },
  {
   "cell_type": "markdown",
   "metadata": {},
   "source": [
    "# Neural Network\n",
    "\n",
    "1. This model uses GloVe word embeddings to initialize the word embedding matrix.\n",
    "2. For each of the model inputs, it drops the bottom ***20%*** of words, since these tend to be misspellings or one-off words that don't contribute to helping the model learn the structure of each category.\n",
    "3. For each of the model inputs, it pads each article to the smaller of:\n",
    "    + The ***90th*** percentile of lengths for that input type\n",
    "    + 500"
   ]
  },
  {
   "cell_type": "code",
   "execution_count": 13,
   "metadata": {},
   "outputs": [
    {
     "name": "stdout",
     "output_type": "stream",
     "text": [
      "Full Text:\n",
      "\tTraining vocab size: 207,070\n",
      "\t90th percentile of length = 1,253 --> inputs padded to 500.\n",
      "\tVocab reduced to 146,571 by padding operation (-29%)\n",
      "\tTraining data shape: (73990, 500)\n",
      "\tCreated GloVe matrix of 100-dimensional embeddings\n"
     ]
    }
   ],
   "source": [
    "reload(neural_net)\n",
    "nn = neural_net.NeuralNets()\n",
    "\n",
    "for x in all_inputs:\n",
    "    nn.tokenize(x)\n",
    "    nn.pad(x)\n",
    "    nn.create_glove_matrix(x)\n",
    "    \n",
    "# Num Tokens:\n",
    "# Drop 10%: 1238, 138, 11, 381, 1236\n",
    "# Drop 20%: 1234, 137, 10, 375, 1232\n",
    "\n",
    "# Padding:\n",
    "#  90%: 1241,  140, 11,  381, 1236\n",
    "# 100%: 7555, 5974, 55, 3296, 7556"
   ]
  },
  {
   "cell_type": "code",
   "execution_count": 14,
   "metadata": {},
   "outputs": [
    {
     "name": "stdout",
     "output_type": "stream",
     "text": [
      "Conv1D input: (None, 500)\n",
      "Conv1D output: (None, 481, 4)\n",
      "Conv1D input: (None, 500)\n",
      "Conv1D output: (None, 477, 16)\n",
      "Conv1D input: (None, 500)\n",
      "Conv1D output: (None, 476, 32)\n",
      "Pooling: (None, 32)\n",
      "ReLU: (None, 100)\n",
      "Softmax: (None, 21)\n",
      "Epoch 1/5\n",
      "73990/73990 [==============================] - 702s 9ms/step - loss: 1.7004 - acc: 0.4785\n",
      "Epoch 2/5\n",
      "73990/73990 [==============================] - 755s 10ms/step - loss: 1.1446 - acc: 0.6556\n",
      "Epoch 3/5\n",
      " 1504/73990 [..............................] - ETA: 12:14 - loss: 1.0109 - acc: 0.6935"
     ]
    },
    {
     "ename": "KeyboardInterrupt",
     "evalue": "",
     "output_type": "error",
     "traceback": [
      "\u001b[0;31m---------------------------------------------------------------------------\u001b[0m",
      "\u001b[0;31mKeyboardInterrupt\u001b[0m                         Traceback (most recent call last)",
      "\u001b[0;32m<ipython-input-14-6bd5cb3460d2>\u001b[0m in \u001b[0;36m<module>\u001b[0;34m()\u001b[0m\n\u001b[1;32m      1\u001b[0m \u001b[0;32mfor\u001b[0m \u001b[0mx\u001b[0m \u001b[0;32min\u001b[0m \u001b[0mall_inputs\u001b[0m\u001b[0;34m:\u001b[0m\u001b[0;34m\u001b[0m\u001b[0m\n\u001b[1;32m      2\u001b[0m     \u001b[0;31m#kernel_size = [4,3,2] if x == headlines else [20,5,2]\u001b[0m\u001b[0;34m\u001b[0m\u001b[0;34m\u001b[0m\u001b[0m\n\u001b[0;32m----> 3\u001b[0;31m     \u001b[0mnn\u001b[0m\u001b[0;34m.\u001b[0m\u001b[0mcnn\u001b[0m\u001b[0;34m(\u001b[0m\u001b[0mx\u001b[0m\u001b[0;34m)\u001b[0m\u001b[0;31m#, epochs=10, kernel_size=kernel_size)\u001b[0m\u001b[0;34m\u001b[0m\u001b[0m\n\u001b[0m",
      "\u001b[0;32m~/Documents/NLP/w266-final-project/neural_net.py\u001b[0m in \u001b[0;36mcnn\u001b[0;34m(self, sv_obj, num_layers, filters, kernel_size, epochs)\u001b[0m\n\u001b[1;32m    127\u001b[0m                         \u001b[0mloss\u001b[0m\u001b[0;34m=\u001b[0m\u001b[0;34m'sparse_categorical_crossentropy'\u001b[0m\u001b[0;34m,\u001b[0m\u001b[0;34m\u001b[0m\u001b[0m\n\u001b[1;32m    128\u001b[0m \t\t\tmetrics=['accuracy'])\n\u001b[0;32m--> 129\u001b[0;31m \u001b[0;34m\u001b[0m\u001b[0m\n\u001b[0m\u001b[1;32m    130\u001b[0m                 \u001b[0mmodel\u001b[0m\u001b[0;34m.\u001b[0m\u001b[0mfit\u001b[0m\u001b[0;34m(\u001b[0m\u001b[0mtrain_data\u001b[0m\u001b[0;34m,\u001b[0m \u001b[0mtrain_labels\u001b[0m\u001b[0;34m,\u001b[0m \u001b[0mepochs\u001b[0m\u001b[0;34m=\u001b[0m\u001b[0mepochs\u001b[0m\u001b[0;34m)\u001b[0m\u001b[0;34m\u001b[0m\u001b[0m\n\u001b[1;32m    131\u001b[0m                 \u001b[0msv_obj\u001b[0m\u001b[0;34m.\u001b[0m\u001b[0mnn_model_\u001b[0m \u001b[0;34m=\u001b[0m \u001b[0mmodel\u001b[0m\u001b[0;34m\u001b[0m\u001b[0m\n",
      "\u001b[0;32m/Library/Frameworks/Python.framework/Versions/3.6/lib/python3.6/site-packages/tensorflow/python/keras/_impl/keras/engine/training.py\u001b[0m in \u001b[0;36mfit\u001b[0;34m(self, x, y, batch_size, epochs, verbose, callbacks, validation_split, validation_data, shuffle, class_weight, sample_weight, initial_epoch, steps_per_epoch, validation_steps, **kwargs)\u001b[0m\n\u001b[1;32m   1214\u001b[0m           \u001b[0minitial_epoch\u001b[0m\u001b[0;34m=\u001b[0m\u001b[0minitial_epoch\u001b[0m\u001b[0;34m,\u001b[0m\u001b[0;34m\u001b[0m\u001b[0m\n\u001b[1;32m   1215\u001b[0m           \u001b[0msteps_per_epoch\u001b[0m\u001b[0;34m=\u001b[0m\u001b[0msteps_per_epoch\u001b[0m\u001b[0;34m,\u001b[0m\u001b[0;34m\u001b[0m\u001b[0m\n\u001b[0;32m-> 1216\u001b[0;31m           validation_steps=validation_steps)\n\u001b[0m\u001b[1;32m   1217\u001b[0m \u001b[0;34m\u001b[0m\u001b[0m\n\u001b[1;32m   1218\u001b[0m   def evaluate(self,\n",
      "\u001b[0;32m/Library/Frameworks/Python.framework/Versions/3.6/lib/python3.6/site-packages/tensorflow/python/keras/_impl/keras/engine/training_arrays.py\u001b[0m in \u001b[0;36mfit_loop\u001b[0;34m(model, inputs, targets, sample_weights, batch_size, epochs, verbose, callbacks, val_inputs, val_targets, val_sample_weights, shuffle, callback_metrics, initial_epoch, steps_per_epoch, validation_steps)\u001b[0m\n\u001b[1;32m    243\u001b[0m           \u001b[0mins_batch\u001b[0m\u001b[0;34m[\u001b[0m\u001b[0mi\u001b[0m\u001b[0;34m]\u001b[0m \u001b[0;34m=\u001b[0m \u001b[0mins_batch\u001b[0m\u001b[0;34m[\u001b[0m\u001b[0mi\u001b[0m\u001b[0;34m]\u001b[0m\u001b[0;34m.\u001b[0m\u001b[0mtoarray\u001b[0m\u001b[0;34m(\u001b[0m\u001b[0;34m)\u001b[0m\u001b[0;34m\u001b[0m\u001b[0m\n\u001b[1;32m    244\u001b[0m \u001b[0;34m\u001b[0m\u001b[0m\n\u001b[0;32m--> 245\u001b[0;31m         \u001b[0mouts\u001b[0m \u001b[0;34m=\u001b[0m \u001b[0mf\u001b[0m\u001b[0;34m(\u001b[0m\u001b[0mins_batch\u001b[0m\u001b[0;34m)\u001b[0m\u001b[0;34m\u001b[0m\u001b[0m\n\u001b[0m\u001b[1;32m    246\u001b[0m         \u001b[0;32mif\u001b[0m \u001b[0;32mnot\u001b[0m \u001b[0misinstance\u001b[0m\u001b[0;34m(\u001b[0m\u001b[0mouts\u001b[0m\u001b[0;34m,\u001b[0m \u001b[0mlist\u001b[0m\u001b[0;34m)\u001b[0m\u001b[0;34m:\u001b[0m\u001b[0;34m\u001b[0m\u001b[0m\n\u001b[1;32m    247\u001b[0m           \u001b[0mouts\u001b[0m \u001b[0;34m=\u001b[0m \u001b[0;34m[\u001b[0m\u001b[0mouts\u001b[0m\u001b[0;34m]\u001b[0m\u001b[0;34m\u001b[0m\u001b[0m\n",
      "\u001b[0;32m/Library/Frameworks/Python.framework/Versions/3.6/lib/python3.6/site-packages/tensorflow/python/keras/_impl/keras/backend.py\u001b[0m in \u001b[0;36m__call__\u001b[0;34m(self, inputs)\u001b[0m\n\u001b[1;32m   2822\u001b[0m     \u001b[0mfetches\u001b[0m \u001b[0;34m=\u001b[0m \u001b[0mself\u001b[0m\u001b[0;34m.\u001b[0m\u001b[0moutputs\u001b[0m \u001b[0;34m+\u001b[0m \u001b[0;34m[\u001b[0m\u001b[0mself\u001b[0m\u001b[0;34m.\u001b[0m\u001b[0mupdates_op\u001b[0m\u001b[0;34m]\u001b[0m \u001b[0;34m+\u001b[0m \u001b[0mself\u001b[0m\u001b[0;34m.\u001b[0m\u001b[0mfetches\u001b[0m\u001b[0;34m\u001b[0m\u001b[0m\n\u001b[1;32m   2823\u001b[0m     updated = session.run(\n\u001b[0;32m-> 2824\u001b[0;31m         fetches=fetches, feed_dict=feed_dict, **self.session_kwargs)\n\u001b[0m\u001b[1;32m   2825\u001b[0m     \u001b[0;32mreturn\u001b[0m \u001b[0mupdated\u001b[0m\u001b[0;34m[\u001b[0m\u001b[0;34m:\u001b[0m\u001b[0mlen\u001b[0m\u001b[0;34m(\u001b[0m\u001b[0mself\u001b[0m\u001b[0;34m.\u001b[0m\u001b[0moutputs\u001b[0m\u001b[0;34m)\u001b[0m\u001b[0;34m]\u001b[0m\u001b[0;34m\u001b[0m\u001b[0m\n\u001b[1;32m   2826\u001b[0m \u001b[0;34m\u001b[0m\u001b[0m\n",
      "\u001b[0;32m/Library/Frameworks/Python.framework/Versions/3.6/lib/python3.6/site-packages/tensorflow/python/client/session.py\u001b[0m in \u001b[0;36mrun\u001b[0;34m(self, fetches, feed_dict, options, run_metadata)\u001b[0m\n\u001b[1;32m    898\u001b[0m     \u001b[0;32mtry\u001b[0m\u001b[0;34m:\u001b[0m\u001b[0;34m\u001b[0m\u001b[0m\n\u001b[1;32m    899\u001b[0m       result = self._run(None, fetches, feed_dict, options_ptr,\n\u001b[0;32m--> 900\u001b[0;31m                          run_metadata_ptr)\n\u001b[0m\u001b[1;32m    901\u001b[0m       \u001b[0;32mif\u001b[0m \u001b[0mrun_metadata\u001b[0m\u001b[0;34m:\u001b[0m\u001b[0;34m\u001b[0m\u001b[0m\n\u001b[1;32m    902\u001b[0m         \u001b[0mproto_data\u001b[0m \u001b[0;34m=\u001b[0m \u001b[0mtf_session\u001b[0m\u001b[0;34m.\u001b[0m\u001b[0mTF_GetBuffer\u001b[0m\u001b[0;34m(\u001b[0m\u001b[0mrun_metadata_ptr\u001b[0m\u001b[0;34m)\u001b[0m\u001b[0;34m\u001b[0m\u001b[0m\n",
      "\u001b[0;32m/Library/Frameworks/Python.framework/Versions/3.6/lib/python3.6/site-packages/tensorflow/python/client/session.py\u001b[0m in \u001b[0;36m_run\u001b[0;34m(self, handle, fetches, feed_dict, options, run_metadata)\u001b[0m\n\u001b[1;32m   1133\u001b[0m     \u001b[0;32mif\u001b[0m \u001b[0mfinal_fetches\u001b[0m \u001b[0;32mor\u001b[0m \u001b[0mfinal_targets\u001b[0m \u001b[0;32mor\u001b[0m \u001b[0;34m(\u001b[0m\u001b[0mhandle\u001b[0m \u001b[0;32mand\u001b[0m \u001b[0mfeed_dict_tensor\u001b[0m\u001b[0;34m)\u001b[0m\u001b[0;34m:\u001b[0m\u001b[0;34m\u001b[0m\u001b[0m\n\u001b[1;32m   1134\u001b[0m       results = self._do_run(handle, final_targets, final_fetches,\n\u001b[0;32m-> 1135\u001b[0;31m                              feed_dict_tensor, options, run_metadata)\n\u001b[0m\u001b[1;32m   1136\u001b[0m     \u001b[0;32melse\u001b[0m\u001b[0;34m:\u001b[0m\u001b[0;34m\u001b[0m\u001b[0m\n\u001b[1;32m   1137\u001b[0m       \u001b[0mresults\u001b[0m \u001b[0;34m=\u001b[0m \u001b[0;34m[\u001b[0m\u001b[0;34m]\u001b[0m\u001b[0;34m\u001b[0m\u001b[0m\n",
      "\u001b[0;32m/Library/Frameworks/Python.framework/Versions/3.6/lib/python3.6/site-packages/tensorflow/python/client/session.py\u001b[0m in \u001b[0;36m_do_run\u001b[0;34m(self, handle, target_list, fetch_list, feed_dict, options, run_metadata)\u001b[0m\n\u001b[1;32m   1314\u001b[0m     \u001b[0;32mif\u001b[0m \u001b[0mhandle\u001b[0m \u001b[0;32mis\u001b[0m \u001b[0;32mNone\u001b[0m\u001b[0;34m:\u001b[0m\u001b[0;34m\u001b[0m\u001b[0m\n\u001b[1;32m   1315\u001b[0m       return self._do_call(_run_fn, feeds, fetches, targets, options,\n\u001b[0;32m-> 1316\u001b[0;31m                            run_metadata)\n\u001b[0m\u001b[1;32m   1317\u001b[0m     \u001b[0;32melse\u001b[0m\u001b[0;34m:\u001b[0m\u001b[0;34m\u001b[0m\u001b[0m\n\u001b[1;32m   1318\u001b[0m       \u001b[0;32mreturn\u001b[0m \u001b[0mself\u001b[0m\u001b[0;34m.\u001b[0m\u001b[0m_do_call\u001b[0m\u001b[0;34m(\u001b[0m\u001b[0m_prun_fn\u001b[0m\u001b[0;34m,\u001b[0m \u001b[0mhandle\u001b[0m\u001b[0;34m,\u001b[0m \u001b[0mfeeds\u001b[0m\u001b[0;34m,\u001b[0m \u001b[0mfetches\u001b[0m\u001b[0;34m)\u001b[0m\u001b[0;34m\u001b[0m\u001b[0m\n",
      "\u001b[0;32m/Library/Frameworks/Python.framework/Versions/3.6/lib/python3.6/site-packages/tensorflow/python/client/session.py\u001b[0m in \u001b[0;36m_do_call\u001b[0;34m(self, fn, *args)\u001b[0m\n\u001b[1;32m   1320\u001b[0m   \u001b[0;32mdef\u001b[0m \u001b[0m_do_call\u001b[0m\u001b[0;34m(\u001b[0m\u001b[0mself\u001b[0m\u001b[0;34m,\u001b[0m \u001b[0mfn\u001b[0m\u001b[0;34m,\u001b[0m \u001b[0;34m*\u001b[0m\u001b[0margs\u001b[0m\u001b[0;34m)\u001b[0m\u001b[0;34m:\u001b[0m\u001b[0;34m\u001b[0m\u001b[0m\n\u001b[1;32m   1321\u001b[0m     \u001b[0;32mtry\u001b[0m\u001b[0;34m:\u001b[0m\u001b[0;34m\u001b[0m\u001b[0m\n\u001b[0;32m-> 1322\u001b[0;31m       \u001b[0;32mreturn\u001b[0m \u001b[0mfn\u001b[0m\u001b[0;34m(\u001b[0m\u001b[0;34m*\u001b[0m\u001b[0margs\u001b[0m\u001b[0;34m)\u001b[0m\u001b[0;34m\u001b[0m\u001b[0m\n\u001b[0m\u001b[1;32m   1323\u001b[0m     \u001b[0;32mexcept\u001b[0m \u001b[0merrors\u001b[0m\u001b[0;34m.\u001b[0m\u001b[0mOpError\u001b[0m \u001b[0;32mas\u001b[0m \u001b[0me\u001b[0m\u001b[0;34m:\u001b[0m\u001b[0;34m\u001b[0m\u001b[0m\n\u001b[1;32m   1324\u001b[0m       \u001b[0mmessage\u001b[0m \u001b[0;34m=\u001b[0m \u001b[0mcompat\u001b[0m\u001b[0;34m.\u001b[0m\u001b[0mas_text\u001b[0m\u001b[0;34m(\u001b[0m\u001b[0me\u001b[0m\u001b[0;34m.\u001b[0m\u001b[0mmessage\u001b[0m\u001b[0;34m)\u001b[0m\u001b[0;34m\u001b[0m\u001b[0m\n",
      "\u001b[0;32m/Library/Frameworks/Python.framework/Versions/3.6/lib/python3.6/site-packages/tensorflow/python/client/session.py\u001b[0m in \u001b[0;36m_run_fn\u001b[0;34m(feed_dict, fetch_list, target_list, options, run_metadata)\u001b[0m\n\u001b[1;32m   1305\u001b[0m       \u001b[0mself\u001b[0m\u001b[0;34m.\u001b[0m\u001b[0m_extend_graph\u001b[0m\u001b[0;34m(\u001b[0m\u001b[0;34m)\u001b[0m\u001b[0;34m\u001b[0m\u001b[0m\n\u001b[1;32m   1306\u001b[0m       return self._call_tf_sessionrun(\n\u001b[0;32m-> 1307\u001b[0;31m           options, feed_dict, fetch_list, target_list, run_metadata)\n\u001b[0m\u001b[1;32m   1308\u001b[0m \u001b[0;34m\u001b[0m\u001b[0m\n\u001b[1;32m   1309\u001b[0m     \u001b[0;32mdef\u001b[0m \u001b[0m_prun_fn\u001b[0m\u001b[0;34m(\u001b[0m\u001b[0mhandle\u001b[0m\u001b[0;34m,\u001b[0m \u001b[0mfeed_dict\u001b[0m\u001b[0;34m,\u001b[0m \u001b[0mfetch_list\u001b[0m\u001b[0;34m)\u001b[0m\u001b[0;34m:\u001b[0m\u001b[0;34m\u001b[0m\u001b[0m\n",
      "\u001b[0;32m/Library/Frameworks/Python.framework/Versions/3.6/lib/python3.6/site-packages/tensorflow/python/client/session.py\u001b[0m in \u001b[0;36m_call_tf_sessionrun\u001b[0;34m(self, options, feed_dict, fetch_list, target_list, run_metadata)\u001b[0m\n\u001b[1;32m   1407\u001b[0m       return tf_session.TF_SessionRun_wrapper(\n\u001b[1;32m   1408\u001b[0m           \u001b[0mself\u001b[0m\u001b[0;34m.\u001b[0m\u001b[0m_session\u001b[0m\u001b[0;34m,\u001b[0m \u001b[0moptions\u001b[0m\u001b[0;34m,\u001b[0m \u001b[0mfeed_dict\u001b[0m\u001b[0;34m,\u001b[0m \u001b[0mfetch_list\u001b[0m\u001b[0;34m,\u001b[0m \u001b[0mtarget_list\u001b[0m\u001b[0;34m,\u001b[0m\u001b[0;34m\u001b[0m\u001b[0m\n\u001b[0;32m-> 1409\u001b[0;31m           run_metadata)\n\u001b[0m\u001b[1;32m   1410\u001b[0m     \u001b[0;32melse\u001b[0m\u001b[0;34m:\u001b[0m\u001b[0;34m\u001b[0m\u001b[0m\n\u001b[1;32m   1411\u001b[0m       \u001b[0;32mwith\u001b[0m \u001b[0merrors\u001b[0m\u001b[0;34m.\u001b[0m\u001b[0mraise_exception_on_not_ok_status\u001b[0m\u001b[0;34m(\u001b[0m\u001b[0;34m)\u001b[0m \u001b[0;32mas\u001b[0m \u001b[0mstatus\u001b[0m\u001b[0;34m:\u001b[0m\u001b[0;34m\u001b[0m\u001b[0m\n",
      "\u001b[0;31mKeyboardInterrupt\u001b[0m: "
     ]
    }
   ],
   "source": [
    "for x in all_inputs:\n",
    "    kernel_size = [4,3,2] if x == headlines else [20,5,2]\n",
    "    nn.cnn(x, kernel_size=kernel_size)"
   ]
  },
  {
   "cell_type": "markdown",
   "metadata": {},
   "source": [
    "### Key Statistics"
   ]
  },
  {
   "cell_type": "code",
   "execution_count": 65,
   "metadata": {},
   "outputs": [
    {
     "data": {
      "text/html": [
       "<table><th>Model Input</th><th>Training Vocab</th><th>Padding Size</th><th>Vocab After Padding</th><th>Test Accuracy</th><tr><td>Full Text</td><td>70,033</td><td>500</td><td>54,814</td><td>0.104</td></tr><tr><td>Lead Paragraph</td><td>32,247</td><td>137</td><td>28,113</td><td>0.030</td></tr><tr><td>Headlines</td><td>8,920</td><td>10</td><td>8,660</td><td>0.080</td></tr><tr><td>Nouns Only</td><td>51,998</td><td>373</td><td>49,192</td><td>0.101</td></tr><tr><td>Lemmatized</td><td>60,518</td><td>500</td><td>45,811</td><td>0.118</td></tr></table>"
      ],
      "text/plain": [
       "<IPython.core.display.HTML object>"
      ]
     },
     "metadata": {},
     "output_type": "display_data"
    }
   ],
   "source": [
    "html = '<table><th>Model Input</th><th>Training Vocab</th><th>Padding Size</th>'\n",
    "html += '<th>Vocab After Padding</th><th>Test Accuracy</th>'\n",
    "\n",
    "for x in all_inputs:\n",
    "    html += '<tr><td>{}</td><td>{:,}</td><td>{:,}</td>'.format(x.name_, int(round(x.train_vocab_size_ * 0.8, 0)), x.train_ids.shape[1])\n",
    "    html += '<td>{:,}</td><td>{:.3f}</td></tr>'.format(x.nn_effective_vocab_, x.nn_accuracy_)\n",
    "\n",
    "html += '</table>'\n",
    "display(HTML(html))"
   ]
  },
  {
   "cell_type": "markdown",
   "metadata": {},
   "source": [
    "# Error Analysis"
   ]
  },
  {
   "cell_type": "code",
   "execution_count": null,
   "metadata": {},
   "outputs": [],
   "source": [
    "from sklearn.metrics import classification_report, confusion_matrix"
   ]
  },
  {
   "cell_type": "code",
   "execution_count": null,
   "metadata": {
    "scrolled": false
   },
   "outputs": [],
   "source": [
    "for x in [full_text]:#, lead_para, headlines, nouns, lemmas]:\n",
    "    print('\\n', x.name_, ':')\n",
    "    print(classification_report(x.dev_labels, x.best_mnb_model_.predict(x.tv_dev)))\n",
    "    print(confusion_matrix(x.dev_labels, x.best_mnb_model_.predict(x.tv_dev), labels=list(x.dev_labels.unique())))"
   ]
  },
  {
   "cell_type": "code",
   "execution_count": null,
   "metadata": {},
   "outputs": [],
   "source": [
    "x.dev_labels.unique()"
   ]
  },
  {
   "cell_type": "code",
   "execution_count": null,
   "metadata": {},
   "outputs": [],
   "source": []
  }
 ],
 "metadata": {
  "kernelspec": {
   "display_name": "Python 3",
   "language": "python",
   "name": "python3"
  },
  "language_info": {
   "codemirror_mode": {
    "name": "ipython",
    "version": 3
   },
   "file_extension": ".py",
   "mimetype": "text/x-python",
   "name": "python",
   "nbconvert_exporter": "python",
   "pygments_lexer": "ipython3",
   "version": "3.6.5"
  }
 },
 "nbformat": 4,
 "nbformat_minor": 2
}
