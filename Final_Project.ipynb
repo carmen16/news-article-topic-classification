{
 "cells": [
  {
   "cell_type": "markdown",
   "metadata": {},
   "source": [
    "# Packages"
   ]
  },
  {
   "cell_type": "code",
   "execution_count": 1,
   "metadata": {},
   "outputs": [],
   "source": [
    "# Helpful packages\n",
    "import pandas as pd\n",
    "import numpy as np\n",
    "import matplotlib.pyplot as plt\n",
    "%matplotlib inline\n",
    "\n",
    "from importlib import reload\n",
    "import split_vectorize\n",
    "import base_models\n",
    "import neural_nets\n",
    "\n",
    "from IPython.display import display, HTML"
   ]
  },
  {
   "cell_type": "markdown",
   "metadata": {},
   "source": [
    "# Get Data\n",
    "\n",
    "Choose how many rows of data you want to work with by filling in the n value below."
   ]
  },
  {
   "cell_type": "code",
   "execution_count": 2,
   "metadata": {},
   "outputs": [],
   "source": [
    "n = 10000"
   ]
  },
  {
   "cell_type": "markdown",
   "metadata": {},
   "source": [
    "Uncomment the line below to create a new data file with a random sample of `n` articles. Otherwise, skip to the next cell to import an existing file with `n` articles."
   ]
  },
  {
   "cell_type": "code",
   "execution_count": 3,
   "metadata": {},
   "outputs": [],
   "source": [
    "# %run parse_corpus.py $n"
   ]
  },
  {
   "cell_type": "code",
   "execution_count": 3,
   "metadata": {},
   "outputs": [
    {
     "data": {
      "text/html": [
       "<div>\n",
       "<style scoped>\n",
       "    .dataframe tbody tr th:only-of-type {\n",
       "        vertical-align: middle;\n",
       "    }\n",
       "\n",
       "    .dataframe tbody tr th {\n",
       "        vertical-align: top;\n",
       "    }\n",
       "\n",
       "    .dataframe thead th {\n",
       "        text-align: right;\n",
       "    }\n",
       "</style>\n",
       "<table border=\"1\" class=\"dataframe\">\n",
       "  <thead>\n",
       "    <tr style=\"text-align: right;\">\n",
       "      <th></th>\n",
       "      <th>abstract</th>\n",
       "      <th>author_info</th>\n",
       "      <th>copyright_holder</th>\n",
       "      <th>copyright_year</th>\n",
       "      <th>descriptor</th>\n",
       "      <th>desk</th>\n",
       "      <th>full_text</th>\n",
       "      <th>general_descriptor</th>\n",
       "      <th>headline</th>\n",
       "      <th>id</th>\n",
       "      <th>...</th>\n",
       "      <th>print_page_number</th>\n",
       "      <th>print_section</th>\n",
       "      <th>publication_day_of_month</th>\n",
       "      <th>publication_day_of_week</th>\n",
       "      <th>publication_month</th>\n",
       "      <th>publication_year</th>\n",
       "      <th>series_name</th>\n",
       "      <th>taxonomic_classifier</th>\n",
       "      <th>title</th>\n",
       "      <th>types_of_material</th>\n",
       "    </tr>\n",
       "  </thead>\n",
       "  <tbody>\n",
       "    <tr>\n",
       "      <th>0</th>\n",
       "      <td>NaN</td>\n",
       "      <td>NaN</td>\n",
       "      <td>The New York Times</td>\n",
       "      <td>1992.0</td>\n",
       "      <td>NaN</td>\n",
       "      <td>Financial Desk</td>\n",
       "      <td>The Bethlehem Steel Corporation, after report...</td>\n",
       "      <td>['Layoffs and Job Reductions', 'Labor']</td>\n",
       "      <td>Bethlehem Halts Dividends And Plans Cuts After...</td>\n",
       "      <td>504309</td>\n",
       "      <td>...</td>\n",
       "      <td>1.0</td>\n",
       "      <td>D</td>\n",
       "      <td>30.0</td>\n",
       "      <td>Thursday</td>\n",
       "      <td>1.0</td>\n",
       "      <td>1992.0</td>\n",
       "      <td>NaN</td>\n",
       "      <td>['Top/News/Business']</td>\n",
       "      <td>Bethlehem Halts Dividends And Plans Cuts After...</td>\n",
       "      <td>NaN</td>\n",
       "    </tr>\n",
       "    <tr>\n",
       "      <th>1</th>\n",
       "      <td>NaN</td>\n",
       "      <td>NaN</td>\n",
       "      <td>The New York Times</td>\n",
       "      <td>1996.0</td>\n",
       "      <td>NaN</td>\n",
       "      <td>Foreign Desk</td>\n",
       "      <td>Seeking to raise morale at home and improve i...</td>\n",
       "      <td>['Elections', 'Politics and Government']</td>\n",
       "      <td>World News Briefs;Iraqis Elect Parliament Pre-...</td>\n",
       "      <td>839267</td>\n",
       "      <td>...</td>\n",
       "      <td>5.0</td>\n",
       "      <td>A</td>\n",
       "      <td>25.0</td>\n",
       "      <td>Monday</td>\n",
       "      <td>3.0</td>\n",
       "      <td>1996.0</td>\n",
       "      <td>NaN</td>\n",
       "      <td>['Top/News', 'Top/News/World/Countries and Ter...</td>\n",
       "      <td>World News Briefs;Iraqis Elect Parliament Pre-...</td>\n",
       "      <td>NaN</td>\n",
       "    </tr>\n",
       "    <tr>\n",
       "      <th>2</th>\n",
       "      <td>Editorial urges British Museum to approach Pa...</td>\n",
       "      <td>NaN</td>\n",
       "      <td>The New York Times</td>\n",
       "      <td>2002.0</td>\n",
       "      <td>['Christians and Christianity', 'Art']</td>\n",
       "      <td>Editorial Desk</td>\n",
       "      <td>By the time Lord Elgin obtained the authority...</td>\n",
       "      <td>['Games', 'Sculpture', 'Archaeology and Anthro...</td>\n",
       "      <td>Return the Parthenon Marbles</td>\n",
       "      <td>1364306</td>\n",
       "      <td>...</td>\n",
       "      <td>18.0</td>\n",
       "      <td>A</td>\n",
       "      <td>2.0</td>\n",
       "      <td>Saturday</td>\n",
       "      <td>2.0</td>\n",
       "      <td>2002.0</td>\n",
       "      <td>NaN</td>\n",
       "      <td>['Top/Opinion', 'Top/Opinion/Opinion', 'Top/Op...</td>\n",
       "      <td>Return the Parthenon Marbles</td>\n",
       "      <td>['Editorial']</td>\n",
       "    </tr>\n",
       "    <tr>\n",
       "      <th>3</th>\n",
       "      <td>NaN</td>\n",
       "      <td>NaN</td>\n",
       "      <td>The New York Times</td>\n",
       "      <td>2002.0</td>\n",
       "      <td>NaN</td>\n",
       "      <td>Classified</td>\n",
       "      <td>SPEIER-Claire. Born New York City. Age 70. Gr...</td>\n",
       "      <td>NaN</td>\n",
       "      <td>Paid Notice: Deaths  SPEIER, CLAIRE</td>\n",
       "      <td>1404294</td>\n",
       "      <td>...</td>\n",
       "      <td>15.0</td>\n",
       "      <td>C</td>\n",
       "      <td>28.0</td>\n",
       "      <td>Friday</td>\n",
       "      <td>6.0</td>\n",
       "      <td>2002.0</td>\n",
       "      <td>NaN</td>\n",
       "      <td>['Top/Classifieds/Paid Death Notices']</td>\n",
       "      <td>Paid Notice: Deaths  SPEIER, CLAIRE</td>\n",
       "      <td>['Paid Death Notice']</td>\n",
       "    </tr>\n",
       "    <tr>\n",
       "      <th>4</th>\n",
       "      <td>NaN</td>\n",
       "      <td>NaN</td>\n",
       "      <td>The New York Times</td>\n",
       "      <td>1988.0</td>\n",
       "      <td>NaN</td>\n",
       "      <td>National Desk</td>\n",
       "      <td>LEAD: The Japanese videotape begins with the ...</td>\n",
       "      <td>['Recordings (Audio)', 'Recordings (Video)', '...</td>\n",
       "      <td>Not Fit to Import?</td>\n",
       "      <td>130413</td>\n",
       "      <td>...</td>\n",
       "      <td>8.0</td>\n",
       "      <td>B</td>\n",
       "      <td>25.0</td>\n",
       "      <td>Friday</td>\n",
       "      <td>3.0</td>\n",
       "      <td>1988.0</td>\n",
       "      <td>WASHINGTON TALK: BRIEFING</td>\n",
       "      <td>['Top/News/U.S.', 'Top/Features/Travel/Guides/...</td>\n",
       "      <td>Not Fit to Import?</td>\n",
       "      <td>NaN</td>\n",
       "    </tr>\n",
       "  </tbody>\n",
       "</table>\n",
       "<p>5 rows × 32 columns</p>\n",
       "</div>"
      ],
      "text/plain": [
       "                                            abstract author_info  \\\n",
       "0                                                NaN         NaN   \n",
       "1                                                NaN         NaN   \n",
       "2   Editorial urges British Museum to approach Pa...         NaN   \n",
       "3                                                NaN         NaN   \n",
       "4                                                NaN         NaN   \n",
       "\n",
       "     copyright_holder  copyright_year                              descriptor  \\\n",
       "0  The New York Times          1992.0                                     NaN   \n",
       "1  The New York Times          1996.0                                     NaN   \n",
       "2  The New York Times          2002.0  ['Christians and Christianity', 'Art']   \n",
       "3  The New York Times          2002.0                                     NaN   \n",
       "4  The New York Times          1988.0                                     NaN   \n",
       "\n",
       "             desk                                          full_text  \\\n",
       "0  Financial Desk   The Bethlehem Steel Corporation, after report...   \n",
       "1    Foreign Desk   Seeking to raise morale at home and improve i...   \n",
       "2  Editorial Desk   By the time Lord Elgin obtained the authority...   \n",
       "3      Classified   SPEIER-Claire. Born New York City. Age 70. Gr...   \n",
       "4   National Desk   LEAD: The Japanese videotape begins with the ...   \n",
       "\n",
       "                                  general_descriptor  \\\n",
       "0            ['Layoffs and Job Reductions', 'Labor']   \n",
       "1           ['Elections', 'Politics and Government']   \n",
       "2  ['Games', 'Sculpture', 'Archaeology and Anthro...   \n",
       "3                                                NaN   \n",
       "4  ['Recordings (Audio)', 'Recordings (Video)', '...   \n",
       "\n",
       "                                            headline       id  \\\n",
       "0  Bethlehem Halts Dividends And Plans Cuts After...   504309   \n",
       "1  World News Briefs;Iraqis Elect Parliament Pre-...   839267   \n",
       "2                       Return the Parthenon Marbles  1364306   \n",
       "3                Paid Notice: Deaths  SPEIER, CLAIRE  1404294   \n",
       "4                                 Not Fit to Import?   130413   \n",
       "\n",
       "           ...           print_page_number print_section  \\\n",
       "0          ...                         1.0             D   \n",
       "1          ...                         5.0             A   \n",
       "2          ...                        18.0             A   \n",
       "3          ...                        15.0             C   \n",
       "4          ...                         8.0             B   \n",
       "\n",
       "  publication_day_of_month publication_day_of_week publication_month  \\\n",
       "0                     30.0                Thursday               1.0   \n",
       "1                     25.0                  Monday               3.0   \n",
       "2                      2.0                Saturday               2.0   \n",
       "3                     28.0                  Friday               6.0   \n",
       "4                     25.0                  Friday               3.0   \n",
       "\n",
       "   publication_year                series_name  \\\n",
       "0            1992.0                        NaN   \n",
       "1            1996.0                        NaN   \n",
       "2            2002.0                        NaN   \n",
       "3            2002.0                        NaN   \n",
       "4            1988.0  WASHINGTON TALK: BRIEFING   \n",
       "\n",
       "                                taxonomic_classifier  \\\n",
       "0                              ['Top/News/Business']   \n",
       "1  ['Top/News', 'Top/News/World/Countries and Ter...   \n",
       "2  ['Top/Opinion', 'Top/Opinion/Opinion', 'Top/Op...   \n",
       "3             ['Top/Classifieds/Paid Death Notices']   \n",
       "4  ['Top/News/U.S.', 'Top/Features/Travel/Guides/...   \n",
       "\n",
       "                                               title      types_of_material  \n",
       "0  Bethlehem Halts Dividends And Plans Cuts After...                    NaN  \n",
       "1  World News Briefs;Iraqis Elect Parliament Pre-...                    NaN  \n",
       "2                       Return the Parthenon Marbles          ['Editorial']  \n",
       "3                Paid Notice: Deaths  SPEIER, CLAIRE  ['Paid Death Notice']  \n",
       "4                                 Not Fit to Import?                    NaN  \n",
       "\n",
       "[5 rows x 32 columns]"
      ]
     },
     "execution_count": 3,
     "metadata": {},
     "output_type": "execute_result"
    }
   ],
   "source": [
    "df = pd.read_csv('data/nyt_corpus_'+str(n)+'.csv')\n",
    "df.shape\n",
    "df.head()"
   ]
  },
  {
   "cell_type": "markdown",
   "metadata": {},
   "source": [
    "### Possible Model Outputs"
   ]
  },
  {
   "cell_type": "markdown",
   "metadata": {},
   "source": [
    "There are multiple columns that could be used as the target variable in classification models. I will use `desk` since it has the lowest percentage of nulls and it never assigns multiple labels to an article."
   ]
  },
  {
   "cell_type": "code",
   "execution_count": 4,
   "metadata": {},
   "outputs": [
    {
     "data": {
      "text/html": [
       "<div>\n",
       "<style scoped>\n",
       "    .dataframe tbody tr th:only-of-type {\n",
       "        vertical-align: middle;\n",
       "    }\n",
       "\n",
       "    .dataframe tbody tr th {\n",
       "        vertical-align: top;\n",
       "    }\n",
       "\n",
       "    .dataframe thead th {\n",
       "        text-align: right;\n",
       "    }\n",
       "</style>\n",
       "<table border=\"1\" class=\"dataframe\">\n",
       "  <thead>\n",
       "    <tr style=\"text-align: right;\">\n",
       "      <th></th>\n",
       "      <th>desk</th>\n",
       "      <th>general_descriptor</th>\n",
       "      <th>online_sections</th>\n",
       "      <th>taxonomic_classifier</th>\n",
       "    </tr>\n",
       "  </thead>\n",
       "  <tbody>\n",
       "    <tr>\n",
       "      <th>9995</th>\n",
       "      <td>Editorial Desk</td>\n",
       "      <td>NaN</td>\n",
       "      <td>Opinion</td>\n",
       "      <td>['Top/Opinion/Opinion/Letters', 'Top/Opinion',...</td>\n",
       "    </tr>\n",
       "    <tr>\n",
       "      <th>9996</th>\n",
       "      <td>National Desk</td>\n",
       "      <td>NaN</td>\n",
       "      <td>U.S.</td>\n",
       "      <td>['Top/News/U.S.', 'Top/News']</td>\n",
       "    </tr>\n",
       "    <tr>\n",
       "      <th>9997</th>\n",
       "      <td>Metropolitan Desk</td>\n",
       "      <td>NaN</td>\n",
       "      <td>New York and Region</td>\n",
       "      <td>['Top/News/New York and Region']</td>\n",
       "    </tr>\n",
       "    <tr>\n",
       "      <th>9998</th>\n",
       "      <td>Classified</td>\n",
       "      <td>NaN</td>\n",
       "      <td>Paid Death Notices</td>\n",
       "      <td>['Top/Classifieds/Paid Death Notices']</td>\n",
       "    </tr>\n",
       "    <tr>\n",
       "      <th>9999</th>\n",
       "      <td>Leisure/Weekend Desk</td>\n",
       "      <td>NaN</td>\n",
       "      <td>Arts</td>\n",
       "      <td>['Top/Features/Arts']</td>\n",
       "    </tr>\n",
       "  </tbody>\n",
       "</table>\n",
       "</div>"
      ],
      "text/plain": [
       "                      desk general_descriptor      online_sections  \\\n",
       "9995        Editorial Desk                NaN              Opinion   \n",
       "9996         National Desk                NaN                 U.S.   \n",
       "9997     Metropolitan Desk                NaN  New York and Region   \n",
       "9998            Classified                NaN   Paid Death Notices   \n",
       "9999  Leisure/Weekend Desk                NaN                 Arts   \n",
       "\n",
       "                                   taxonomic_classifier  \n",
       "9995  ['Top/Opinion/Opinion/Letters', 'Top/Opinion',...  \n",
       "9996                      ['Top/News/U.S.', 'Top/News']  \n",
       "9997                   ['Top/News/New York and Region']  \n",
       "9998             ['Top/Classifieds/Paid Death Notices']  \n",
       "9999                              ['Top/Features/Arts']  "
      ]
     },
     "execution_count": 4,
     "metadata": {},
     "output_type": "execute_result"
    }
   ],
   "source": [
    "df[['desk','general_descriptor','online_sections','taxonomic_classifier']][-5:]"
   ]
  },
  {
   "cell_type": "markdown",
   "metadata": {},
   "source": [
    "Percentage of nulls for each of the possible label columns:"
   ]
  },
  {
   "cell_type": "code",
   "execution_count": 5,
   "metadata": {},
   "outputs": [
    {
     "data": {
      "text/plain": [
       "desk                    0.0041\n",
       "general_descriptor      0.2140\n",
       "online_sections         0.0244\n",
       "taxonomic_classifier    0.0144\n",
       "dtype: float64"
      ]
     },
     "execution_count": 5,
     "metadata": {},
     "output_type": "execute_result"
    }
   ],
   "source": [
    "(n - df[['desk','general_descriptor','online_sections','taxonomic_classifier']].count()) / n"
   ]
  },
  {
   "cell_type": "markdown",
   "metadata": {},
   "source": [
    "# Preprocess Data\n",
    "\n",
    "Uncomment the line below to run pre-processing on the parsed data file. Otherwise, skip to the next cell to import the existing preprocessed file."
   ]
  },
  {
   "cell_type": "code",
   "execution_count": 53,
   "metadata": {
    "scrolled": false
   },
   "outputs": [
    {
     "name": "stdout",
     "output_type": "stream",
     "text": [
      "Imported data file\n",
      "Cleaned 1000 entries in full_text\n",
      "Cleaned 2000 entries in full_text\n",
      "Cleaned 3000 entries in full_text\n",
      "Cleaned 4000 entries in full_text\n",
      "Cleaned 5000 entries in full_text\n",
      "Cleaned 6000 entries in full_text\n",
      "Cleaned 7000 entries in full_text\n",
      "Cleaned 8000 entries in full_text\n",
      "Cleaned 9000 entries in full_text\n",
      "Cleaned 10000 entries in full_text\n",
      "Cleaned full_text\n",
      "Cleaned 1000 entries in lead_paragraph\n",
      "Cleaned 2000 entries in lead_paragraph\n",
      "Cleaned 3000 entries in lead_paragraph\n",
      "Cleaned 4000 entries in lead_paragraph\n",
      "Cleaned 5000 entries in lead_paragraph\n",
      "Cleaned 6000 entries in lead_paragraph\n",
      "Cleaned 7000 entries in lead_paragraph\n",
      "Cleaned 8000 entries in lead_paragraph\n",
      "Cleaned 9000 entries in lead_paragraph\n",
      "Cleaned 10000 entries in lead_paragraph\n",
      "Cleaned lead_paragraph\n",
      "Cleaned 1000 entries in headline\n",
      "Cleaned 2000 entries in headline\n",
      "Cleaned 3000 entries in headline\n",
      "Cleaned 4000 entries in headline\n",
      "Cleaned 5000 entries in headline\n",
      "Cleaned 6000 entries in headline\n",
      "Cleaned 7000 entries in headline\n",
      "Cleaned 8000 entries in headline\n",
      "Cleaned 9000 entries in headline\n",
      "Cleaned 10000 entries in headline\n",
      "Cleaned headlines\n",
      "Created nouns and lemmas for 1000 articles\n",
      "Created nouns and lemmas for 2000 articles\n",
      "Created nouns and lemmas for 3000 articles\n",
      "Created nouns and lemmas for 4000 articles\n",
      "Created nouns and lemmas for 5000 articles\n",
      "Created nouns and lemmas for 6000 articles\n",
      "Created nouns and lemmas for 7000 articles\n",
      "Created nouns and lemmas for 8000 articles\n",
      "Created nouns and lemmas for 9000 articles\n",
      "Created nouns and lemmas for 10000 articles\n",
      "Created nouns and lemmas\n",
      "Cleaned labels\n",
      "Saved cleaned data file\n"
     ]
    }
   ],
   "source": [
    "# %run preprocessing.py $n"
   ]
  },
  {
   "cell_type": "code",
   "execution_count": 54,
   "metadata": {},
   "outputs": [
    {
     "name": "stdout",
     "output_type": "stream",
     "text": [
      "(10000, 6)\n"
     ]
    },
    {
     "data": {
      "text/html": [
       "<div>\n",
       "<style scoped>\n",
       "    .dataframe tbody tr th:only-of-type {\n",
       "        vertical-align: middle;\n",
       "    }\n",
       "\n",
       "    .dataframe tbody tr th {\n",
       "        vertical-align: top;\n",
       "    }\n",
       "\n",
       "    .dataframe thead th {\n",
       "        text-align: right;\n",
       "    }\n",
       "</style>\n",
       "<table border=\"1\" class=\"dataframe\">\n",
       "  <thead>\n",
       "    <tr style=\"text-align: right;\">\n",
       "      <th></th>\n",
       "      <th>desk</th>\n",
       "      <th>full_text</th>\n",
       "      <th>lead_paragraph</th>\n",
       "      <th>headline</th>\n",
       "      <th>nouns</th>\n",
       "      <th>lemmas</th>\n",
       "    </tr>\n",
       "  </thead>\n",
       "  <tbody>\n",
       "    <tr>\n",
       "      <th>0</th>\n",
       "      <td>business &amp; financial</td>\n",
       "      <td>the bethlehem steel corporation , after report...</td>\n",
       "      <td>the bethlehem steel corporation , after report...</td>\n",
       "      <td>bethlehem halts dividends and plans cuts after...</td>\n",
       "      <td>bethlehem steel corporation loss quarter yeste...</td>\n",
       "      <td>the bethlehem steel corporation , after report...</td>\n",
       "    </tr>\n",
       "    <tr>\n",
       "      <th>1</th>\n",
       "      <td>foreign</td>\n",
       "      <td>seeking to raise morale at home and improve it...</td>\n",
       "      <td>seeking to raise morale at home and improve it...</td>\n",
       "      <td>world news briefs ; iraqis elect parliament pr...</td>\n",
       "      <td>morale home image iraq today elections candida...</td>\n",
       "      <td>seek to raise morale at home and improve it im...</td>\n",
       "    </tr>\n",
       "    <tr>\n",
       "      <th>2</th>\n",
       "      <td>editorial</td>\n",
       "      <td>by the time lord elgin obtained the authority ...</td>\n",
       "      <td>by the time lord elgin obtained the authority ...</td>\n",
       "      <td>return the parthenon marbles</td>\n",
       "      <td>time lord elgin authority pieces stone inscrip...</td>\n",
       "      <td>by the time lord elgin obtain the authority to...</td>\n",
       "    </tr>\n",
       "    <tr>\n",
       "      <th>3</th>\n",
       "      <td>classified</td>\n",
       "      <td>speier - claire . born new york city . age 70....</td>\n",
       "      <td>speier - claire . born new york city . age 70....</td>\n",
       "      <td>paid notice : deaths speier , claire</td>\n",
       "      <td>claire york city age graduate york university ...</td>\n",
       "      <td>speier - claire . born new york city . age 70....</td>\n",
       "    </tr>\n",
       "    <tr>\n",
       "      <th>4</th>\n",
       "      <td>national</td>\n",
       "      <td>lead : the japanese videotape begins with the ...</td>\n",
       "      <td>lead : the japanese videotape begins with the ...</td>\n",
       "      <td>not fit to import ?</td>\n",
       "      <td>lead videotape words tables foods tape inspect...</td>\n",
       "      <td>lead : the japanese videotape begin with the w...</td>\n",
       "    </tr>\n",
       "  </tbody>\n",
       "</table>\n",
       "</div>"
      ],
      "text/plain": [
       "                   desk                                          full_text  \\\n",
       "0  business & financial  the bethlehem steel corporation , after report...   \n",
       "1               foreign  seeking to raise morale at home and improve it...   \n",
       "2             editorial  by the time lord elgin obtained the authority ...   \n",
       "3            classified  speier - claire . born new york city . age 70....   \n",
       "4              national  lead : the japanese videotape begins with the ...   \n",
       "\n",
       "                                      lead_paragraph  \\\n",
       "0  the bethlehem steel corporation , after report...   \n",
       "1  seeking to raise morale at home and improve it...   \n",
       "2  by the time lord elgin obtained the authority ...   \n",
       "3  speier - claire . born new york city . age 70....   \n",
       "4  lead : the japanese videotape begins with the ...   \n",
       "\n",
       "                                            headline  \\\n",
       "0  bethlehem halts dividends and plans cuts after...   \n",
       "1  world news briefs ; iraqis elect parliament pr...   \n",
       "2                       return the parthenon marbles   \n",
       "3               paid notice : deaths speier , claire   \n",
       "4                                not fit to import ?   \n",
       "\n",
       "                                               nouns  \\\n",
       "0  bethlehem steel corporation loss quarter yeste...   \n",
       "1  morale home image iraq today elections candida...   \n",
       "2  time lord elgin authority pieces stone inscrip...   \n",
       "3  claire york city age graduate york university ...   \n",
       "4  lead videotape words tables foods tape inspect...   \n",
       "\n",
       "                                              lemmas  \n",
       "0  the bethlehem steel corporation , after report...  \n",
       "1  seek to raise morale at home and improve it im...  \n",
       "2  by the time lord elgin obtain the authority to...  \n",
       "3  speier - claire . born new york city . age 70....  \n",
       "4  lead : the japanese videotape begin with the w...  "
      ]
     },
     "execution_count": 54,
     "metadata": {},
     "output_type": "execute_result"
    }
   ],
   "source": [
    "df_final = pd.read_csv('data/nyt_corpus_cleaned_'+str(n)+'.csv')\n",
    "print(df_final.shape)\n",
    "df_final.head()"
   ]
  },
  {
   "cell_type": "markdown",
   "metadata": {},
   "source": [
    "The table below shows some examples of how I cleaned up the `desk` variable."
   ]
  },
  {
   "cell_type": "code",
   "execution_count": 9,
   "metadata": {},
   "outputs": [
    {
     "data": {
      "text/html": [
       "<div>\n",
       "<style scoped>\n",
       "    .dataframe tbody tr th:only-of-type {\n",
       "        vertical-align: middle;\n",
       "    }\n",
       "\n",
       "    .dataframe tbody tr th {\n",
       "        vertical-align: top;\n",
       "    }\n",
       "\n",
       "    .dataframe thead th {\n",
       "        text-align: right;\n",
       "    }\n",
       "</style>\n",
       "<table border=\"1\" class=\"dataframe\">\n",
       "  <thead>\n",
       "    <tr style=\"text-align: right;\">\n",
       "      <th></th>\n",
       "      <th></th>\n",
       "      <th>cnt</th>\n",
       "    </tr>\n",
       "    <tr>\n",
       "      <th>desk_cleaned</th>\n",
       "      <th>desk</th>\n",
       "      <th></th>\n",
       "    </tr>\n",
       "  </thead>\n",
       "  <tbody>\n",
       "    <tr>\n",
       "      <th>a nation challenged</th>\n",
       "      <th>A Nation Challenged</th>\n",
       "      <td>1</td>\n",
       "    </tr>\n",
       "    <tr>\n",
       "      <th rowspan=\"10\" valign=\"top\">arts &amp; leisure</th>\n",
       "      <th>Arts &amp; Ideas/Cultural Desk</th>\n",
       "      <td>18</td>\n",
       "    </tr>\n",
       "    <tr>\n",
       "      <th>Arts &amp; Leisure Desk</th>\n",
       "      <td>29</td>\n",
       "    </tr>\n",
       "    <tr>\n",
       "      <th>Arts and Leisure Desk</th>\n",
       "      <td>129</td>\n",
       "    </tr>\n",
       "    <tr>\n",
       "      <th>Cultural Desk</th>\n",
       "      <td>231</td>\n",
       "    </tr>\n",
       "    <tr>\n",
       "      <th>Leisure/Weekend Desk</th>\n",
       "      <td>56</td>\n",
       "    </tr>\n",
       "    <tr>\n",
       "      <th>Movies, Performing Arts/Weekend Desk</th>\n",
       "      <td>80</td>\n",
       "    </tr>\n",
       "    <tr>\n",
       "      <th>Museums</th>\n",
       "      <td>1</td>\n",
       "    </tr>\n",
       "    <tr>\n",
       "      <th>The Arts/Cultural Desk</th>\n",
       "      <td>219</td>\n",
       "    </tr>\n",
       "    <tr>\n",
       "      <th>Weekend Desk</th>\n",
       "      <td>115</td>\n",
       "    </tr>\n",
       "    <tr>\n",
       "      <th>Weekend DeskWeekend Desk</th>\n",
       "      <td>4</td>\n",
       "    </tr>\n",
       "    <tr>\n",
       "      <th>book review</th>\n",
       "      <th>Book Review Desk</th>\n",
       "      <td>176</td>\n",
       "    </tr>\n",
       "    <tr>\n",
       "      <th rowspan=\"8\" valign=\"top\">business &amp; financial</th>\n",
       "      <th>Business World Magazine</th>\n",
       "      <td>1</td>\n",
       "    </tr>\n",
       "    <tr>\n",
       "      <th>Business/Finance Desk</th>\n",
       "      <td>1</td>\n",
       "    </tr>\n",
       "    <tr>\n",
       "      <th>Business/Financial Desk</th>\n",
       "      <td>628</td>\n",
       "    </tr>\n",
       "    <tr>\n",
       "      <th>Business\\Financial Desk</th>\n",
       "      <td>1</td>\n",
       "    </tr>\n",
       "    <tr>\n",
       "      <th>E-Commerce</th>\n",
       "      <td>1</td>\n",
       "    </tr>\n",
       "    <tr>\n",
       "      <th>Financial Desk</th>\n",
       "      <td>1106</td>\n",
       "    </tr>\n",
       "    <tr>\n",
       "      <th>Financial Desk;</th>\n",
       "      <td>2</td>\n",
       "    </tr>\n",
       "    <tr>\n",
       "      <th>Money and Business/Financial Desk</th>\n",
       "      <td>79</td>\n",
       "    </tr>\n",
       "  </tbody>\n",
       "</table>\n",
       "</div>"
      ],
      "text/plain": [
       "                                                            cnt\n",
       "desk_cleaned         desk                                      \n",
       "a nation challenged  A Nation Challenged                      1\n",
       "arts & leisure       Arts & Ideas/Cultural Desk              18\n",
       "                     Arts & Leisure Desk                     29\n",
       "                     Arts and Leisure Desk                  129\n",
       "                     Cultural Desk                          231\n",
       "                     Leisure/Weekend Desk                    56\n",
       "                     Movies, Performing Arts/Weekend Desk    80\n",
       "                     Museums                                  1\n",
       "                     The Arts/Cultural Desk                 219\n",
       "                     Weekend Desk                           115\n",
       "                     Weekend DeskWeekend Desk                 4\n",
       "book review          Book Review Desk                       176\n",
       "business & financial Business World Magazine                  1\n",
       "                     Business/Finance Desk                    1\n",
       "                     Business/Financial Desk                628\n",
       "                     Business\\Financial Desk                  1\n",
       "                     E-Commerce                               1\n",
       "                     Financial Desk                        1106\n",
       "                     Financial Desk;                          2\n",
       "                     Money and Business/Financial Desk       79"
      ]
     },
     "execution_count": 9,
     "metadata": {},
     "output_type": "execute_result"
    }
   ],
   "source": [
    "label_transform = pd.concat([df_final.desk, df.desk], axis=1)\n",
    "label_transform.columns = ['desk_cleaned', 'desk']\n",
    "label_transform.groupby(['desk_cleaned','desk']).size().reset_index(name='cnt').set_index(['desk_cleaned','desk'])[:20]"
   ]
  },
  {
   "cell_type": "markdown",
   "metadata": {},
   "source": [
    "### Train/Dev/Test Split and TF-IDF Vectorize\n",
    "\n",
    "Here I create an object for each model input:\n",
    "\n",
    "1. Full text\n",
    "2. Lead paragraph\n",
    "3. Headlines\n",
    "4. Nouns\n",
    "5. Lemmas\n",
    "\n",
    "Throughout the rest of notebook, I will attach various statistics and models to each object."
   ]
  },
  {
   "cell_type": "code",
   "execution_count": 72,
   "metadata": {},
   "outputs": [
    {
     "name": "stderr",
     "output_type": "stream",
     "text": [
      "/Users/carmen/Documents/NLP/w266-final-project/split_vectorize.py:37: UserWarning: Boolean Series key will be reindexed to match DataFrame index.\n",
      "  data = self.df[[self.articles, self.labels]][self.df[self.articles].notnull()][self.df[self.labels].notnull()]\n"
     ]
    },
    {
     "data": {
      "image/png": "[encoded data removed]",
      "text/plain": [
       "<Figure size 432x288 with 1 Axes>"
      ]
     },
     "metadata": {},
     "output_type": "display_data"
    }
   ],
   "source": [
    "reload(split_vectorize)\n",
    "rand_seed = 102 # Random number to feed in so all models will assign same articles to train/dev/test sets\n",
    "\n",
    "# Create object for each of the model inputs\n",
    "full_text = split_vectorize.SplitVectorize(df_final, 'full_text', 'Full Text')\n",
    "lead_para = split_vectorize.SplitVectorize(df_final, 'lead_paragraph', 'Lead Paragraph')\n",
    "headlines = split_vectorize.SplitVectorize(df_final, 'headline', 'Headlines')\n",
    "nouns = split_vectorize.SplitVectorize(df_final, 'nouns', 'Nouns Only')\n",
    "lemmas = split_vectorize.SplitVectorize(df_final, 'lemmas', 'Lemmatized')\n",
    "\n",
    "all_inputs = [full_text, lead_para, headlines, nouns, lemmas]\n",
    "\n",
    "# Split into train/test data and TF-IDF vectorize\n",
    "for x in all_inputs:\n",
    "    x.train_test_split(rand_seed)\n",
    "    x.tfidf_vectorize()"
   ]
  },
  {
   "cell_type": "markdown",
   "metadata": {},
   "source": [
    "Percentage of articles NOT in the `<OTHER>` category:"
   ]
  },
  {
   "cell_type": "code",
   "execution_count": 27,
   "metadata": {},
   "outputs": [
    {
     "name": "stdout",
     "output_type": "stream",
     "text": [
      "Full Text: 94.7%\n",
      "Lead Paragraph: 94.6%\n",
      "Headlines: 94.8%\n",
      "Nouns Only: 94.8%\n",
      "Lemmatized: 94.8%\n"
     ]
    }
   ],
   "source": [
    "for x in all_inputs:\n",
    "    print('{}: {:.1%}'.format(x.name_, x.df[x.df.desk != '<OTHER>'].groupby('desk').count().sum()[0] / x.df.groupby('desk').count().sum()[0]))"
   ]
  },
  {
   "cell_type": "markdown",
   "metadata": {},
   "source": [
    "Key statistics for each type of data. Note the number of articles for each model input varies because sometimes certain inputs have missing data. However, the same articles are assigned to training/dev/test data for each input."
   ]
  },
  {
   "cell_type": "code",
   "execution_count": 56,
   "metadata": {},
   "outputs": [
    {
     "data": {
      "text/html": [
       "<table><th>Article Type</th><th>Total Articles</th><th>Training Articles</th><th>Training Words</th><th>% Training Words</th><th>Avg. Words per Training Article</th><th>Training Vocab Size</th><th>% Training Vocab</th><th>Avg. Unique Words per Training Article</th><th>Dev Articles</th><th>Test Articles</th></tr><tr><td>Full Text</td><td>9,847</td><td>7,356</td><td>5,032,755</td><td>100%</td><td>684</td><td>87,541</td><td>100%</td><td>264</td><td>513</td><td>1,978</td></tr><tr><td>Lead Paragraph</td><td>9,590</td><td>7,169</td><td>740,321</td><td>15%</td><td>103</td><td>40,309</td><td>46%</td><td>61</td><td>499</td><td>1,922</td></tr><tr><td>Headlines</td><td>9,997</td><td>7,459</td><td>57,752</td><td>1%</td><td>8</td><td>11,150</td><td>13%</td><td>6</td><td>516</td><td>2,022</td></tr><tr><td>Nouns Only</td><td>9,845</td><td>7,354</td><td>1,349,489</td><td>27%</td><td>184</td><td>64,998</td><td>74%</td><td>112</td><td>513</td><td>1,978</td></tr><tr><td>Lemmatized</td><td>9,847</td><td>7,356</td><td>5,032,755</td><td>100%</td><td>684</td><td>75,648</td><td>86%</td><td>245</td><td>513</td><td>1,978</td></tr></table>"
      ],
      "text/plain": [
       "<IPython.core.display.HTML object>"
      ]
     },
     "metadata": {},
     "output_type": "display_data"
    }
   ],
   "source": [
    "html = '<table><th>Article Type</th><th>Total Articles</th><th>Training Articles</th><th>Training Words</th><th>% Training Words</th>'\n",
    "html += '<th>Avg. Words per Training Article</th><th>Training Vocab Size</th><th>% Training Vocab</th>'\n",
    "html += '<th>Avg. Unique Words per Training Article</th><th>Dev Articles</th><th>Test Articles</th></tr>'\n",
    "\n",
    "for x in all_inputs:\n",
    "    total = x.tv_train.shape[0] + x.tv_dev.shape[0] + x.tv_test.shape[0]\n",
    "    html += '<tr><td>{}</td><td>{:,}</td><td>{:,}</td><td>{:,}</td>'.format(x.name_, total, x.tv_train.shape[0], x.train_words_)\n",
    "    html += '<td>{:.0%}</td><td>{:.0f}</td>'.format(x.train_words_/full_text.train_words_, x.train_avg_words_)\n",
    "    html += '<td>{:,}</td><td>{:.0%}</td>'.format(x.train_vocab_size_, x.train_vocab_size_/full_text.train_vocab_size_)\n",
    "    html += '<td>{:,.0f}</td><td>{:,}</td><td>{:,}</td></tr>'.format(x.train_avg_unq_words_, x.tv_dev.shape[0], x.tv_test.shape[0])\n",
    "\n",
    "html += '</table>'\n",
    "display(HTML(html))"
   ]
  },
  {
   "cell_type": "markdown",
   "metadata": {},
   "source": [
    "# Baseline Models\n",
    "\n",
    "I use a Multinomial Naïve Bayes and Logistic Regression as simple baseline models. For each model and model input, I fit multiple models with different parameters values, and then optimize on the dev data. After finding the best models, I calculate the accuracy on the test data."
   ]
  },
  {
   "cell_type": "markdown",
   "metadata": {},
   "source": [
    "### Multinomial Naïve Bayes\n",
    "\n",
    "Fit multiple MNB models on each of the model inputs, looking for the best value of `alpha`."
   ]
  },
  {
   "cell_type": "code",
   "execution_count": 73,
   "metadata": {},
   "outputs": [],
   "source": [
    "reload(base_models)\n",
    "mnb = base_models.MultNB()\n",
    "\n",
    "for x in all_inputs:\n",
    "    mnb.test_models(x)"
   ]
  },
  {
   "cell_type": "markdown",
   "metadata": {},
   "source": [
    "Graph the accuracy on the dev data for each of the models tested."
   ]
  },
  {
   "cell_type": "code",
   "execution_count": 74,
   "metadata": {},
   "outputs": [
    {
     "data": {
      "image/png": "[encoded data removed]",
      "text/plain": [
       "<Figure size 432x288 with 1 Axes>"
      ]
     },
     "metadata": {},
     "output_type": "display_data"
    }
   ],
   "source": [
    "mnb_tables = []\n",
    "for x in all_inputs:\n",
    "    mnb_tables.append(x.mnb_accuracy_table_)\n",
    "\n",
    "mnb.plot_accuracy(mnb_tables)"
   ]
  },
  {
   "cell_type": "markdown",
   "metadata": {},
   "source": [
    "### Logistic Regression\n",
    "\n",
    "Fit multiple LR models on each of the model inputs, looking for the best values of `C` and `penalty`."
   ]
  },
  {
   "cell_type": "code",
   "execution_count": 63,
   "metadata": {},
   "outputs": [],
   "source": [
    "reload(base_models)\n",
    "lr = base_models.LogReg()\n",
    "\n",
    "for x in all_inputs:\n",
    "    lr.test_models(x)"
   ]
  },
  {
   "cell_type": "markdown",
   "metadata": {},
   "source": [
    "Graph the accuracy on the dev data for each of the models tested."
   ]
  },
  {
   "cell_type": "code",
   "execution_count": 64,
   "metadata": {},
   "outputs": [
    {
     "name": "stdout",
     "output_type": "stream",
     "text": [
      "Best Logistic Regression model:\n",
      "input         Full Text\n",
      "penalty              L2\n",
      "C          100.00000000\n",
      "accuracy     0.77192982\n",
      "Name: 23, dtype: object\n"
     ]
    },
    {
     "data": {
      "image/png": "[encoded data removed]",
      "text/plain": [
       "<Figure size 432x288 with 1 Axes>"
      ]
     },
     "metadata": {},
     "output_type": "display_data"
    }
   ],
   "source": [
    "lr_tables = []\n",
    "for x in all_inputs:\n",
    "    lr_tables.append(x.lr_accuracy_table_)\n",
    "\n",
    "lr.plot_accuracy(lr_tables)"
   ]
  },
  {
   "cell_type": "markdown",
   "metadata": {},
   "source": [
    "### Key Statistics\n",
    "\n",
    "For the best MNB and LR models for each of the possible inputs."
   ]
  },
  {
   "cell_type": "code",
   "execution_count": 66,
   "metadata": {},
   "outputs": [
    {
     "data": {
      "text/html": [
       "<table><th>Model Input</th><th>MNB Parameters</th><th>MNB Dev Accuracy</th><th>MNB Test Accuracy</th><th>LR Parameters</th><th>LR Dev Accuracy</th><th>LR Test Accuracy</th><tr><td>Full Text</td><td>alpha = 2^-7.5</td><td>0.698</td><td>0.693</td><td>C = 10^2.0; penalty = l2</td><td>0.772</td><td>0.742</td></tr><tr><td>Lead Paragraph</td><td>alpha = 2^-4.5</td><td>0.637</td><td>0.624</td><td>C = 10^4.0; penalty = l2</td><td>0.671</td><td>0.661</td></tr><tr><td>Headlines</td><td>alpha = 2^-2.0</td><td>0.552</td><td>0.502</td><td>C = 10^1.0; penalty = l2</td><td>0.550</td><td>0.545</td></tr><tr><td>Nouns Only</td><td>alpha = 2^-6.0</td><td>0.717</td><td>0.664</td><td>C = 10^3.0; penalty = l2</td><td>0.760</td><td>0.702</td></tr><tr><td>Lemmatized</td><td>alpha = 2^-8.5</td><td>0.700</td><td>0.685</td><td>C = 10^5.0; penalty = l2</td><td>0.768</td><td>0.743</td></tr></table>"
      ],
      "text/plain": [
       "<IPython.core.display.HTML object>"
      ]
     },
     "metadata": {},
     "output_type": "display_data"
    }
   ],
   "source": [
    "html = '<table><th>Model Input</th><th>MNB Parameters</th><th>MNB Dev Accuracy</th><th>MNB Test Accuracy</th>'\n",
    "html += '<th>LR Parameters</th><th>LR Dev Accuracy</th><th>LR Test Accuracy</th>'\n",
    "\n",
    "for x in all_inputs:\n",
    "    alpha = 'alpha = 2^'+str(np.log2(x.best_mnb_model_.alpha))\n",
    "    html += '<tr><td>{}</td><td>{}</td><td>{:.3f}</td><td>{:.3f}</td>'.format(x.name_, alpha, max(x.mnb_accuracy_table_.accuracy), x.best_mnb_model_.score(x.tv_test, x.test_labels))\n",
    "    C = 'C = 10^'+str(np.log10(x.best_lr_model_.C))\n",
    "    penalty = 'penalty = '+x.best_lr_model_.penalty\n",
    "    html += '<td>{}</td><td>{:.3f}</td><td>{:.3f}</td></tr>'.format(C+'; '+penalty, max(x.lr_accuracy_table_.accuracy), x.best_lr_model_.score(x.tv_test, x.test_labels))\n",
    "\n",
    "html += '</table>'\n",
    "display(HTML(html))"
   ]
  },
  {
   "cell_type": "markdown",
   "metadata": {},
   "source": [
    "# Neural Network\n",
    "\n",
    "1. This model uses GloVe word embeddings to initialize the word embedding matrix.\n",
    "2. For each of the model inputs, it drops the bottom ***20%*** of words, since these tend to be misspellings or one-off words that don't contribute to helping the model learn the structure of each category.\n",
    "3. For each of the model inputs, it pads each article to the smaller of:\n",
    "    + The ***90th*** percentile of lengths for that input type\n",
    "    + 500"
   ]
  },
  {
   "cell_type": "code",
   "execution_count": 123,
   "metadata": {},
   "outputs": [
    {
     "name": "stdout",
     "output_type": "stream",
     "text": [
      "Loaded GloVe matrix of 100-dimensional embeddings for 400,000 words.\n",
      "Full Text:\n",
      "+ Training vocab size: 70,033\n",
      "+ 90th percentile of length = 1,234 --> inputs padded to 500.\n",
      "+ Vocab reduced to 54,814 by padding operation (-22%)\n",
      "+ Training data shape: (7356, 500)\n",
      "Lead Paragraph:\n",
      "+ Training vocab size: 32,247\n",
      "+ 90th percentile of length = 137 --> inputs padded to 137.\n",
      "+ Vocab reduced to 28,113 by padding operation (-13%)\n",
      "+ Training data shape: (7169, 137)\n",
      "Headlines:\n",
      "+ Training vocab size: 8,920\n",
      "+ 90th percentile of length = 10 --> inputs padded to 10.\n",
      "+ Vocab reduced to 8,660 by padding operation (-3%)\n",
      "+ Training data shape: (7459, 10)\n",
      "Nouns Only:\n",
      "+ Training vocab size: 51,998\n",
      "+ 90th percentile of length = 373 --> inputs padded to 373.\n",
      "+ Vocab reduced to 49,192 by padding operation (-5%)\n",
      "+ Training data shape: (7354, 373)\n",
      "Lemmatized:\n",
      "+ Training vocab size: 60,518\n",
      "+ 90th percentile of length = 1,234 --> inputs padded to 500.\n",
      "+ Vocab reduced to 45,811 by padding operation (-24%)\n",
      "+ Training data shape: (7356, 500)\n"
     ]
    }
   ],
   "source": [
    "reload(neural_nets)\n",
    "nn = neural_nets.NeuralNets()\n",
    "nn.load_glove_vectors()\n",
    "\n",
    "for x in all_inputs:\n",
    "    nn.tokenize(x)\n",
    "    nn.pad(x)\n",
    "\n",
    "# Num Tokens:\n",
    "# Drop 10%: 1238, 138, 11, 381, 1236\n",
    "# Drop 20%: 1234, 137, 10, 375, 1232\n",
    "\n",
    "# Padding:\n",
    "#  90%: 1241,  140, 11,  381, 1236\n",
    "# 100%: 7555, 5974, 55, 3296, 7556"
   ]
  },
  {
   "cell_type": "code",
   "execution_count": 113,
   "metadata": {},
   "outputs": [
    {
     "name": "stdout",
     "output_type": "stream",
     "text": [
      "Compiled\n",
      "Epoch 1/5\n",
      "7356/7356 [==============================] - 14s 2ms/step - loss: 2.2961 - acc: 0.3559\n",
      "Epoch 2/5\n",
      "7356/7356 [==============================] - 14s 2ms/step - loss: 1.6495 - acc: 0.5461\n",
      "Epoch 3/5\n",
      "7356/7356 [==============================] - 14s 2ms/step - loss: 1.3681 - acc: 0.6234\n",
      "Epoch 4/5\n",
      "7356/7356 [==============================] - 14s 2ms/step - loss: 1.1872 - acc: 0.6703\n",
      "Epoch 5/5\n",
      "7356/7356 [==============================] - 14s 2ms/step - loss: 1.0504 - acc: 0.7096\n",
      "Fit\n",
      "1978/1978 [==============================] - 0s 85us/step\n",
      "Test loss: 5.534420794495678\n",
      "Test accuracy: 0.09555106169729671\n",
      "First prediction (probabilities): [7.5132990e-01 4.9912534e-04 1.1594447e-03 8.1591743e-08 1.0598532e-02\n",
      " 1.9947186e-02 3.4817625e-03 1.2498809e-04 1.6870843e-04 1.7663908e-01\n",
      " 1.1852604e-03 5.1416378e-03 1.1244091e-03 4.3262835e-03 4.5397643e-05\n",
      " 2.6234266e-06 5.9554093e-03 7.8924159e-03 1.9051983e-03 6.7809643e-03\n",
      " 1.6916040e-03]\n",
      "First prediction (category): 0\n",
      "First test label: 0\n",
      "_________________________________________________________________\n",
      "Layer (type)                 Output Shape              Param #   \n",
      "=================================================================\n",
      "embedding_4 (Embedding)      (None, 500, 100)          9954200   \n",
      "_________________________________________________________________\n",
      "global_average_pooling1d_4 ( (None, 100)               0         \n",
      "_________________________________________________________________\n",
      "dense_7 (Dense)              (None, 100)               10100     \n",
      "_________________________________________________________________\n",
      "dense_8 (Dense)              (None, 21)                2121      \n",
      "=================================================================\n",
      "Total params: 9,966,421\n",
      "Trainable params: 9,966,421\n",
      "Non-trainable params: 0\n",
      "_________________________________________________________________\n",
      "None\n"
     ]
    }
   ],
   "source": [
    "nn.neural_net(full_text)\n",
    "#for x in all_inputs:\n",
    "    #nn.neural_net(x)"
   ]
  },
  {
   "cell_type": "code",
   "execution_count": 120,
   "metadata": {},
   "outputs": [
    {
     "name": "stdout",
     "output_type": "stream",
     "text": [
      "Compiled\n",
      "Epoch 1/5\n",
      "7459/7459 [==============================] - 1s 167us/step - loss: 2.1579 - acc: 0.3940\n",
      "Epoch 2/5\n",
      "7459/7459 [==============================] - 1s 125us/step - loss: 1.5279 - acc: 0.5674\n",
      "Epoch 3/5\n",
      "7459/7459 [==============================] - 1s 127us/step - loss: 1.2861 - acc: 0.6288\n",
      "Epoch 4/5\n",
      "7459/7459 [==============================] - 1s 132us/step - loss: 1.1127 - acc: 0.6853\n",
      "Epoch 5/5\n",
      "7459/7459 [==============================] - 1s 161us/step - loss: 0.9575 - acc: 0.7343\n",
      "Fit\n",
      "2022/2022 [==============================] - 0s 65us/step\n",
      "Test loss: 6.211659965835858\n",
      "Test accuracy: 0.07764589515331355\n",
      "First prediction (probabilities): [5.0002422e-02 7.9539837e-04 5.0701234e-03 2.8936252e-06 2.5100713e-03\n",
      " 1.2159178e-02 6.1319890e-03 2.6813404e-05 5.8568624e-04 7.7225077e-01\n",
      " 8.1880367e-04 4.0977020e-03 1.1018749e-02 1.1468193e-02 1.2244362e-05\n",
      " 8.3140872e-09 4.0686391e-02 5.0376332e-03 4.8088543e-02 2.5895372e-02\n",
      " 3.3410818e-03]\n",
      "First prediction (category): 9\n",
      "First test label: 0\n",
      "_________________________________________________________________\n",
      "Layer (type)                 Output Shape              Param #   \n",
      "=================================================================\n",
      "embedding_5 (Embedding)      (None, 10, 100)           1143400   \n",
      "_________________________________________________________________\n",
      "global_average_pooling1d_5 ( (None, 100)               0         \n",
      "_________________________________________________________________\n",
      "dense_9 (Dense)              (None, 100)               10100     \n",
      "_________________________________________________________________\n",
      "dense_10 (Dense)             (None, 21)                2121      \n",
      "=================================================================\n",
      "Total params: 1,155,621\n",
      "Trainable params: 1,155,621\n",
      "Non-trainable params: 0\n",
      "_________________________________________________________________\n",
      "None\n"
     ]
    }
   ],
   "source": [
    "nn.neural_net(headlines)"
   ]
  },
  {
   "cell_type": "markdown",
   "metadata": {},
   "source": [
    "### Key Statistics"
   ]
  },
  {
   "cell_type": "code",
   "execution_count": 126,
   "metadata": {},
   "outputs": [
    {
     "ename": "AttributeError",
     "evalue": "'SplitVectorize' object has no attribute 'nn_accuracy_'",
     "output_type": "error",
     "traceback": [
      "\u001b[0;31m---------------------------------------------------------------------------\u001b[0m",
      "\u001b[0;31mAttributeError\u001b[0m                            Traceback (most recent call last)",
      "\u001b[0;32m<ipython-input-126-f55cd80c9fd0>\u001b[0m in \u001b[0;36m<module>\u001b[0;34m()\u001b[0m\n\u001b[1;32m      4\u001b[0m \u001b[0;32mfor\u001b[0m \u001b[0mx\u001b[0m \u001b[0;32min\u001b[0m \u001b[0mall_inputs\u001b[0m\u001b[0;34m:\u001b[0m\u001b[0;34m\u001b[0m\u001b[0m\n\u001b[1;32m      5\u001b[0m     \u001b[0mhtml\u001b[0m \u001b[0;34m+=\u001b[0m \u001b[0;34m'<tr><td>{}</td><td>{:,}</td><td>{:,}</td>'\u001b[0m\u001b[0;34m.\u001b[0m\u001b[0mformat\u001b[0m\u001b[0;34m(\u001b[0m\u001b[0mx\u001b[0m\u001b[0;34m.\u001b[0m\u001b[0mname_\u001b[0m\u001b[0;34m,\u001b[0m \u001b[0mx\u001b[0m\u001b[0;34m.\u001b[0m\u001b[0mtrain_vocab_size_\u001b[0m \u001b[0;34m*\u001b[0m \u001b[0;36m0.8\u001b[0m\u001b[0;34m,\u001b[0m \u001b[0mx\u001b[0m\u001b[0;34m.\u001b[0m\u001b[0mtrain_ids\u001b[0m\u001b[0;34m.\u001b[0m\u001b[0mshape\u001b[0m\u001b[0;34m[\u001b[0m\u001b[0;36m1\u001b[0m\u001b[0;34m]\u001b[0m\u001b[0;34m)\u001b[0m\u001b[0;34m\u001b[0m\u001b[0m\n\u001b[0;32m----> 6\u001b[0;31m     \u001b[0mhtml\u001b[0m \u001b[0;34m+=\u001b[0m \u001b[0;34m'<td>{:.3f}</td></tr>'\u001b[0m\u001b[0;34m.\u001b[0m\u001b[0mformat\u001b[0m\u001b[0;34m(\u001b[0m\u001b[0mx\u001b[0m\u001b[0;34m.\u001b[0m\u001b[0mnn_accuracy_\u001b[0m\u001b[0;34m)\u001b[0m\u001b[0;34m\u001b[0m\u001b[0m\n\u001b[0m\u001b[1;32m      7\u001b[0m \u001b[0;34m\u001b[0m\u001b[0m\n\u001b[1;32m      8\u001b[0m \u001b[0mhtml\u001b[0m \u001b[0;34m+=\u001b[0m \u001b[0;34m'</table>'\u001b[0m\u001b[0;34m\u001b[0m\u001b[0m\n",
      "\u001b[0;31mAttributeError\u001b[0m: 'SplitVectorize' object has no attribute 'nn_accuracy_'"
     ]
    }
   ],
   "source": [
    "html = '<table><th>Model Input</th><th>Training Vocab</th><th>Padding Size</th>'\n",
    "html += '<th>Vocab After Padding</th><th>Test Accuracy</th>'\n",
    "\n",
    "for x in all_inputs:\n",
    "    html += '<tr><td>{}</td><td>{:,}</td><td>{:,}</td>'.format(x.name_, x.train_vocab_size_ * 0.8, x.train_ids.shape[1])\n",
    "    html += '<td>{:.3f}</td></tr>'.format(x.nn_accuracy_)\n",
    "\n",
    "html += '</table>'\n",
    "display(HTML(html))"
   ]
  },
  {
   "cell_type": "markdown",
   "metadata": {},
   "source": [
    "# Error Analysis"
   ]
  },
  {
   "cell_type": "code",
   "execution_count": null,
   "metadata": {},
   "outputs": [],
   "source": [
    "from sklearn.metrics import classification_report, confusion_matrix"
   ]
  },
  {
   "cell_type": "code",
   "execution_count": null,
   "metadata": {
    "scrolled": false
   },
   "outputs": [],
   "source": [
    "for x in [full_text]:#, lead_para, headlines, nouns, lemmas]:\n",
    "    print('\\n', x.name_, ':')\n",
    "    print(classification_report(x.dev_labels, x.best_mnb_model_.predict(x.tv_dev)))\n",
    "    print(confusion_matrix(x.dev_labels, x.best_mnb_model_.predict(x.tv_dev), labels=list(x.dev_labels.unique())))"
   ]
  },
  {
   "cell_type": "code",
   "execution_count": null,
   "metadata": {},
   "outputs": [],
   "source": [
    "x.dev_labels.unique()"
   ]
  },
  {
   "cell_type": "code",
   "execution_count": null,
   "metadata": {},
   "outputs": [],
   "source": []
  }
 ],
 "metadata": {
  "kernelspec": {
   "display_name": "Python 3",
   "language": "python",
   "name": "python3"
  },
  "language_info": {
   "codemirror_mode": {
    "name": "ipython",
    "version": 3
   },
   "file_extension": ".py",
   "mimetype": "text/x-python",
   "name": "python",
   "nbconvert_exporter": "python",
   "pygments_lexer": "ipython3",
   "version": "3.6.5"
  }
 },
 "nbformat": 4,
 "nbformat_minor": 2
}
