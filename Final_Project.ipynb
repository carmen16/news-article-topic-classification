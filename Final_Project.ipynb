{
 "cells": [
  {
   "cell_type": "markdown",
   "metadata": {},
   "source": [
    "# Packages"
   ]
  },
  {
   "cell_type": "code",
   "execution_count": 1,
   "metadata": {},
   "outputs": [],
   "source": [
    "# Helpful packages\n",
    "import pandas as pd\n",
    "import numpy as np\n",
    "import matplotlib.pyplot as plt\n",
    "%matplotlib inline\n",
    "\n",
    "from importlib import reload\n",
    "import split_vectorize\n",
    "import base_models\n",
    "import neural_nets\n",
    "\n",
    "from IPython.display import display, HTML"
   ]
  },
  {
   "cell_type": "markdown",
   "metadata": {},
   "source": [
    "# Get Data"
   ]
  },
  {
   "cell_type": "code",
   "execution_count": 2,
   "metadata": {},
   "outputs": [],
   "source": [
    "# Uncomment the line below to create a new data file. Otherwise, skip to the next cell to import the existing file.\n",
    "# %run parse_corpus.py 10000 # Number of articles to get"
   ]
  },
  {
   "cell_type": "code",
   "execution_count": 2,
   "metadata": {},
   "outputs": [
    {
     "data": {
      "text/plain": [
       "(10000, 32)"
      ]
     },
     "execution_count": 2,
     "metadata": {},
     "output_type": "execute_result"
    }
   ],
   "source": [
    "df = pd.read_csv('data/nyt_corpus.csv')\n",
    "df.shape"
   ]
  },
  {
   "cell_type": "markdown",
   "metadata": {},
   "source": [
    "### Possible Model Outputs"
   ]
  },
  {
   "cell_type": "code",
   "execution_count": 3,
   "metadata": {},
   "outputs": [
    {
     "data": {
      "text/html": [
       "<div>\n",
       "<style scoped>\n",
       "    .dataframe tbody tr th:only-of-type {\n",
       "        vertical-align: middle;\n",
       "    }\n",
       "\n",
       "    .dataframe tbody tr th {\n",
       "        vertical-align: top;\n",
       "    }\n",
       "\n",
       "    .dataframe thead th {\n",
       "        text-align: right;\n",
       "    }\n",
       "</style>\n",
       "<table border=\"1\" class=\"dataframe\">\n",
       "  <thead>\n",
       "    <tr style=\"text-align: right;\">\n",
       "      <th></th>\n",
       "      <th>desk</th>\n",
       "      <th>general_descriptor</th>\n",
       "      <th>online_sections</th>\n",
       "      <th>taxonomic_classifier</th>\n",
       "    </tr>\n",
       "  </thead>\n",
       "  <tbody>\n",
       "    <tr>\n",
       "      <th>9990</th>\n",
       "      <td>Editorial Desk</td>\n",
       "      <td>['Budgets and Budgeting', 'National Debt (US)'...</td>\n",
       "      <td>Opinion</td>\n",
       "      <td>['Top/Opinion', 'Top/Opinion/Opinion', 'Top/Ne...</td>\n",
       "    </tr>\n",
       "    <tr>\n",
       "      <th>9991</th>\n",
       "      <td>Foreign Desk</td>\n",
       "      <td>['Immigration and Refugees', 'Jews', 'Music', ...</td>\n",
       "      <td>World</td>\n",
       "      <td>['Top/News', 'Top/News/World/Countries and Ter...</td>\n",
       "    </tr>\n",
       "    <tr>\n",
       "      <th>9992</th>\n",
       "      <td>Foreign Desk</td>\n",
       "      <td>['Airlines and Airplanes']</td>\n",
       "      <td>NaN</td>\n",
       "      <td>['Top/Classifieds/Job Market/Job Categories/Ma...</td>\n",
       "    </tr>\n",
       "    <tr>\n",
       "      <th>9993</th>\n",
       "      <td>Metropolitan Desk</td>\n",
       "      <td>['Murders and Attempted Murders', 'Basketball'...</td>\n",
       "      <td>New York and Region</td>\n",
       "      <td>['Top/News/U.S./U.S. States, Territories and P...</td>\n",
       "    </tr>\n",
       "    <tr>\n",
       "      <th>9994</th>\n",
       "      <td>Book Review Desk</td>\n",
       "      <td>['Books and Literature']</td>\n",
       "      <td>Arts; Books</td>\n",
       "      <td>['Top/Features/Books/Book Reviews', 'Top/Featu...</td>\n",
       "    </tr>\n",
       "    <tr>\n",
       "      <th>9995</th>\n",
       "      <td>Editorial Desk</td>\n",
       "      <td>NaN</td>\n",
       "      <td>Opinion</td>\n",
       "      <td>['Top/Opinion/Opinion/Letters', 'Top/Opinion',...</td>\n",
       "    </tr>\n",
       "    <tr>\n",
       "      <th>9996</th>\n",
       "      <td>National Desk</td>\n",
       "      <td>NaN</td>\n",
       "      <td>U.S.</td>\n",
       "      <td>['Top/News/U.S.', 'Top/News']</td>\n",
       "    </tr>\n",
       "    <tr>\n",
       "      <th>9997</th>\n",
       "      <td>Metropolitan Desk</td>\n",
       "      <td>NaN</td>\n",
       "      <td>New York and Region</td>\n",
       "      <td>['Top/News/New York and Region']</td>\n",
       "    </tr>\n",
       "    <tr>\n",
       "      <th>9998</th>\n",
       "      <td>Classified</td>\n",
       "      <td>NaN</td>\n",
       "      <td>Paid Death Notices</td>\n",
       "      <td>['Top/Classifieds/Paid Death Notices']</td>\n",
       "    </tr>\n",
       "    <tr>\n",
       "      <th>9999</th>\n",
       "      <td>Leisure/Weekend Desk</td>\n",
       "      <td>NaN</td>\n",
       "      <td>Arts</td>\n",
       "      <td>['Top/Features/Arts']</td>\n",
       "    </tr>\n",
       "  </tbody>\n",
       "</table>\n",
       "</div>"
      ],
      "text/plain": [
       "                      desk                                 general_descriptor  \\\n",
       "9990        Editorial Desk  ['Budgets and Budgeting', 'National Debt (US)'...   \n",
       "9991          Foreign Desk  ['Immigration and Refugees', 'Jews', 'Music', ...   \n",
       "9992          Foreign Desk                         ['Airlines and Airplanes']   \n",
       "9993     Metropolitan Desk  ['Murders and Attempted Murders', 'Basketball'...   \n",
       "9994      Book Review Desk                           ['Books and Literature']   \n",
       "9995        Editorial Desk                                                NaN   \n",
       "9996         National Desk                                                NaN   \n",
       "9997     Metropolitan Desk                                                NaN   \n",
       "9998            Classified                                                NaN   \n",
       "9999  Leisure/Weekend Desk                                                NaN   \n",
       "\n",
       "          online_sections                               taxonomic_classifier  \n",
       "9990              Opinion  ['Top/Opinion', 'Top/Opinion/Opinion', 'Top/Ne...  \n",
       "9991                World  ['Top/News', 'Top/News/World/Countries and Ter...  \n",
       "9992                  NaN  ['Top/Classifieds/Job Market/Job Categories/Ma...  \n",
       "9993  New York and Region  ['Top/News/U.S./U.S. States, Territories and P...  \n",
       "9994          Arts; Books  ['Top/Features/Books/Book Reviews', 'Top/Featu...  \n",
       "9995              Opinion  ['Top/Opinion/Opinion/Letters', 'Top/Opinion',...  \n",
       "9996                 U.S.                      ['Top/News/U.S.', 'Top/News']  \n",
       "9997  New York and Region                   ['Top/News/New York and Region']  \n",
       "9998   Paid Death Notices             ['Top/Classifieds/Paid Death Notices']  \n",
       "9999                 Arts                              ['Top/Features/Arts']  "
      ]
     },
     "execution_count": 3,
     "metadata": {},
     "output_type": "execute_result"
    }
   ],
   "source": [
    "# possible labels - desk works best\n",
    "df[['desk','general_descriptor','online_sections','taxonomic_classifier']][-10:]"
   ]
  },
  {
   "cell_type": "code",
   "execution_count": 4,
   "metadata": {},
   "outputs": [
    {
     "data": {
      "text/plain": [
       "desk                    0.0041\n",
       "general_descriptor      0.2140\n",
       "online_sections         0.0244\n",
       "taxonomic_classifier    0.0144\n",
       "dtype: float64"
      ]
     },
     "execution_count": 4,
     "metadata": {},
     "output_type": "execute_result"
    }
   ],
   "source": [
    "# pct nulls for each possible labels\n",
    "(df.shape[0] - df[['desk','general_descriptor','online_sections','taxonomic_classifier']].count()) / df.shape[0]"
   ]
  },
  {
   "cell_type": "markdown",
   "metadata": {},
   "source": [
    "# Preprocess Data"
   ]
  },
  {
   "cell_type": "code",
   "execution_count": 6,
   "metadata": {},
   "outputs": [
    {
     "name": "stdout",
     "output_type": "stream",
     "text": [
      "Imported data file\n",
      "Created nouns and lemmas for 1000 articles\n",
      "Created nouns and lemmas for 2000 articles\n",
      "Created nouns and lemmas for 3000 articles\n",
      "Created nouns and lemmas for 4000 articles\n",
      "Created nouns and lemmas for 5000 articles\n",
      "Created nouns and lemmas for 6000 articles\n",
      "Created nouns and lemmas for 7000 articles\n",
      "Created nouns and lemmas for 8000 articles\n",
      "Created nouns and lemmas for 9000 articles\n",
      "Created nouns and lemmas for 10000 articles\n",
      "Created nouns and lemmas for all articles\n",
      "Cleaned labels\n",
      "Saved new data file\n"
     ]
    }
   ],
   "source": [
    "# Uncomment the line below to run pre-processing on the parsed data file.\n",
    "# Otherwise, skip to the next cell to import the existing preprocessed file.\n",
    "# %run preprocessing.py"
   ]
  },
  {
   "cell_type": "code",
   "execution_count": 2,
   "metadata": {},
   "outputs": [
    {
     "name": "stdout",
     "output_type": "stream",
     "text": [
      "(10000, 6)\n"
     ]
    },
    {
     "data": {
      "text/html": [
       "<div>\n",
       "<style scoped>\n",
       "    .dataframe tbody tr th:only-of-type {\n",
       "        vertical-align: middle;\n",
       "    }\n",
       "\n",
       "    .dataframe tbody tr th {\n",
       "        vertical-align: top;\n",
       "    }\n",
       "\n",
       "    .dataframe thead th {\n",
       "        text-align: right;\n",
       "    }\n",
       "</style>\n",
       "<table border=\"1\" class=\"dataframe\">\n",
       "  <thead>\n",
       "    <tr style=\"text-align: right;\">\n",
       "      <th></th>\n",
       "      <th>desk</th>\n",
       "      <th>full_text</th>\n",
       "      <th>lead_paragraph</th>\n",
       "      <th>headline</th>\n",
       "      <th>nouns</th>\n",
       "      <th>lemmas</th>\n",
       "    </tr>\n",
       "  </thead>\n",
       "  <tbody>\n",
       "    <tr>\n",
       "      <th>0</th>\n",
       "      <td>business &amp; financial</td>\n",
       "      <td>The Bethlehem Steel Corporation, after report...</td>\n",
       "      <td>The Bethlehem Steel Corporation, after report...</td>\n",
       "      <td>Bethlehem Halts Dividends And Plans Cuts After...</td>\n",
       "      <td>Bethlehem Steel Corporation loss quarter yeste...</td>\n",
       "      <td>The Bethlehem Steel Corporation , after report...</td>\n",
       "    </tr>\n",
       "    <tr>\n",
       "      <th>1</th>\n",
       "      <td>foreign</td>\n",
       "      <td>Seeking to raise morale at home and improve i...</td>\n",
       "      <td>Seeking to raise morale at home and improve i...</td>\n",
       "      <td>World News Briefs;Iraqis Elect Parliament Pre-...</td>\n",
       "      <td>morale home image Iraq today elections candida...</td>\n",
       "      <td>Seeking to raise morale at home and improve it...</td>\n",
       "    </tr>\n",
       "    <tr>\n",
       "      <th>2</th>\n",
       "      <td>editorial</td>\n",
       "      <td>By the time Lord Elgin obtained the authority...</td>\n",
       "      <td>By the time Lord Elgin obtained the authority...</td>\n",
       "      <td>Return the Parthenon Marbles</td>\n",
       "      <td>time Lord Elgin authority pieces stone inscrip...</td>\n",
       "      <td>By the time Lord Elgin obtain the authority to...</td>\n",
       "    </tr>\n",
       "    <tr>\n",
       "      <th>3</th>\n",
       "      <td>classified</td>\n",
       "      <td>SPEIER-Claire. Born New York City. Age 70. Gr...</td>\n",
       "      <td>SPEIER-Claire. Born New York City. Age 70. Gr...</td>\n",
       "      <td>Paid Notice: Deaths  SPEIER, CLAIRE</td>\n",
       "      <td>SPEIER-Claire. Born New York City. Age Graduat...</td>\n",
       "      <td>SPEIER-Claire. Born New York City. Age 70. Gra...</td>\n",
       "    </tr>\n",
       "    <tr>\n",
       "      <th>4</th>\n",
       "      <td>national</td>\n",
       "      <td>LEAD: The Japanese videotape begins with the ...</td>\n",
       "      <td>LEAD: The Japanese videotape begins with the ...</td>\n",
       "      <td>Not Fit to Import?</td>\n",
       "      <td>LEAD videotape words tables foods. tape inspec...</td>\n",
       "      <td>LEAD : The Japanese videotape begin with the w...</td>\n",
       "    </tr>\n",
       "  </tbody>\n",
       "</table>\n",
       "</div>"
      ],
      "text/plain": [
       "                   desk                                          full_text  \\\n",
       "0  business & financial   The Bethlehem Steel Corporation, after report...   \n",
       "1               foreign   Seeking to raise morale at home and improve i...   \n",
       "2             editorial   By the time Lord Elgin obtained the authority...   \n",
       "3            classified   SPEIER-Claire. Born New York City. Age 70. Gr...   \n",
       "4              national   LEAD: The Japanese videotape begins with the ...   \n",
       "\n",
       "                                      lead_paragraph  \\\n",
       "0   The Bethlehem Steel Corporation, after report...   \n",
       "1   Seeking to raise morale at home and improve i...   \n",
       "2   By the time Lord Elgin obtained the authority...   \n",
       "3   SPEIER-Claire. Born New York City. Age 70. Gr...   \n",
       "4   LEAD: The Japanese videotape begins with the ...   \n",
       "\n",
       "                                            headline  \\\n",
       "0  Bethlehem Halts Dividends And Plans Cuts After...   \n",
       "1  World News Briefs;Iraqis Elect Parliament Pre-...   \n",
       "2                       Return the Parthenon Marbles   \n",
       "3                Paid Notice: Deaths  SPEIER, CLAIRE   \n",
       "4                                 Not Fit to Import?   \n",
       "\n",
       "                                               nouns  \\\n",
       "0  Bethlehem Steel Corporation loss quarter yeste...   \n",
       "1  morale home image Iraq today elections candida...   \n",
       "2  time Lord Elgin authority pieces stone inscrip...   \n",
       "3  SPEIER-Claire. Born New York City. Age Graduat...   \n",
       "4  LEAD videotape words tables foods. tape inspec...   \n",
       "\n",
       "                                              lemmas  \n",
       "0  The Bethlehem Steel Corporation , after report...  \n",
       "1  Seeking to raise morale at home and improve it...  \n",
       "2  By the time Lord Elgin obtain the authority to...  \n",
       "3  SPEIER-Claire. Born New York City. Age 70. Gra...  \n",
       "4  LEAD : The Japanese videotape begin with the w...  "
      ]
     },
     "execution_count": 2,
     "metadata": {},
     "output_type": "execute_result"
    }
   ],
   "source": [
    "df_final = pd.read_csv('data/nyt_corpus_cleaned.csv')\n",
    "print(df_final.shape)\n",
    "df_final.head()"
   ]
  },
  {
   "cell_type": "code",
   "execution_count": 8,
   "metadata": {},
   "outputs": [
    {
     "data": {
      "text/html": [
       "<div>\n",
       "<style scoped>\n",
       "    .dataframe tbody tr th:only-of-type {\n",
       "        vertical-align: middle;\n",
       "    }\n",
       "\n",
       "    .dataframe tbody tr th {\n",
       "        vertical-align: top;\n",
       "    }\n",
       "\n",
       "    .dataframe thead th {\n",
       "        text-align: right;\n",
       "    }\n",
       "</style>\n",
       "<table border=\"1\" class=\"dataframe\">\n",
       "  <thead>\n",
       "    <tr style=\"text-align: right;\">\n",
       "      <th></th>\n",
       "      <th></th>\n",
       "      <th>cnt</th>\n",
       "    </tr>\n",
       "    <tr>\n",
       "      <th>desk_cleaned</th>\n",
       "      <th>desk</th>\n",
       "      <th></th>\n",
       "    </tr>\n",
       "  </thead>\n",
       "  <tbody>\n",
       "    <tr>\n",
       "      <th>a nation challenged</th>\n",
       "      <th>A Nation Challenged</th>\n",
       "      <td>1</td>\n",
       "    </tr>\n",
       "    <tr>\n",
       "      <th rowspan=\"10\" valign=\"top\">arts &amp; leisure</th>\n",
       "      <th>Arts &amp; Ideas/Cultural Desk</th>\n",
       "      <td>18</td>\n",
       "    </tr>\n",
       "    <tr>\n",
       "      <th>Arts &amp; Leisure Desk</th>\n",
       "      <td>29</td>\n",
       "    </tr>\n",
       "    <tr>\n",
       "      <th>Arts and Leisure Desk</th>\n",
       "      <td>129</td>\n",
       "    </tr>\n",
       "    <tr>\n",
       "      <th>Cultural Desk</th>\n",
       "      <td>231</td>\n",
       "    </tr>\n",
       "    <tr>\n",
       "      <th>Leisure/Weekend Desk</th>\n",
       "      <td>56</td>\n",
       "    </tr>\n",
       "    <tr>\n",
       "      <th>Movies, Performing Arts/Weekend Desk</th>\n",
       "      <td>80</td>\n",
       "    </tr>\n",
       "    <tr>\n",
       "      <th>Museums</th>\n",
       "      <td>1</td>\n",
       "    </tr>\n",
       "    <tr>\n",
       "      <th>The Arts/Cultural Desk</th>\n",
       "      <td>219</td>\n",
       "    </tr>\n",
       "    <tr>\n",
       "      <th>Weekend Desk</th>\n",
       "      <td>115</td>\n",
       "    </tr>\n",
       "    <tr>\n",
       "      <th>Weekend DeskWeekend Desk</th>\n",
       "      <td>4</td>\n",
       "    </tr>\n",
       "    <tr>\n",
       "      <th>book review</th>\n",
       "      <th>Book Review Desk</th>\n",
       "      <td>176</td>\n",
       "    </tr>\n",
       "    <tr>\n",
       "      <th rowspan=\"8\" valign=\"top\">business &amp; financial</th>\n",
       "      <th>Business World Magazine</th>\n",
       "      <td>1</td>\n",
       "    </tr>\n",
       "    <tr>\n",
       "      <th>Business/Finance Desk</th>\n",
       "      <td>1</td>\n",
       "    </tr>\n",
       "    <tr>\n",
       "      <th>Business/Financial Desk</th>\n",
       "      <td>628</td>\n",
       "    </tr>\n",
       "    <tr>\n",
       "      <th>Business\\Financial Desk</th>\n",
       "      <td>1</td>\n",
       "    </tr>\n",
       "    <tr>\n",
       "      <th>E-Commerce</th>\n",
       "      <td>1</td>\n",
       "    </tr>\n",
       "    <tr>\n",
       "      <th>Financial Desk</th>\n",
       "      <td>1106</td>\n",
       "    </tr>\n",
       "    <tr>\n",
       "      <th>Financial Desk;</th>\n",
       "      <td>2</td>\n",
       "    </tr>\n",
       "    <tr>\n",
       "      <th>Money and Business/Financial Desk</th>\n",
       "      <td>79</td>\n",
       "    </tr>\n",
       "  </tbody>\n",
       "</table>\n",
       "</div>"
      ],
      "text/plain": [
       "                                                            cnt\n",
       "desk_cleaned         desk                                      \n",
       "a nation challenged  A Nation Challenged                      1\n",
       "arts & leisure       Arts & Ideas/Cultural Desk              18\n",
       "                     Arts & Leisure Desk                     29\n",
       "                     Arts and Leisure Desk                  129\n",
       "                     Cultural Desk                          231\n",
       "                     Leisure/Weekend Desk                    56\n",
       "                     Movies, Performing Arts/Weekend Desk    80\n",
       "                     Museums                                  1\n",
       "                     The Arts/Cultural Desk                 219\n",
       "                     Weekend Desk                           115\n",
       "                     Weekend DeskWeekend Desk                 4\n",
       "book review          Book Review Desk                       176\n",
       "business & financial Business World Magazine                  1\n",
       "                     Business/Finance Desk                    1\n",
       "                     Business/Financial Desk                628\n",
       "                     Business\\Financial Desk                  1\n",
       "                     E-Commerce                               1\n",
       "                     Financial Desk                        1106\n",
       "                     Financial Desk;                          2\n",
       "                     Money and Business/Financial Desk       79"
      ]
     },
     "execution_count": 8,
     "metadata": {},
     "output_type": "execute_result"
    }
   ],
   "source": [
    "label_transform = pd.concat([df_final.desk, df.desk], axis=1)\n",
    "label_transform.columns = ['desk_cleaned', 'desk']\n",
    "label_transform.groupby(['desk_cleaned','desk']).size().reset_index(name='cnt').set_index(['desk_cleaned','desk'])[:20]"
   ]
  },
  {
   "cell_type": "markdown",
   "metadata": {},
   "source": [
    "### Train/Dev/Test Split and TF-IDF Vectorize"
   ]
  },
  {
   "cell_type": "code",
   "execution_count": 3,
   "metadata": {},
   "outputs": [
    {
     "name": "stderr",
     "output_type": "stream",
     "text": [
      "/Users/carmen/Documents/NLP/w266-final-project/split_vectorize.py:36: UserWarning: Boolean Series key will be reindexed to match DataFrame index.\n",
      "  data = self.df[[self.articles, self.labels]][self.df[self.articles].notnull()][self.df[self.labels].notnull()]\n"
     ]
    },
    {
     "data": {
      "image/png": "[encoded data removed]",
      "text/plain": [
       "<Figure size 432x288 with 1 Axes>"
      ]
     },
     "metadata": {},
     "output_type": "display_data"
    }
   ],
   "source": [
    "reload(split_vectorize)\n",
    "rand_seed = 102 # Random number to feed in so all models will assign same articles to train/dev/test sets\n",
    "\n",
    "# Create object for each of the model inputs\n",
    "full_text = split_vectorize.SplitVectorize(df_final, 'full_text', 'Full Text')\n",
    "lead_para = split_vectorize.SplitVectorize(df_final, 'lead_paragraph', 'Lead Paragraph')\n",
    "headlines = split_vectorize.SplitVectorize(df_final, 'headline', 'Headlines')\n",
    "nouns = split_vectorize.SplitVectorize(df_final, 'nouns', 'Nouns Only')\n",
    "lemmas = split_vectorize.SplitVectorize(df_final, 'lemmas', 'Lemmatized')\n",
    "\n",
    "all_inputs = [full_text, lead_para, headlines, nouns, lemmas]\n",
    "\n",
    "# Split into train/test data and TF-IDF vectorize\n",
    "for x in all_inputs:\n",
    "    x.train_test_split(rand_seed)\n",
    "    x.tfidf_vectorize()"
   ]
  },
  {
   "cell_type": "code",
   "execution_count": 7,
   "metadata": {},
   "outputs": [
    {
     "data": {
      "text/html": [
       "<table><th>Article Type</th><th>Training Articles</th><th>Training Words</th><th>% Training Words</th><th>Avg. Words per Training Article</th><th>Training Vocab Size</th><th>% Training Vocab</th><th>Avg. Unique Words per Training Article</th><th>Dev Articles</th><th>Test Articles</th></tr><tr><td>Full Text</td><td>7,356</td><td>4,684,947</td><td>100%</td><td>637</td><td>85,864</td><td>100%</td><td>264</td><td>513</td><td>1,978</td></tr><tr><td>Lead Paragraph</td><td>7,169</td><td>692,307</td><td>15%</td><td>97</td><td>39,890</td><td>46%</td><td>61</td><td>499</td><td>1,922</td></tr><tr><td>Headlines</td><td>7,459</td><td>54,968</td><td>1%</td><td>7</td><td>11,127</td><td>13%</td><td>6</td><td>516</td><td>2,022</td></tr><tr><td>Nouns Only</td><td>7,355</td><td>1,439,061</td><td>31%</td><td>196</td><td>69,721</td><td>81%</td><td>122</td><td>513</td><td>1,978</td></tr><tr><td>Lemmatized</td><td>7,356</td><td>4,684,954</td><td>100%</td><td>637</td><td>80,328</td><td>94%</td><td>249</td><td>513</td><td>1,978</td></tr></table>"
      ],
      "text/plain": [
       "<IPython.core.display.HTML object>"
      ]
     },
     "metadata": {},
     "output_type": "display_data"
    }
   ],
   "source": [
    "html = '<table><th>Article Type</th><th>Training Articles</th><th>Training Words</th><th>% Training Words</th>'\n",
    "html += '<th>Avg. Words per Training Article</th><th>Training Vocab Size</th><th>% Training Vocab</th>'\n",
    "html += '<th>Avg. Unique Words per Training Article</th><th>Dev Articles</th><th>Test Articles</th></tr>'\n",
    "\n",
    "for x in all_inputs:\n",
    "    html += '<tr><td>{}</td><td>{:,}</td><td>{:,}</td>'.format(x.name_, x.tv_train.shape[0], x.train_words_)\n",
    "    html += '<td>{:.0%}</td><td>{:.0f}</td>'.format(x.train_words_/full_text.train_words_, x.train_avg_words_)\n",
    "    html += '<td>{:,}</td><td>{:.0%}</td>'.format(x.train_vocab_size_, x.train_vocab_size_/full_text.train_vocab_size_)\n",
    "    html += '<td>{:,.0f}</td><td>{:,}</td><td>{:,}</td></tr>'.format(x.train_avg_unq_words_, x.tv_dev.shape[0], x.tv_test.shape[0])\n",
    "\n",
    "html += '</table>'\n",
    "display(HTML(html))"
   ]
  },
  {
   "cell_type": "markdown",
   "metadata": {},
   "source": [
    "# Baseline Models"
   ]
  },
  {
   "cell_type": "markdown",
   "metadata": {},
   "source": [
    "### Multinomial Naïve Bayes"
   ]
  },
  {
   "cell_type": "code",
   "execution_count": 8,
   "metadata": {},
   "outputs": [],
   "source": [
    "reload(base_models)\n",
    "mnb = base_models.MultNB()\n",
    "\n",
    "for x in all_inputs:\n",
    "    mnb.test_models(x)"
   ]
  },
  {
   "cell_type": "code",
   "execution_count": 9,
   "metadata": {},
   "outputs": [
    {
     "name": "stdout",
     "output_type": "stream",
     "text": [
      "Best Multinomial Naïve Bayes model:\n",
      "input       Nouns Only\n",
      "alpha       0.00390625\n",
      "accuracy    0.72319688\n",
      "Name: 98, dtype: object\n"
     ]
    },
    {
     "data": {
      "image/png": "[encoded data removed]",
      "text/plain": [
       "<Figure size 432x288 with 1 Axes>"
      ]
     },
     "metadata": {},
     "output_type": "display_data"
    }
   ],
   "source": [
    "reload(base_models)\n",
    "\n",
    "mnb_tables = []\n",
    "for x in all_inputs:\n",
    "    mnb_tables.append(x.mnb_accuracy_table_)\n",
    "\n",
    "mnb.plot_accuracy(mnb_tables)"
   ]
  },
  {
   "cell_type": "markdown",
   "metadata": {},
   "source": [
    "### Logistic Regression"
   ]
  },
  {
   "cell_type": "code",
   "execution_count": 10,
   "metadata": {},
   "outputs": [],
   "source": [
    "reload(base_models)\n",
    "lr = base_models.LogReg()\n",
    "\n",
    "for x in all_inputs:\n",
    "    lr.test_models(x)"
   ]
  },
  {
   "cell_type": "code",
   "execution_count": 11,
   "metadata": {},
   "outputs": [
    {
     "name": "stdout",
     "output_type": "stream",
     "text": [
      "Best Logistic Regression model:\n",
      "input         Full Text\n",
      "penalty              L2\n",
      "C          100.00000000\n",
      "accuracy     0.76998051\n",
      "Name: 23, dtype: object\n"
     ]
    },
    {
     "data": {
      "image/png": "[encoded data removed]",
      "text/plain": [
       "<Figure size 432x288 with 1 Axes>"
      ]
     },
     "metadata": {},
     "output_type": "display_data"
    }
   ],
   "source": [
    "reload(base_models)\n",
    "\n",
    "lr_tables = []\n",
    "for x in all_inputs:\n",
    "    lr_tables.append(x.lr_accuracy_table_)\n",
    "\n",
    "lr.plot_accuracy(lr_tables)"
   ]
  },
  {
   "cell_type": "code",
   "execution_count": 12,
   "metadata": {},
   "outputs": [
    {
     "data": {
      "text/html": [
       "<table><th>Model Input</th><th>MNB Parameters</th><th>MNB Accuracy</th><th>LR Parameters</th><th>LR Accuracy</th><tr><td>Full Text</td><td>alpha = 2^-7.5</td><td>0.698</td><td>C = 10^2.0; penalty = l2</td><td>0.770</td></tr><tr><td>Lead Paragraph</td><td>alpha = 2^-4.5</td><td>0.637</td><td>C = 10^5.0; penalty = l2</td><td>0.669</td></tr><tr><td>Headlines</td><td>alpha = 2^-2.0</td><td>0.556</td><td>C = 10^1.0; penalty = l2</td><td>0.558</td></tr><tr><td>Nouns Only</td><td>alpha = 2^-8.0</td><td>0.723</td><td>C = 10^4.0; penalty = l2</td><td>0.762</td></tr><tr><td>Lemmatized</td><td>alpha = 2^-6.5</td><td>0.698</td><td>C = 10^6.0; penalty = l2</td><td>0.762</td></tr></table>"
      ],
      "text/plain": [
       "<IPython.core.display.HTML object>"
      ]
     },
     "metadata": {},
     "output_type": "display_data"
    }
   ],
   "source": [
    "html = '<table><th>Model Input</th><th>MNB Parameters</th><th>MNB Accuracy</th>'\n",
    "html += '<th>LR Parameters</th><th>LR Accuracy</th>'\n",
    "\n",
    "for x in all_inputs:\n",
    "    alpha = 'alpha = 2^'+str(np.log2(x.best_mnb_model_.alpha))\n",
    "    html += '<tr><td>{}</td><td>{}</td><td>{:.3f}</td>'.format(x.name_, alpha, max(x.mnb_accuracy_table_.accuracy))\n",
    "    C = 'C = 10^'+str(np.log10(x.best_lr_model_.C))\n",
    "    penalty = 'penalty = '+x.best_lr_model_.penalty\n",
    "    html += '<td>{}</td><td>{:.3f}</td></tr>'.format(C+'; '+penalty, max(x.lr_accuracy_table_.accuracy))\n",
    "\n",
    "html += '</table>'\n",
    "display(HTML(html))"
   ]
  },
  {
   "cell_type": "markdown",
   "metadata": {},
   "source": [
    "# Complex Models"
   ]
  },
  {
   "cell_type": "markdown",
   "metadata": {},
   "source": [
    "### Neural Network"
   ]
  },
  {
   "cell_type": "code",
   "execution_count": 35,
   "metadata": {},
   "outputs": [
    {
     "name": "stdout",
     "output_type": "stream",
     "text": [
      "Created index of 100-dimensional embeddings for 400,000 words.\n",
      "Full Text:\n",
      "\t103,042 unique tokens\n",
      "\tCreated matrix of 100-dimensional weights for 103,043 tokens\n",
      "\tTraining data shape: (7356, 1218)\n",
      "Lead Paragraph:\n",
      "\t43,699 unique tokens\n",
      "\tCreated matrix of 100-dimensional weights for 43,700 tokens\n",
      "\tTraining data shape: (7169, 138)\n",
      "Headlines:\n",
      "\t11,706 unique tokens\n",
      "\tCreated matrix of 100-dimensional weights for 11,707 tokens\n",
      "\tTraining data shape: (7459, 10)\n",
      "Nouns Only:\n",
      "\t70,353 unique tokens\n",
      "\tCreated matrix of 100-dimensional weights for 70,354 tokens\n",
      "\tTraining data shape: (7355, 408)\n",
      "Lemmatized:\n",
      "\t81,442 unique tokens\n",
      "\tCreated matrix of 100-dimensional weights for 81,443 tokens\n",
      "\tTraining data shape: (7356, 1241)\n"
     ]
    }
   ],
   "source": [
    "reload(neural_nets)\n",
    "nn = neural_nets.NeuralNets()\n",
    "#nn.load_glove_vectors()\n",
    "\n",
    "for x in all_inputs:\n",
    "    nn.tokenize_pad(x)\n",
    "    \n",
    "# 80% pad: .\n",
    "# 90% pad: 1218,  138, 10,  408, 1241\n",
    "# no  pad: 7555, 5974, 55, 3296, 7556"
   ]
  },
  {
   "cell_type": "code",
   "execution_count": 36,
   "metadata": {},
   "outputs": [
    {
     "name": "stdout",
     "output_type": "stream",
     "text": [
      "Compiled\n",
      "Epoch 1/5\n",
      "7356/7356 [==============================] - 1s 191us/step - loss: 2.5124 - acc: 0.2946\n",
      "Epoch 2/5\n",
      "7356/7356 [==============================] - 1s 164us/step - loss: 2.0020 - acc: 0.4322\n",
      "Epoch 3/5\n",
      "7356/7356 [==============================] - 1s 164us/step - loss: 1.7751 - acc: 0.5083\n",
      "Epoch 4/5\n",
      "7356/7356 [==============================] - 1s 164us/step - loss: 1.6493 - acc: 0.5328\n",
      "Epoch 5/5\n",
      "7356/7356 [==============================] - 1s 165us/step - loss: 1.5611 - acc: 0.5606\n",
      "Fit\n",
      "1978/1978 [==============================] - 0s 179us/step\n",
      "Test loss: 4.32084581463836\n",
      "Test accuracy: 0.11476238628640334\n",
      "First prediction (probabilities): [1.3763154e-01 1.2798142e-03 2.8146342e-03 6.0451133e-09 4.7635335e-02\n",
      " 1.6004731e-01 2.1727227e-02 8.2188030e-04 1.1213558e-03 5.3727001e-01\n",
      " 6.4851460e-03 1.5408814e-02 2.4912732e-03 8.9037772e-03 6.0734237e-05\n",
      " 5.7639686e-06 1.1485079e-02 1.4205658e-02 9.0807742e-03 1.6242409e-02\n",
      " 5.2814754e-03]\n",
      "First prediction (category): 9\n",
      "First test label: 0\n",
      "_________________________________________________________________\n",
      "Layer (type)                 Output Shape              Param #   \n",
      "=================================================================\n",
      "embedding_5 (Embedding)      (None, 1218, 100)         10304300  \n",
      "_________________________________________________________________\n",
      "global_average_pooling1d_5 ( (None, 100)               0         \n",
      "_________________________________________________________________\n",
      "dense_9 (Dense)              (None, 100)               10100     \n",
      "_________________________________________________________________\n",
      "dense_10 (Dense)             (None, 21)                2121      \n",
      "=================================================================\n",
      "Total params: 10,316,521\n",
      "Trainable params: 12,221\n",
      "Non-trainable params: 10,304,300\n",
      "_________________________________________________________________\n",
      "None\n"
     ]
    },
    {
     "data": {
      "text/plain": [
       "<tensorflow.python.keras._impl.keras.engine.sequential.Sequential at 0x165d16d30>"
      ]
     },
     "execution_count": 36,
     "metadata": {},
     "output_type": "execute_result"
    }
   ],
   "source": [
    "nn.neural_net(full_text)"
   ]
  },
  {
   "cell_type": "code",
   "execution_count": 39,
   "metadata": {},
   "outputs": [
    {
     "name": "stdout",
     "output_type": "stream",
     "text": [
      "Compiled\n",
      "Epoch 1/5\n",
      "7459/7459 [==============================] - 1s 68us/step - loss: 2.1616 - acc: 0.4027\n",
      "Epoch 2/5\n",
      "7459/7459 [==============================] - 0s 35us/step - loss: 1.6478 - acc: 0.5351\n",
      "Epoch 3/5\n",
      "7459/7459 [==============================] - 0s 35us/step - loss: 1.5303 - acc: 0.5505\n",
      "Epoch 4/5\n",
      "7459/7459 [==============================] - 0s 35us/step - loss: 1.4706 - acc: 0.5666\n",
      "Epoch 5/5\n",
      "7459/7459 [==============================] - 0s 36us/step - loss: 1.4351 - acc: 0.5725\n",
      "Fit\n",
      "2022/2022 [==============================] - 0s 61us/step\n",
      "Test loss: 5.264372144089726\n",
      "Test accuracy: 0.0830860534124629\n",
      "First prediction (probabilities): [3.6216214e-01 7.7869631e-03 1.4641655e-02 2.0571592e-07 2.1535961e-02\n",
      " 1.3715844e-01 1.5649814e-02 1.1477764e-02 2.6305749e-03 2.8815842e-01\n",
      " 2.0886685e-03 9.2350608e-03 1.9650981e-02 2.8731670e-02 6.2485771e-05\n",
      " 1.8460103e-07 1.7342042e-02 2.4770068e-02 1.9601358e-02 1.0899558e-02\n",
      " 6.4159855e-03]\n",
      "First prediction (category): 0\n",
      "First test label: 0\n",
      "_________________________________________________________________\n",
      "Layer (type)                 Output Shape              Param #   \n",
      "=================================================================\n",
      "embedding_8 (Embedding)      (None, 10, 100)           1170700   \n",
      "_________________________________________________________________\n",
      "global_average_pooling1d_8 ( (None, 100)               0         \n",
      "_________________________________________________________________\n",
      "dense_15 (Dense)             (None, 100)               10100     \n",
      "_________________________________________________________________\n",
      "dense_16 (Dense)             (None, 21)                2121      \n",
      "=================================================================\n",
      "Total params: 1,182,921\n",
      "Trainable params: 12,221\n",
      "Non-trainable params: 1,170,700\n",
      "_________________________________________________________________\n",
      "None\n"
     ]
    },
    {
     "data": {
      "text/plain": [
       "<tensorflow.python.keras._impl.keras.engine.sequential.Sequential at 0x16c35a4e0>"
      ]
     },
     "execution_count": 39,
     "metadata": {},
     "output_type": "execute_result"
    }
   ],
   "source": [
    "nn.neural_net(headlines)"
   ]
  },
  {
   "cell_type": "markdown",
   "metadata": {},
   "source": [
    "# Error Analysis"
   ]
  },
  {
   "cell_type": "code",
   "execution_count": null,
   "metadata": {},
   "outputs": [],
   "source": [
    "from sklearn.metrics import classification_report, confusion_matrix"
   ]
  },
  {
   "cell_type": "code",
   "execution_count": null,
   "metadata": {
    "scrolled": false
   },
   "outputs": [],
   "source": [
    "for x in [full_text]:#, lead_para, headlines, nouns, lemmas]:\n",
    "    print('\\n', x.name_, ':')\n",
    "    print(classification_report(x.dev_labels, x.best_mnb_model_.predict(x.tv_dev)))\n",
    "    print(confusion_matrix(x.dev_labels, x.best_mnb_model_.predict(x.tv_dev), labels=list(x.dev_labels.unique())))"
   ]
  },
  {
   "cell_type": "code",
   "execution_count": null,
   "metadata": {},
   "outputs": [],
   "source": [
    "x.dev_labels.unique()"
   ]
  },
  {
   "cell_type": "code",
   "execution_count": 74,
   "metadata": {},
   "outputs": [
    {
     "data": {
      "text/html": [
       "<div>\n",
       "<style scoped>\n",
       "    .dataframe tbody tr th:only-of-type {\n",
       "        vertical-align: middle;\n",
       "    }\n",
       "\n",
       "    .dataframe tbody tr th {\n",
       "        vertical-align: top;\n",
       "    }\n",
       "\n",
       "    .dataframe thead th {\n",
       "        text-align: right;\n",
       "    }\n",
       "</style>\n",
       "<table border=\"1\" class=\"dataframe\">\n",
       "  <thead>\n",
       "    <tr style=\"text-align: right;\">\n",
       "      <th></th>\n",
       "      <th>desk</th>\n",
       "      <th>cnt</th>\n",
       "    </tr>\n",
       "  </thead>\n",
       "  <tbody>\n",
       "    <tr>\n",
       "      <th>0</th>\n",
       "      <td>business</td>\n",
       "      <td>1832</td>\n",
       "    </tr>\n",
       "    <tr>\n",
       "      <th>1</th>\n",
       "      <td>metropolitan</td>\n",
       "      <td>1292</td>\n",
       "    </tr>\n",
       "    <tr>\n",
       "      <th>2</th>\n",
       "      <td>sports</td>\n",
       "      <td>947</td>\n",
       "    </tr>\n",
       "    <tr>\n",
       "      <th>3</th>\n",
       "      <td>arts</td>\n",
       "      <td>881</td>\n",
       "    </tr>\n",
       "    <tr>\n",
       "      <th>4</th>\n",
       "      <td>national</td>\n",
       "      <td>785</td>\n",
       "    </tr>\n",
       "    <tr>\n",
       "      <th>5</th>\n",
       "      <td>classified</td>\n",
       "      <td>734</td>\n",
       "    </tr>\n",
       "    <tr>\n",
       "      <th>6</th>\n",
       "      <td>foreign</td>\n",
       "      <td>723</td>\n",
       "    </tr>\n",
       "    <tr>\n",
       "      <th>7</th>\n",
       "      <td>editorial</td>\n",
       "      <td>666</td>\n",
       "    </tr>\n",
       "    <tr>\n",
       "      <th>8</th>\n",
       "      <td>society</td>\n",
       "      <td>242</td>\n",
       "    </tr>\n",
       "    <tr>\n",
       "      <th>9</th>\n",
       "      <td>book review</td>\n",
       "      <td>176</td>\n",
       "    </tr>\n",
       "    <tr>\n",
       "      <th>10</th>\n",
       "      <td>magazine</td>\n",
       "      <td>147</td>\n",
       "    </tr>\n",
       "    <tr>\n",
       "      <th>11</th>\n",
       "      <td>style</td>\n",
       "      <td>147</td>\n",
       "    </tr>\n",
       "    <tr>\n",
       "      <th>12</th>\n",
       "      <td>new jersey weekly</td>\n",
       "      <td>119</td>\n",
       "    </tr>\n",
       "    <tr>\n",
       "      <th>13</th>\n",
       "      <td>week in review</td>\n",
       "      <td>116</td>\n",
       "    </tr>\n",
       "    <tr>\n",
       "      <th>14</th>\n",
       "      <td>the city weekly</td>\n",
       "      <td>116</td>\n",
       "    </tr>\n",
       "    <tr>\n",
       "      <th>15</th>\n",
       "      <td>westchester weekly</td>\n",
       "      <td>115</td>\n",
       "    </tr>\n",
       "    <tr>\n",
       "      <th>16</th>\n",
       "      <td>long island weekly</td>\n",
       "      <td>115</td>\n",
       "    </tr>\n",
       "    <tr>\n",
       "      <th>17</th>\n",
       "      <td>obituary</td>\n",
       "      <td>113</td>\n",
       "    </tr>\n",
       "    <tr>\n",
       "      <th>18</th>\n",
       "      <td>travel</td>\n",
       "      <td>111</td>\n",
       "    </tr>\n",
       "    <tr>\n",
       "      <th>19</th>\n",
       "      <td>home &amp; garden</td>\n",
       "      <td>94</td>\n",
       "    </tr>\n",
       "    <tr>\n",
       "      <th>20</th>\n",
       "      <td>connecticut weekly</td>\n",
       "      <td>90</td>\n",
       "    </tr>\n",
       "    <tr>\n",
       "      <th>21</th>\n",
       "      <td>real estate</td>\n",
       "      <td>75</td>\n",
       "    </tr>\n",
       "    <tr>\n",
       "      <th>22</th>\n",
       "      <td>science</td>\n",
       "      <td>68</td>\n",
       "    </tr>\n",
       "    <tr>\n",
       "      <th>23</th>\n",
       "      <td>technology</td>\n",
       "      <td>49</td>\n",
       "    </tr>\n",
       "    <tr>\n",
       "      <th>24</th>\n",
       "      <td>dining</td>\n",
       "      <td>47</td>\n",
       "    </tr>\n",
       "    <tr>\n",
       "      <th>25</th>\n",
       "      <td>living</td>\n",
       "      <td>41</td>\n",
       "    </tr>\n",
       "    <tr>\n",
       "      <th>26</th>\n",
       "      <td>t magazine</td>\n",
       "      <td>23</td>\n",
       "    </tr>\n",
       "    <tr>\n",
       "      <th>27</th>\n",
       "      <td>health &amp; fitness</td>\n",
       "      <td>22</td>\n",
       "    </tr>\n",
       "    <tr>\n",
       "      <th>28</th>\n",
       "      <td>escapes</td>\n",
       "      <td>18</td>\n",
       "    </tr>\n",
       "    <tr>\n",
       "      <th>29</th>\n",
       "      <td>education</td>\n",
       "      <td>13</td>\n",
       "    </tr>\n",
       "    <tr>\n",
       "      <th>30</th>\n",
       "      <td>cars</td>\n",
       "      <td>13</td>\n",
       "    </tr>\n",
       "    <tr>\n",
       "      <th>31</th>\n",
       "      <td>television</td>\n",
       "      <td>8</td>\n",
       "    </tr>\n",
       "    <tr>\n",
       "      <th>32</th>\n",
       "      <td>workplace</td>\n",
       "      <td>3</td>\n",
       "    </tr>\n",
       "    <tr>\n",
       "      <th>33</th>\n",
       "      <td>the city weekly/queens</td>\n",
       "      <td>3</td>\n",
       "    </tr>\n",
       "    <tr>\n",
       "      <th>34</th>\n",
       "      <td>thrombotic thrombocytopenic purpura, which aff...</td>\n",
       "      <td>1</td>\n",
       "    </tr>\n",
       "    <tr>\n",
       "      <th>35</th>\n",
       "      <td>the marathon</td>\n",
       "      <td>1</td>\n",
       "    </tr>\n",
       "    <tr>\n",
       "      <th>36</th>\n",
       "      <td>tholiday</td>\n",
       "      <td>1</td>\n",
       "    </tr>\n",
       "    <tr>\n",
       "      <th>37</th>\n",
       "      <td>working</td>\n",
       "      <td>1</td>\n",
       "    </tr>\n",
       "    <tr>\n",
       "      <th>38</th>\n",
       "      <td>a nation challenged</td>\n",
       "      <td>1</td>\n",
       "    </tr>\n",
       "    <tr>\n",
       "      <th>39</th>\n",
       "      <td>the business of green</td>\n",
       "      <td>1</td>\n",
       "    </tr>\n",
       "    <tr>\n",
       "      <th>40</th>\n",
       "      <td>summer times supplement</td>\n",
       "      <td>1</td>\n",
       "    </tr>\n",
       "    <tr>\n",
       "      <th>41</th>\n",
       "      <td>retirement</td>\n",
       "      <td>1</td>\n",
       "    </tr>\n",
       "    <tr>\n",
       "      <th>42</th>\n",
       "      <td>personal investing supplement</td>\n",
       "      <td>1</td>\n",
       "    </tr>\n",
       "    <tr>\n",
       "      <th>43</th>\n",
       "      <td>outlook</td>\n",
       "      <td>1</td>\n",
       "    </tr>\n",
       "    <tr>\n",
       "      <th>44</th>\n",
       "      <td>giving</td>\n",
       "      <td>1</td>\n",
       "    </tr>\n",
       "    <tr>\n",
       "      <th>45</th>\n",
       "      <td>page 6, column 4</td>\n",
       "      <td>1</td>\n",
       "    </tr>\n",
       "  </tbody>\n",
       "</table>\n",
       "</div>"
      ],
      "text/plain": [
       "                                                 desk   cnt\n",
       "0                                            business  1832\n",
       "1                                        metropolitan  1292\n",
       "2                                              sports   947\n",
       "3                                                arts   881\n",
       "4                                            national   785\n",
       "5                                          classified   734\n",
       "6                                             foreign   723\n",
       "7                                           editorial   666\n",
       "8                                             society   242\n",
       "9                                         book review   176\n",
       "10                                           magazine   147\n",
       "11                                              style   147\n",
       "12                                  new jersey weekly   119\n",
       "13                                     week in review   116\n",
       "14                                    the city weekly   116\n",
       "15                                 westchester weekly   115\n",
       "16                                 long island weekly   115\n",
       "17                                           obituary   113\n",
       "18                                             travel   111\n",
       "19                                      home & garden    94\n",
       "20                                 connecticut weekly    90\n",
       "21                                        real estate    75\n",
       "22                                            science    68\n",
       "23                                         technology    49\n",
       "24                                             dining    47\n",
       "25                                             living    41\n",
       "26                                         t magazine    23\n",
       "27                                   health & fitness    22\n",
       "28                                            escapes    18\n",
       "29                                          education    13\n",
       "30                                               cars    13\n",
       "31                                         television     8\n",
       "32                                          workplace     3\n",
       "33                             the city weekly/queens     3\n",
       "34  thrombotic thrombocytopenic purpura, which aff...     1\n",
       "35                                       the marathon     1\n",
       "36                                           tholiday     1\n",
       "37                                            working     1\n",
       "38                                a nation challenged     1\n",
       "39                              the business of green     1\n",
       "40                            summer times supplement     1\n",
       "41                                         retirement     1\n",
       "42                      personal investing supplement     1\n",
       "43                                            outlook     1\n",
       "44                                             giving     1\n",
       "45                                   page 6, column 4     1"
      ]
     },
     "execution_count": 74,
     "metadata": {},
     "output_type": "execute_result"
    }
   ],
   "source": [
    "#full_text.train_labels#.groupby('desk')\n",
    "df_final.groupby('desk', as_index=False).count().sort_values(by=['headline'], ascending=False).reset_index().rename(columns={'headline':'cnt'})[['desk','cnt']]\n",
    "#.filter(lambda x: x.desk.count() >= 100).groupby('desk')['desk'].count()\n",
    "# 47 topics total (9959 articles). 32 (9933) with >=10. 29 (9889) with >= 20.\n",
    "# 27 (9844) with >= 25,30,40. 24 (9707) with >= 50. 20 (9380) with >= 100."
   ]
  },
  {
   "cell_type": "code",
   "execution_count": null,
   "metadata": {},
   "outputs": [],
   "source": []
  }
 ],
 "metadata": {
  "kernelspec": {
   "display_name": "Python 3",
   "language": "python",
   "name": "python3"
  },
  "language_info": {
   "codemirror_mode": {
    "name": "ipython",
    "version": 3
   },
   "file_extension": ".py",
   "mimetype": "text/x-python",
   "name": "python",
   "nbconvert_exporter": "python",
   "pygments_lexer": "ipython3",
   "version": "3.6.5"
  }
 },
 "nbformat": 4,
 "nbformat_minor": 2
}
