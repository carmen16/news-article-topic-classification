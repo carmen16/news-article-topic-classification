{
 "cells": [
  {
   "cell_type": "markdown",
   "metadata": {},
   "source": [
    "# Packages"
   ]
  },
  {
   "cell_type": "code",
   "execution_count": 1,
   "metadata": {},
   "outputs": [],
   "source": [
    "# Helpful packages\n",
    "import pandas as pd\n",
    "import numpy as np\n",
    "import matplotlib.pyplot as plt\n",
    "%matplotlib inline\n",
    "\n",
    "from importlib import reload\n",
    "import split_vectorize\n",
    "import base_models"
   ]
  },
  {
   "cell_type": "markdown",
   "metadata": {},
   "source": [
    "# Import Data"
   ]
  },
  {
   "cell_type": "code",
   "execution_count": 2,
   "metadata": {},
   "outputs": [
    {
     "data": {
      "text/plain": [
       "(10000, 32)"
      ]
     },
     "execution_count": 2,
     "metadata": {},
     "output_type": "execute_result"
    }
   ],
   "source": [
    "df = pd.read_csv('data/nyt_corpus.csv')\n",
    "df.shape"
   ]
  },
  {
   "cell_type": "markdown",
   "metadata": {},
   "source": [
    "# Preprocessing"
   ]
  },
  {
   "cell_type": "markdown",
   "metadata": {},
   "source": [
    "### Labels"
   ]
  },
  {
   "cell_type": "code",
   "execution_count": 3,
   "metadata": {},
   "outputs": [
    {
     "data": {
      "text/html": [
       "<div>\n",
       "<style scoped>\n",
       "    .dataframe tbody tr th:only-of-type {\n",
       "        vertical-align: middle;\n",
       "    }\n",
       "\n",
       "    .dataframe tbody tr th {\n",
       "        vertical-align: top;\n",
       "    }\n",
       "\n",
       "    .dataframe thead th {\n",
       "        text-align: right;\n",
       "    }\n",
       "</style>\n",
       "<table border=\"1\" class=\"dataframe\">\n",
       "  <thead>\n",
       "    <tr style=\"text-align: right;\">\n",
       "      <th></th>\n",
       "      <th>desk</th>\n",
       "      <th>general_descriptor</th>\n",
       "      <th>online_sections</th>\n",
       "      <th>taxonomic_classifier</th>\n",
       "    </tr>\n",
       "  </thead>\n",
       "  <tbody>\n",
       "    <tr>\n",
       "      <th>9990</th>\n",
       "      <td>Editorial Desk</td>\n",
       "      <td>['Budgets and Budgeting', 'National Debt (US)'...</td>\n",
       "      <td>Opinion</td>\n",
       "      <td>['Top/Opinion', 'Top/Opinion/Opinion', 'Top/Ne...</td>\n",
       "    </tr>\n",
       "    <tr>\n",
       "      <th>9991</th>\n",
       "      <td>Foreign Desk</td>\n",
       "      <td>['Immigration and Refugees', 'Jews', 'Music', ...</td>\n",
       "      <td>World</td>\n",
       "      <td>['Top/News', 'Top/News/World/Countries and Ter...</td>\n",
       "    </tr>\n",
       "    <tr>\n",
       "      <th>9992</th>\n",
       "      <td>Foreign Desk</td>\n",
       "      <td>['Airlines and Airplanes']</td>\n",
       "      <td>NaN</td>\n",
       "      <td>['Top/Classifieds/Job Market/Job Categories/Ma...</td>\n",
       "    </tr>\n",
       "    <tr>\n",
       "      <th>9993</th>\n",
       "      <td>Metropolitan Desk</td>\n",
       "      <td>['Murders and Attempted Murders', 'Basketball'...</td>\n",
       "      <td>New York and Region</td>\n",
       "      <td>['Top/News/U.S./U.S. States, Territories and P...</td>\n",
       "    </tr>\n",
       "    <tr>\n",
       "      <th>9994</th>\n",
       "      <td>Book Review Desk</td>\n",
       "      <td>['Books and Literature']</td>\n",
       "      <td>Arts; Books</td>\n",
       "      <td>['Top/Features/Books/Book Reviews', 'Top/Featu...</td>\n",
       "    </tr>\n",
       "    <tr>\n",
       "      <th>9995</th>\n",
       "      <td>Editorial Desk</td>\n",
       "      <td>NaN</td>\n",
       "      <td>Opinion</td>\n",
       "      <td>['Top/Opinion/Opinion/Letters', 'Top/Opinion',...</td>\n",
       "    </tr>\n",
       "    <tr>\n",
       "      <th>9996</th>\n",
       "      <td>National Desk</td>\n",
       "      <td>NaN</td>\n",
       "      <td>U.S.</td>\n",
       "      <td>['Top/News/U.S.', 'Top/News']</td>\n",
       "    </tr>\n",
       "    <tr>\n",
       "      <th>9997</th>\n",
       "      <td>Metropolitan Desk</td>\n",
       "      <td>NaN</td>\n",
       "      <td>New York and Region</td>\n",
       "      <td>['Top/News/New York and Region']</td>\n",
       "    </tr>\n",
       "    <tr>\n",
       "      <th>9998</th>\n",
       "      <td>Classified</td>\n",
       "      <td>NaN</td>\n",
       "      <td>Paid Death Notices</td>\n",
       "      <td>['Top/Classifieds/Paid Death Notices']</td>\n",
       "    </tr>\n",
       "    <tr>\n",
       "      <th>9999</th>\n",
       "      <td>Leisure/Weekend Desk</td>\n",
       "      <td>NaN</td>\n",
       "      <td>Arts</td>\n",
       "      <td>['Top/Features/Arts']</td>\n",
       "    </tr>\n",
       "  </tbody>\n",
       "</table>\n",
       "</div>"
      ],
      "text/plain": [
       "                      desk                                 general_descriptor  \\\n",
       "9990        Editorial Desk  ['Budgets and Budgeting', 'National Debt (US)'...   \n",
       "9991          Foreign Desk  ['Immigration and Refugees', 'Jews', 'Music', ...   \n",
       "9992          Foreign Desk                         ['Airlines and Airplanes']   \n",
       "9993     Metropolitan Desk  ['Murders and Attempted Murders', 'Basketball'...   \n",
       "9994      Book Review Desk                           ['Books and Literature']   \n",
       "9995        Editorial Desk                                                NaN   \n",
       "9996         National Desk                                                NaN   \n",
       "9997     Metropolitan Desk                                                NaN   \n",
       "9998            Classified                                                NaN   \n",
       "9999  Leisure/Weekend Desk                                                NaN   \n",
       "\n",
       "          online_sections                               taxonomic_classifier  \n",
       "9990              Opinion  ['Top/Opinion', 'Top/Opinion/Opinion', 'Top/Ne...  \n",
       "9991                World  ['Top/News', 'Top/News/World/Countries and Ter...  \n",
       "9992                  NaN  ['Top/Classifieds/Job Market/Job Categories/Ma...  \n",
       "9993  New York and Region  ['Top/News/U.S./U.S. States, Territories and P...  \n",
       "9994          Arts; Books  ['Top/Features/Books/Book Reviews', 'Top/Featu...  \n",
       "9995              Opinion  ['Top/Opinion/Opinion/Letters', 'Top/Opinion',...  \n",
       "9996                 U.S.                      ['Top/News/U.S.', 'Top/News']  \n",
       "9997  New York and Region                   ['Top/News/New York and Region']  \n",
       "9998   Paid Death Notices             ['Top/Classifieds/Paid Death Notices']  \n",
       "9999                 Arts                              ['Top/Features/Arts']  "
      ]
     },
     "execution_count": 3,
     "metadata": {},
     "output_type": "execute_result"
    }
   ],
   "source": [
    "# possible labels - desk works best\n",
    "df[['desk','general_descriptor','online_sections','taxonomic_classifier']][-10:]"
   ]
  },
  {
   "cell_type": "code",
   "execution_count": 6,
   "metadata": {},
   "outputs": [
    {
     "data": {
      "text/plain": [
       "desk                    0.0041\n",
       "general_descriptor      0.2140\n",
       "online_sections         0.0244\n",
       "taxonomic_classifier    0.0144\n",
       "dtype: float64"
      ]
     },
     "execution_count": 6,
     "metadata": {},
     "output_type": "execute_result"
    }
   ],
   "source": [
    "# pct nulls for each possible labels\n",
    "n = df.shape[0]\n",
    "(n - df[['desk','general_descriptor','online_sections','taxonomic_classifier']].count())/n"
   ]
  },
  {
   "cell_type": "code",
   "execution_count": 7,
   "metadata": {},
   "outputs": [
    {
     "data": {
      "text/plain": [
       "desk\n",
       "A Nation Challenged                   1\n",
       "Adventure Sports                      2\n",
       "Arts & Ideas/Cultural Desk           18\n",
       "Arts & Leisure Desk                  29\n",
       "Arts and Leisure Desk               129\n",
       "Automobiles                           9\n",
       "Book Review Desk                    176\n",
       "Business World Magazine               1\n",
       "Business/Finance Desk                 1\n",
       "Business/Financial Desk             628\n",
       "Business\\Financial Desk               1\n",
       "Cars                                  4\n",
       "Circuits                             48\n",
       "Classifed                             1\n",
       "Classified                          721\n",
       "Classified Desk                       3\n",
       "Classifieds                           4\n",
       "Connecticut Weekly Desk              90\n",
       "Cultural Desk                       231\n",
       "Dining In, Dining Out/Style Desk     37\n",
       "Name: desk, dtype: int64"
      ]
     },
     "execution_count": 7,
     "metadata": {},
     "output_type": "execute_result"
    }
   ],
   "source": [
    "# these will be cleaned up for the final dataframe\n",
    "df.groupby('desk')['desk'].count()[:20]"
   ]
  },
  {
   "cell_type": "code",
   "execution_count": 8,
   "metadata": {},
   "outputs": [
    {
     "name": "stdout",
     "output_type": "stream",
     "text": [
      "(10000, 5)\n"
     ]
    },
    {
     "data": {
      "text/html": [
       "<div>\n",
       "<style scoped>\n",
       "    .dataframe tbody tr th:only-of-type {\n",
       "        vertical-align: middle;\n",
       "    }\n",
       "\n",
       "    .dataframe tbody tr th {\n",
       "        vertical-align: top;\n",
       "    }\n",
       "\n",
       "    .dataframe thead th {\n",
       "        text-align: right;\n",
       "    }\n",
       "</style>\n",
       "<table border=\"1\" class=\"dataframe\">\n",
       "  <thead>\n",
       "    <tr style=\"text-align: right;\">\n",
       "      <th></th>\n",
       "      <th>desk</th>\n",
       "      <th>full_text</th>\n",
       "      <th>lead_paragraph</th>\n",
       "      <th>nouns</th>\n",
       "      <th>lemmas</th>\n",
       "    </tr>\n",
       "  </thead>\n",
       "  <tbody>\n",
       "    <tr>\n",
       "      <th>0</th>\n",
       "      <td>financial</td>\n",
       "      <td>The Bethlehem Steel Corporation, after report...</td>\n",
       "      <td>The Bethlehem Steel Corporation, after report...</td>\n",
       "      <td>Bethlehem Steel Corporation loss quarter yeste...</td>\n",
       "      <td>The Bethlehem Steel Corporation , after report...</td>\n",
       "    </tr>\n",
       "    <tr>\n",
       "      <th>1</th>\n",
       "      <td>foreign</td>\n",
       "      <td>Seeking to raise morale at home and improve i...</td>\n",
       "      <td>Seeking to raise morale at home and improve i...</td>\n",
       "      <td>morale home image Iraq today elections candida...</td>\n",
       "      <td>Seeking to raise morale at home and improve it...</td>\n",
       "    </tr>\n",
       "    <tr>\n",
       "      <th>2</th>\n",
       "      <td>editorial</td>\n",
       "      <td>By the time Lord Elgin obtained the authority...</td>\n",
       "      <td>By the time Lord Elgin obtained the authority...</td>\n",
       "      <td>time Lord Elgin authority pieces stone inscrip...</td>\n",
       "      <td>By the time Lord Elgin obtain the authority to...</td>\n",
       "    </tr>\n",
       "    <tr>\n",
       "      <th>3</th>\n",
       "      <td>classified</td>\n",
       "      <td>SPEIER-Claire. Born New York City. Age 70. Gr...</td>\n",
       "      <td>SPEIER-Claire. Born New York City. Age 70. Gr...</td>\n",
       "      <td>SPEIER-Claire. Born New York City. Age Graduat...</td>\n",
       "      <td>SPEIER-Claire. Born New York City. Age 70. Gra...</td>\n",
       "    </tr>\n",
       "    <tr>\n",
       "      <th>4</th>\n",
       "      <td>national</td>\n",
       "      <td>LEAD: The Japanese videotape begins with the ...</td>\n",
       "      <td>LEAD: The Japanese videotape begins with the ...</td>\n",
       "      <td>LEAD videotape words tables foods. tape inspec...</td>\n",
       "      <td>LEAD : The Japanese videotape begin with the w...</td>\n",
       "    </tr>\n",
       "  </tbody>\n",
       "</table>\n",
       "</div>"
      ],
      "text/plain": [
       "         desk                                          full_text  \\\n",
       "0   financial   The Bethlehem Steel Corporation, after report...   \n",
       "1     foreign   Seeking to raise morale at home and improve i...   \n",
       "2   editorial   By the time Lord Elgin obtained the authority...   \n",
       "3  classified   SPEIER-Claire. Born New York City. Age 70. Gr...   \n",
       "4    national   LEAD: The Japanese videotape begins with the ...   \n",
       "\n",
       "                                      lead_paragraph  \\\n",
       "0   The Bethlehem Steel Corporation, after report...   \n",
       "1   Seeking to raise morale at home and improve i...   \n",
       "2   By the time Lord Elgin obtained the authority...   \n",
       "3   SPEIER-Claire. Born New York City. Age 70. Gr...   \n",
       "4   LEAD: The Japanese videotape begins with the ...   \n",
       "\n",
       "                                               nouns  \\\n",
       "0  Bethlehem Steel Corporation loss quarter yeste...   \n",
       "1  morale home image Iraq today elections candida...   \n",
       "2  time Lord Elgin authority pieces stone inscrip...   \n",
       "3  SPEIER-Claire. Born New York City. Age Graduat...   \n",
       "4  LEAD videotape words tables foods. tape inspec...   \n",
       "\n",
       "                                              lemmas  \n",
       "0  The Bethlehem Steel Corporation , after report...  \n",
       "1  Seeking to raise morale at home and improve it...  \n",
       "2  By the time Lord Elgin obtain the authority to...  \n",
       "3  SPEIER-Claire. Born New York City. Age 70. Gra...  \n",
       "4  LEAD : The Japanese videotape begin with the w...  "
      ]
     },
     "execution_count": 8,
     "metadata": {},
     "output_type": "execute_result"
    }
   ],
   "source": [
    "df_final = pd.read_csv('data/nyt_corpus_cleaned.csv')\n",
    "print(df_final.shape)\n",
    "df_final.head()"
   ]
  },
  {
   "cell_type": "code",
   "execution_count": 9,
   "metadata": {},
   "outputs": [],
   "source": [
    "#df[df.desk == 'The Business of Green'][['desk','general_descriptor','online_sections','taxonomic_classifier']][-10:]"
   ]
  },
  {
   "cell_type": "markdown",
   "metadata": {},
   "source": [
    "### Train/Dev/Test Split and TF-IDF Vectorize"
   ]
  },
  {
   "cell_type": "code",
   "execution_count": 10,
   "metadata": {},
   "outputs": [
    {
     "name": "stderr",
     "output_type": "stream",
     "text": [
      "/Users/carmen/Documents/NLP/w266-final-project/split_vectorize.py:17: UserWarning: Boolean Series key will be reindexed to match DataFrame index.\n",
      "  data = self.df[[self.articles, self.labels]][self.df[self.articles].notnull()][self.df[self.labels].notnull()]\n"
     ]
    }
   ],
   "source": [
    "reload(split_vectorize)\n",
    "np.random.seed(102)\n",
    "\n",
    "full_text = split_vectorize.SplitVectorize(df_final, 'full_text', 'Full Text')\n",
    "full_text.train_test_split()\n",
    "full_text.tfidf_vectorize()\n",
    "\n",
    "lead_para = split_vectorize.SplitVectorize(df_final, 'lead_paragraph', 'Lead Paragraph')\n",
    "lead_para.train_test_split()\n",
    "lead_para.tfidf_vectorize()\n",
    "\n",
    "nouns = split_vectorize.SplitVectorize(df_final, 'nouns', 'Nouns Only')\n",
    "nouns.train_test_split()\n",
    "nouns.tfidf_vectorize()\n",
    "\n",
    "lemmas = split_vectorize.SplitVectorize(df_final, 'lemmas', 'Lemmatized')\n",
    "lemmas.train_test_split()\n",
    "lemmas.tfidf_vectorize()"
   ]
  },
  {
   "cell_type": "code",
   "execution_count": 11,
   "metadata": {},
   "outputs": [
    {
     "data": {
      "text/html": [
       "<table><th>Article Type</th><th>Training Articles</th><th>Training Vocab Size</th><th>Training NNZ per Article</th><th>Dev Articles</th><th>Test Articles</th></tr><tr><td>Full Text</td><td>7,302</td><td>85,031</td><td>260</td><td>512</td><td>1,969</td></tr><tr><td>Lead Paragraph</td><td>7,076</td><td>39,378</td><td>61</td><td>484</td><td>1,966</td></tr><tr><td>Nouns Only</td><td>7,300</td><td>68,324</td><td>120</td><td>501</td><td>1,981</td></tr><tr><td>Lemmatized</td><td>7,372</td><td>79,931</td><td>245</td><td>462</td><td>1,949</td></tr></tr></table>"
      ],
      "text/plain": [
       "<IPython.core.display.HTML object>"
      ]
     },
     "metadata": {},
     "output_type": "display_data"
    }
   ],
   "source": [
    "from IPython.display import display, HTML\n",
    "\n",
    "html = '<table><th>Article Type</th><th>Training Articles</th><th>Training Vocab Size</th><th>Training NNZ per Article</th>'\n",
    "html += '<th>Dev Articles</th><th>Test Articles</th></tr>'\n",
    "html += '<tr><td>Full Text</td><td>{:,}</td><td>{:,}</td><td>{:,.0f}</td>'.format(full_text.tv_train.shape[0], full_text.tv_train.shape[1], full_text.tv_train.nnz / full_text.tv_train.shape[0])\n",
    "html += '<td>{:,}</td><td>{:,}</td></tr>'.format(full_text.tv_dev.shape[0], full_text.tv_test.shape[0])\n",
    "html += '<tr><td>Lead Paragraph</td><td>{:,}</td><td>{:,}</td><td>{:,.0f}</td>'.format(lead_para.tv_train.shape[0], lead_para.tv_train.shape[1], lead_para.tv_train.nnz / lead_para.tv_train.shape[0])\n",
    "html += '<td>{:,}</td><td>{:,}</td></tr>'.format(lead_para.tv_dev.shape[0], lead_para.tv_test.shape[0])\n",
    "html += '<tr><td>Nouns Only</td><td>{:,}</td><td>{:,}</td><td>{:,.0f}</td>'.format(nouns.tv_train.shape[0], nouns.tv_train.shape[1], nouns.tv_train.nnz / nouns.tv_train.shape[0])\n",
    "html += '<td>{:,}</td><td>{:,}</td></tr>'.format(nouns.tv_dev.shape[0], nouns.tv_test.shape[0])\n",
    "html += '<tr><td>Lemmatized</td><td>{:,}</td><td>{:,}</td><td>{:,.0f}</td>'.format(lemmas.tv_train.shape[0], lemmas.tv_train.shape[1], lemmas.tv_train.nnz / lemmas.tv_train.shape[0])\n",
    "html += '<td>{:,}</td><td>{:,}</td></tr>'.format(lemmas.tv_dev.shape[0], lemmas.tv_test.shape[0])\n",
    "html += '</tr></table>'\n",
    "display(HTML(html))"
   ]
  },
  {
   "cell_type": "markdown",
   "metadata": {},
   "source": [
    "# Baseline Models"
   ]
  },
  {
   "cell_type": "markdown",
   "metadata": {},
   "source": [
    "### Multinomial Naïve Bayes"
   ]
  },
  {
   "cell_type": "code",
   "execution_count": 17,
   "metadata": {},
   "outputs": [
    {
     "name": "stdout",
     "output_type": "stream",
     "text": [
      "Best Multinomial Naïve Bayes model:\n",
      "name        Full Text\n",
      "alpha         0.00552\n",
      "accuracy      0.70703\n",
      "Name: 9, dtype: object\n"
     ]
    },
    {
     "data": {
      "image/png": "[encoded data removed]",
      "text/plain": [
       "<Figure size 432x288 with 1 Axes>"
      ]
     },
     "metadata": {},
     "output_type": "display_data"
    }
   ],
   "source": [
    "reload(base_models)\n",
    "mnb = base_models.MultNB()\n",
    "mnb_models = [mnb.accuracy_table(full_text), mnb.accuracy_table(lead_para),\n",
    "          mnb.accuracy_table(nouns), mnb.accuracy_table(lemmas)]\n",
    "mnb.plot_accuracy(mnb_models)"
   ]
  },
  {
   "cell_type": "markdown",
   "metadata": {},
   "source": [
    "### Logistic Regression"
   ]
  },
  {
   "cell_type": "code",
   "execution_count": 18,
   "metadata": {},
   "outputs": [
    {
     "name": "stdout",
     "output_type": "stream",
     "text": [
      "Best Logistic Regression model:\n",
      "name          Full Text\n",
      "penalty              L2\n",
      "C          100.00000000\n",
      "accuracy     0.76757812\n",
      "Name: 26, dtype: object\n"
     ]
    },
    {
     "data": {
      "image/png": "[encoded data removed]",
      "text/plain": [
       "<Figure size 432x288 with 1 Axes>"
      ]
     },
     "metadata": {},
     "output_type": "display_data"
    }
   ],
   "source": [
    "reload(base_models)\n",
    "lr = base_models.LogReg()\n",
    "lr_models = [lr.accuracy_table(full_text), lr.accuracy_table(lead_para),\n",
    "             lr.accuracy_table(nouns), lr.accuracy_table(lemmas)]\n",
    "lr.plot_accuracy(lr_models)"
   ]
  },
  {
   "cell_type": "code",
   "execution_count": null,
   "metadata": {},
   "outputs": [],
   "source": []
  }
 ],
 "metadata": {
  "kernelspec": {
   "display_name": "Python 3",
   "language": "python",
   "name": "python3"
  },
  "language_info": {
   "codemirror_mode": {
    "name": "ipython",
    "version": 3
   },
   "file_extension": ".py",
   "mimetype": "text/x-python",
   "name": "python",
   "nbconvert_exporter": "python",
   "pygments_lexer": "ipython3",
   "version": "3.6.5"
  }
 },
 "nbformat": 4,
 "nbformat_minor": 2
}
