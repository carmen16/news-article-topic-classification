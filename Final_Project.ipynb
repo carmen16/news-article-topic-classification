{
 "cells": [
  {
   "cell_type": "markdown",
   "metadata": {},
   "source": [
    "# Packages"
   ]
  },
  {
   "cell_type": "code",
   "execution_count": 1,
   "metadata": {},
   "outputs": [],
   "source": [
    "# Helpful packages\n",
    "import pandas as pd\n",
    "import numpy as np\n",
    "import matplotlib.pyplot as plt\n",
    "%matplotlib inline\n",
    "\n",
    "from importlib import reload\n",
    "import split_vectorize\n",
    "import base_models\n",
    "import neural_nets\n",
    "\n",
    "from IPython.display import display, HTML"
   ]
  },
  {
   "cell_type": "markdown",
   "metadata": {},
   "source": [
    "# Get Data"
   ]
  },
  {
   "cell_type": "code",
   "execution_count": 2,
   "metadata": {},
   "outputs": [],
   "source": [
    "# Uncomment the line below to create a new data file. Otherwise, skip to the next cell to import the existing file.\n",
    "#%run parse_corpus.py 10000 # Number of articles to get"
   ]
  },
  {
   "cell_type": "code",
   "execution_count": 3,
   "metadata": {},
   "outputs": [
    {
     "data": {
      "text/plain": [
       "(10000, 32)"
      ]
     },
     "execution_count": 3,
     "metadata": {},
     "output_type": "execute_result"
    }
   ],
   "source": [
    "df = pd.read_csv('data/nyt_corpus.csv')\n",
    "df.shape"
   ]
  },
  {
   "cell_type": "markdown",
   "metadata": {},
   "source": [
    "### Possible Model Outputs"
   ]
  },
  {
   "cell_type": "code",
   "execution_count": 4,
   "metadata": {},
   "outputs": [
    {
     "data": {
      "text/plain": [
       "desk                    0.0041\n",
       "general_descriptor      0.2140\n",
       "online_sections         0.0244\n",
       "taxonomic_classifier    0.0144\n",
       "dtype: float64"
      ]
     },
     "execution_count": 4,
     "metadata": {},
     "output_type": "execute_result"
    }
   ],
   "source": [
    "# pct nulls for each possible labels\n",
    "(df.shape[0] - df[['desk','general_descriptor','online_sections','taxonomic_classifier']].count()) / df.shape[0]"
   ]
  },
  {
   "cell_type": "markdown",
   "metadata": {},
   "source": [
    "# Preprocess Data"
   ]
  },
  {
   "cell_type": "code",
   "execution_count": 5,
   "metadata": {
    "scrolled": false
   },
   "outputs": [
    {
     "name": "stdout",
     "output_type": "stream",
     "text": [
      "Imported data file\n",
      "Cleaned 1000 entries in full_text\n",
      "Cleaned 2000 entries in full_text\n",
      "Cleaned 3000 entries in full_text\n",
      "Cleaned 4000 entries in full_text\n",
      "Cleaned 5000 entries in full_text\n",
      "Cleaned 6000 entries in full_text\n",
      "Cleaned 7000 entries in full_text\n",
      "Cleaned 8000 entries in full_text\n",
      "Cleaned 9000 entries in full_text\n",
      "Cleaned 10000 entries in full_text\n",
      "Cleaned full_text\n",
      "Cleaned 1000 entries in lead_paragraph\n",
      "Cleaned 2000 entries in lead_paragraph\n",
      "Cleaned 3000 entries in lead_paragraph\n",
      "Cleaned 4000 entries in lead_paragraph\n",
      "Cleaned 5000 entries in lead_paragraph\n",
      "Cleaned 6000 entries in lead_paragraph\n",
      "Cleaned 7000 entries in lead_paragraph\n",
      "Cleaned 8000 entries in lead_paragraph\n",
      "Cleaned 9000 entries in lead_paragraph\n",
      "Cleaned 10000 entries in lead_paragraph\n",
      "Cleaned lead_paragraph\n",
      "Cleaned 1000 entries in headline\n",
      "Cleaned 2000 entries in headline\n",
      "Cleaned 3000 entries in headline\n",
      "Cleaned 4000 entries in headline\n",
      "Cleaned 5000 entries in headline\n",
      "Cleaned 6000 entries in headline\n",
      "Cleaned 7000 entries in headline\n",
      "Cleaned 8000 entries in headline\n",
      "Cleaned 9000 entries in headline\n",
      "Cleaned 10000 entries in headline\n",
      "Cleaned headlines\n",
      "Created nouns and lemmas for 1000 articles\n",
      "Created nouns and lemmas for 2000 articles\n",
      "Created nouns and lemmas for 3000 articles\n",
      "Created nouns and lemmas for 4000 articles\n",
      "Created nouns and lemmas for 5000 articles\n",
      "Created nouns and lemmas for 6000 articles\n",
      "Created nouns and lemmas for 7000 articles\n",
      "Created nouns and lemmas for 8000 articles\n",
      "Created nouns and lemmas for 9000 articles\n",
      "Created nouns and lemmas for 10000 articles\n",
      "Created nouns and lemmas for all articles\n",
      "Cleaned labels\n",
      "Saved cleaned data file\n"
     ]
    }
   ],
   "source": [
    "# Uncomment the line below to run pre-processing on the parsed data file.\n",
    "# Otherwise, skip to the next cell to import the existing preprocessed file.\n",
    "#%run preprocessing.py"
   ]
  },
  {
   "cell_type": "code",
   "execution_count": 5,
   "metadata": {},
   "outputs": [
    {
     "name": "stdout",
     "output_type": "stream",
     "text": [
      "(10000, 6)\n"
     ]
    },
    {
     "data": {
      "text/html": [
       "<div>\n",
       "<style scoped>\n",
       "    .dataframe tbody tr th:only-of-type {\n",
       "        vertical-align: middle;\n",
       "    }\n",
       "\n",
       "    .dataframe tbody tr th {\n",
       "        vertical-align: top;\n",
       "    }\n",
       "\n",
       "    .dataframe thead th {\n",
       "        text-align: right;\n",
       "    }\n",
       "</style>\n",
       "<table border=\"1\" class=\"dataframe\">\n",
       "  <thead>\n",
       "    <tr style=\"text-align: right;\">\n",
       "      <th></th>\n",
       "      <th>desk</th>\n",
       "      <th>full_text</th>\n",
       "      <th>lead_paragraph</th>\n",
       "      <th>headline</th>\n",
       "      <th>nouns</th>\n",
       "      <th>lemmas</th>\n",
       "    </tr>\n",
       "  </thead>\n",
       "  <tbody>\n",
       "    <tr>\n",
       "      <th>0</th>\n",
       "      <td>business &amp; financial</td>\n",
       "      <td>the bethlehem steel corporation , after report...</td>\n",
       "      <td>the bethlehem steel corporation , after report...</td>\n",
       "      <td>bethlehem halts dividends and plans cuts after...</td>\n",
       "      <td>bethlehem steel corporation loss quarter yeste...</td>\n",
       "      <td>the bethlehem steel corporation , after report...</td>\n",
       "    </tr>\n",
       "    <tr>\n",
       "      <th>1</th>\n",
       "      <td>foreign</td>\n",
       "      <td>seeking to raise morale at home and improve it...</td>\n",
       "      <td>seeking to raise morale at home and improve it...</td>\n",
       "      <td>world news briefs ; iraqis elect parliament pr...</td>\n",
       "      <td>morale home image iraq today elections candida...</td>\n",
       "      <td>seek to raise morale at home and improve it im...</td>\n",
       "    </tr>\n",
       "    <tr>\n",
       "      <th>2</th>\n",
       "      <td>editorial</td>\n",
       "      <td>by the time lord elgin obtained the authority ...</td>\n",
       "      <td>by the time lord elgin obtained the authority ...</td>\n",
       "      <td>return the parthenon marbles</td>\n",
       "      <td>time lord elgin authority pieces stone inscrip...</td>\n",
       "      <td>by the time lord elgin obtain the authority to...</td>\n",
       "    </tr>\n",
       "    <tr>\n",
       "      <th>3</th>\n",
       "      <td>classified</td>\n",
       "      <td>speier - claire . born new york city . age 70....</td>\n",
       "      <td>speier - claire . born new york city . age 70....</td>\n",
       "      <td>paid notice : deaths speier , claire</td>\n",
       "      <td>claire york city age graduate york university ...</td>\n",
       "      <td>speier - claire . born new york city . age 70....</td>\n",
       "    </tr>\n",
       "    <tr>\n",
       "      <th>4</th>\n",
       "      <td>national</td>\n",
       "      <td>lead : the japanese videotape begins with the ...</td>\n",
       "      <td>lead : the japanese videotape begins with the ...</td>\n",
       "      <td>not fit to import ?</td>\n",
       "      <td>lead videotape words tables foods tape inspect...</td>\n",
       "      <td>lead : the japanese videotape begin with the w...</td>\n",
       "    </tr>\n",
       "  </tbody>\n",
       "</table>\n",
       "</div>"
      ],
      "text/plain": [
       "                   desk                                          full_text  \\\n",
       "0  business & financial  the bethlehem steel corporation , after report...   \n",
       "1               foreign  seeking to raise morale at home and improve it...   \n",
       "2             editorial  by the time lord elgin obtained the authority ...   \n",
       "3            classified  speier - claire . born new york city . age 70....   \n",
       "4              national  lead : the japanese videotape begins with the ...   \n",
       "\n",
       "                                      lead_paragraph  \\\n",
       "0  the bethlehem steel corporation , after report...   \n",
       "1  seeking to raise morale at home and improve it...   \n",
       "2  by the time lord elgin obtained the authority ...   \n",
       "3  speier - claire . born new york city . age 70....   \n",
       "4  lead : the japanese videotape begins with the ...   \n",
       "\n",
       "                                            headline  \\\n",
       "0  bethlehem halts dividends and plans cuts after...   \n",
       "1  world news briefs ; iraqis elect parliament pr...   \n",
       "2                       return the parthenon marbles   \n",
       "3               paid notice : deaths speier , claire   \n",
       "4                                not fit to import ?   \n",
       "\n",
       "                                               nouns  \\\n",
       "0  bethlehem steel corporation loss quarter yeste...   \n",
       "1  morale home image iraq today elections candida...   \n",
       "2  time lord elgin authority pieces stone inscrip...   \n",
       "3  claire york city age graduate york university ...   \n",
       "4  lead videotape words tables foods tape inspect...   \n",
       "\n",
       "                                              lemmas  \n",
       "0  the bethlehem steel corporation , after report...  \n",
       "1  seek to raise morale at home and improve it im...  \n",
       "2  by the time lord elgin obtain the authority to...  \n",
       "3  speier - claire . born new york city . age 70....  \n",
       "4  lead : the japanese videotape begin with the w...  "
      ]
     },
     "execution_count": 5,
     "metadata": {},
     "output_type": "execute_result"
    }
   ],
   "source": [
    "df_final = pd.read_csv('data/nyt_corpus_cleaned.csv')\n",
    "print(df_final.shape)\n",
    "df_final.head()"
   ]
  },
  {
   "cell_type": "code",
   "execution_count": 30,
   "metadata": {},
   "outputs": [
    {
     "data": {
      "text/html": [
       "<div>\n",
       "<style scoped>\n",
       "    .dataframe tbody tr th:only-of-type {\n",
       "        vertical-align: middle;\n",
       "    }\n",
       "\n",
       "    .dataframe tbody tr th {\n",
       "        vertical-align: top;\n",
       "    }\n",
       "\n",
       "    .dataframe thead th {\n",
       "        text-align: right;\n",
       "    }\n",
       "</style>\n",
       "<table border=\"1\" class=\"dataframe\">\n",
       "  <thead>\n",
       "    <tr style=\"text-align: right;\">\n",
       "      <th></th>\n",
       "      <th></th>\n",
       "      <th>cnt</th>\n",
       "    </tr>\n",
       "    <tr>\n",
       "      <th>desk_cleaned</th>\n",
       "      <th>desk</th>\n",
       "      <th></th>\n",
       "    </tr>\n",
       "  </thead>\n",
       "  <tbody>\n",
       "    <tr>\n",
       "      <th>a nation challenged</th>\n",
       "      <th>A Nation Challenged</th>\n",
       "      <td>1</td>\n",
       "    </tr>\n",
       "    <tr>\n",
       "      <th rowspan=\"10\" valign=\"top\">arts &amp; leisure</th>\n",
       "      <th>Arts &amp; Ideas/Cultural Desk</th>\n",
       "      <td>18</td>\n",
       "    </tr>\n",
       "    <tr>\n",
       "      <th>Arts &amp; Leisure Desk</th>\n",
       "      <td>29</td>\n",
       "    </tr>\n",
       "    <tr>\n",
       "      <th>Arts and Leisure Desk</th>\n",
       "      <td>129</td>\n",
       "    </tr>\n",
       "    <tr>\n",
       "      <th>Cultural Desk</th>\n",
       "      <td>231</td>\n",
       "    </tr>\n",
       "    <tr>\n",
       "      <th>Leisure/Weekend Desk</th>\n",
       "      <td>56</td>\n",
       "    </tr>\n",
       "    <tr>\n",
       "      <th>Movies, Performing Arts/Weekend Desk</th>\n",
       "      <td>80</td>\n",
       "    </tr>\n",
       "    <tr>\n",
       "      <th>Museums</th>\n",
       "      <td>1</td>\n",
       "    </tr>\n",
       "    <tr>\n",
       "      <th>The Arts/Cultural Desk</th>\n",
       "      <td>219</td>\n",
       "    </tr>\n",
       "    <tr>\n",
       "      <th>Weekend Desk</th>\n",
       "      <td>115</td>\n",
       "    </tr>\n",
       "    <tr>\n",
       "      <th>Weekend DeskWeekend Desk</th>\n",
       "      <td>4</td>\n",
       "    </tr>\n",
       "    <tr>\n",
       "      <th>book review</th>\n",
       "      <th>Book Review Desk</th>\n",
       "      <td>176</td>\n",
       "    </tr>\n",
       "    <tr>\n",
       "      <th rowspan=\"8\" valign=\"top\">business &amp; financial</th>\n",
       "      <th>Business World Magazine</th>\n",
       "      <td>1</td>\n",
       "    </tr>\n",
       "    <tr>\n",
       "      <th>Business/Finance Desk</th>\n",
       "      <td>1</td>\n",
       "    </tr>\n",
       "    <tr>\n",
       "      <th>Business/Financial Desk</th>\n",
       "      <td>628</td>\n",
       "    </tr>\n",
       "    <tr>\n",
       "      <th>Business\\Financial Desk</th>\n",
       "      <td>1</td>\n",
       "    </tr>\n",
       "    <tr>\n",
       "      <th>E-Commerce</th>\n",
       "      <td>1</td>\n",
       "    </tr>\n",
       "    <tr>\n",
       "      <th>Financial Desk</th>\n",
       "      <td>1106</td>\n",
       "    </tr>\n",
       "    <tr>\n",
       "      <th>Financial Desk;</th>\n",
       "      <td>2</td>\n",
       "    </tr>\n",
       "    <tr>\n",
       "      <th>Money and Business/Financial Desk</th>\n",
       "      <td>79</td>\n",
       "    </tr>\n",
       "  </tbody>\n",
       "</table>\n",
       "</div>"
      ],
      "text/plain": [
       "                                                            cnt\n",
       "desk_cleaned         desk                                      \n",
       "a nation challenged  A Nation Challenged                      1\n",
       "arts & leisure       Arts & Ideas/Cultural Desk              18\n",
       "                     Arts & Leisure Desk                     29\n",
       "                     Arts and Leisure Desk                  129\n",
       "                     Cultural Desk                          231\n",
       "                     Leisure/Weekend Desk                    56\n",
       "                     Movies, Performing Arts/Weekend Desk    80\n",
       "                     Museums                                  1\n",
       "                     The Arts/Cultural Desk                 219\n",
       "                     Weekend Desk                           115\n",
       "                     Weekend DeskWeekend Desk                 4\n",
       "book review          Book Review Desk                       176\n",
       "business & financial Business World Magazine                  1\n",
       "                     Business/Finance Desk                    1\n",
       "                     Business/Financial Desk                628\n",
       "                     Business\\Financial Desk                  1\n",
       "                     E-Commerce                               1\n",
       "                     Financial Desk                        1106\n",
       "                     Financial Desk;                          2\n",
       "                     Money and Business/Financial Desk       79"
      ]
     },
     "execution_count": 30,
     "metadata": {},
     "output_type": "execute_result"
    }
   ],
   "source": [
    "label_transform = pd.concat([df_final.desk, df.desk], axis=1)\n",
    "label_transform.columns = ['desk_cleaned', 'desk']\n",
    "label_transform.groupby(['desk_cleaned','desk']).size().reset_index(name='cnt').set_index(['desk_cleaned','desk'])[:20]"
   ]
  },
  {
   "cell_type": "markdown",
   "metadata": {},
   "source": [
    "### Train/Dev/Test Split and TF-IDF Vectorize"
   ]
  },
  {
   "cell_type": "code",
   "execution_count": 15,
   "metadata": {},
   "outputs": [
    {
     "name": "stderr",
     "output_type": "stream",
     "text": [
      "/Users/carmen/Documents/NLP/w266-final-project/split_vectorize.py:37: UserWarning: Boolean Series key will be reindexed to match DataFrame index.\n",
      "  data = self.df[[self.articles, self.labels]][self.df[self.articles].notnull()][self.df[self.labels].notnull()]\n"
     ]
    },
    {
     "data": {
      "image/png": "[encoded data removed]",
      "text/plain": [
       "<Figure size 432x288 with 1 Axes>"
      ]
     },
     "metadata": {},
     "output_type": "display_data"
    }
   ],
   "source": [
    "reload(split_vectorize)\n",
    "rand_seed = 102 # Random number to feed in so all models will assign same articles to train/dev/test sets\n",
    "\n",
    "# Create object for each of the model inputs\n",
    "full_text = split_vectorize.SplitVectorize(df_final, 'full_text', 'Full Text')\n",
    "lead_para = split_vectorize.SplitVectorize(df_final, 'lead_paragraph', 'Lead Paragraph')\n",
    "headlines = split_vectorize.SplitVectorize(df_final, 'headline', 'Headlines')\n",
    "nouns = split_vectorize.SplitVectorize(df_final, 'nouns', 'Nouns Only')\n",
    "lemmas = split_vectorize.SplitVectorize(df_final, 'lemmas', 'Lemmatized')\n",
    "\n",
    "all_inputs = [full_text, lead_para, headlines, nouns, lemmas]\n",
    "\n",
    "# Split into train/test data and TF-IDF vectorize\n",
    "for x in all_inputs:\n",
    "    x.train_test_split(rand_seed)\n",
    "    x.tfidf_vectorize()"
   ]
  },
  {
   "cell_type": "code",
   "execution_count": 14,
   "metadata": {},
   "outputs": [
    {
     "data": {
      "text/plain": [
       "full_text    9847\n",
       "dtype: int64"
      ]
     },
     "execution_count": 14,
     "metadata": {},
     "output_type": "execute_result"
    }
   ],
   "source": [
    "full_text.df.groupby('desk').count().sum()"
   ]
  },
  {
   "cell_type": "code",
   "execution_count": 8,
   "metadata": {},
   "outputs": [
    {
     "data": {
      "text/html": [
       "<table><th>Article Type</th><th>Training Articles</th><th>Training Words</th><th>% Training Words</th><th>Avg. Words per Training Article</th><th>Training Vocab Size</th><th>% Training Vocab</th><th>Avg. Unique Words per Training Article</th><th>Dev Articles</th><th>Test Articles</th></tr><tr><td>Full Text</td><td>7,356</td><td>5,032,755</td><td>100%</td><td>684</td><td>87,541</td><td>100%</td><td>264</td><td>513</td><td>1,978</td></tr><tr><td>Lead Paragraph</td><td>7,169</td><td>740,321</td><td>15%</td><td>103</td><td>40,309</td><td>46%</td><td>61</td><td>499</td><td>1,922</td></tr><tr><td>Headlines</td><td>7,459</td><td>57,752</td><td>1%</td><td>8</td><td>11,150</td><td>13%</td><td>6</td><td>516</td><td>2,022</td></tr><tr><td>Nouns Only</td><td>7,459</td><td>1,371,922</td><td>27%</td><td>184</td><td>65,029</td><td>74%</td><td>112</td><td>516</td><td>2,023</td></tr><tr><td>Lemmatized</td><td>7,460</td><td>5,120,323</td><td>102%</td><td>686</td><td>76,109</td><td>87%</td><td>246</td><td>516</td><td>2,024</td></tr></table>"
      ],
      "text/plain": [
       "<IPython.core.display.HTML object>"
      ]
     },
     "metadata": {},
     "output_type": "display_data"
    }
   ],
   "source": [
    "html = '<table><th>Article Type</th><th>Training Articles</th><th>Training Words</th><th>% Training Words</th>'\n",
    "html += '<th>Avg. Words per Training Article</th><th>Training Vocab Size</th><th>% Training Vocab</th>'\n",
    "html += '<th>Avg. Unique Words per Training Article</th><th>Dev Articles</th><th>Test Articles</th></tr>'\n",
    "\n",
    "for x in all_inputs:\n",
    "    html += '<tr><td>{}</td><td>{:,}</td><td>{:,}</td>'.format(x.name_, x.tv_train.shape[0], x.train_words_)\n",
    "    html += '<td>{:.0%}</td><td>{:.0f}</td>'.format(x.train_words_/full_text.train_words_, x.train_avg_words_)\n",
    "    html += '<td>{:,}</td><td>{:.0%}</td>'.format(x.train_vocab_size_, x.train_vocab_size_/full_text.train_vocab_size_)\n",
    "    html += '<td>{:,.0f}</td><td>{:,}</td><td>{:,}</td></tr>'.format(x.train_avg_unq_words_, x.tv_dev.shape[0], x.tv_test.shape[0])\n",
    "\n",
    "html += '</table>'\n",
    "display(HTML(html))"
   ]
  },
  {
   "cell_type": "markdown",
   "metadata": {},
   "source": [
    "# Baseline Models"
   ]
  },
  {
   "cell_type": "markdown",
   "metadata": {},
   "source": [
    "### Multinomial Naïve Bayes"
   ]
  },
  {
   "cell_type": "code",
   "execution_count": 46,
   "metadata": {},
   "outputs": [],
   "source": [
    "reload(base_models)\n",
    "mnb = base_models.MultNB()\n",
    "\n",
    "for x in all_inputs:\n",
    "    mnb.test_models(x)"
   ]
  },
  {
   "cell_type": "code",
   "execution_count": 47,
   "metadata": {},
   "outputs": [
    {
     "name": "stdout",
     "output_type": "stream",
     "text": [
      "Best Multinomial Naïve Bayes model:\n",
      "input       Lemmatized\n",
      "alpha       0.00195312\n",
      "accuracy    0.71705426\n",
      "Name: 126, dtype: object\n"
     ]
    },
    {
     "data": {
      "image/png": "[encoded data removed]",
      "text/plain": [
       "<Figure size 432x288 with 1 Axes>"
      ]
     },
     "metadata": {},
     "output_type": "display_data"
    }
   ],
   "source": [
    "mnb_tables = []\n",
    "for x in all_inputs:\n",
    "    mnb_tables.append(x.mnb_accuracy_table_)\n",
    "\n",
    "mnb.plot_accuracy(mnb_tables)"
   ]
  },
  {
   "cell_type": "markdown",
   "metadata": {},
   "source": [
    "### Logistic Regression"
   ]
  },
  {
   "cell_type": "code",
   "execution_count": 10,
   "metadata": {},
   "outputs": [],
   "source": [
    "reload(base_models)\n",
    "lr = base_models.LogReg()\n",
    "\n",
    "for x in all_inputs:\n",
    "    lr.test_models(x)"
   ]
  },
  {
   "cell_type": "code",
   "execution_count": 11,
   "metadata": {},
   "outputs": [
    {
     "name": "stdout",
     "output_type": "stream",
     "text": [
      "Best Logistic Regression model:\n",
      "input         Full Text\n",
      "penalty              L2\n",
      "C          100.00000000\n",
      "accuracy     0.76998051\n",
      "Name: 23, dtype: object\n"
     ]
    },
    {
     "data": {
      "image/png": "[encoded data removed]",
      "text/plain": [
       "<Figure size 432x288 with 1 Axes>"
      ]
     },
     "metadata": {},
     "output_type": "display_data"
    }
   ],
   "source": [
    "lr_tables = []\n",
    "for x in all_inputs:\n",
    "    lr_tables.append(x.lr_accuracy_table_)\n",
    "\n",
    "lr.plot_accuracy(lr_tables)"
   ]
  },
  {
   "cell_type": "code",
   "execution_count": 12,
   "metadata": {},
   "outputs": [
    {
     "data": {
      "text/html": [
       "<table><th>Model Input</th><th>MNB Parameters</th><th>MNB Accuracy</th><th>LR Parameters</th><th>LR Accuracy</th><tr><td>Full Text</td><td>alpha = 2^-7.5</td><td>0.698</td><td>C = 10^2.0; penalty = l2</td><td>0.770</td></tr><tr><td>Lead Paragraph</td><td>alpha = 2^-4.5</td><td>0.637</td><td>C = 10^5.0; penalty = l2</td><td>0.669</td></tr><tr><td>Headlines</td><td>alpha = 2^-2.0</td><td>0.556</td><td>C = 10^1.0; penalty = l2</td><td>0.558</td></tr><tr><td>Nouns Only</td><td>alpha = 2^-8.0</td><td>0.723</td><td>C = 10^4.0; penalty = l2</td><td>0.762</td></tr><tr><td>Lemmatized</td><td>alpha = 2^-6.5</td><td>0.698</td><td>C = 10^6.0; penalty = l2</td><td>0.762</td></tr></table>"
      ],
      "text/plain": [
       "<IPython.core.display.HTML object>"
      ]
     },
     "metadata": {},
     "output_type": "display_data"
    }
   ],
   "source": [
    "html = '<table><th>Model Input</th><th>MNB Parameters</th><th>MNB Accuracy</th>'\n",
    "html += '<th>LR Parameters</th><th>LR Accuracy</th>'\n",
    "\n",
    "for x in all_inputs:\n",
    "    alpha = 'alpha = 2^'+str(np.log2(x.best_mnb_model_.alpha))\n",
    "    html += '<tr><td>{}</td><td>{}</td><td>{:.3f}</td>'.format(x.name_, alpha, max(x.mnb_accuracy_table_.accuracy))\n",
    "    C = 'C = 10^'+str(np.log10(x.best_lr_model_.C))\n",
    "    penalty = 'penalty = '+x.best_lr_model_.penalty\n",
    "    html += '<td>{}</td><td>{:.3f}</td></tr>'.format(C+'; '+penalty, max(x.lr_accuracy_table_.accuracy))\n",
    "\n",
    "html += '</table>'\n",
    "display(HTML(html))"
   ]
  },
  {
   "cell_type": "markdown",
   "metadata": {},
   "source": [
    "# Complex Models"
   ]
  },
  {
   "cell_type": "markdown",
   "metadata": {},
   "source": [
    "### Neural Network"
   ]
  },
  {
   "cell_type": "code",
   "execution_count": 48,
   "metadata": {},
   "outputs": [
    {
     "name": "stdout",
     "output_type": "stream",
     "text": [
      "Created index of 100-dimensional embeddings for 400,000 words.\n",
      "Full Text:\n",
      "\t99,540 unique tokens\n",
      "\tCreated matrix of 100-dimensional weights for 99,541 tokens\n",
      "\tTraining data shape: (7356, 1234)\n",
      "Lead Paragraph:\n",
      "\t44,533 unique tokens\n",
      "\tCreated matrix of 100-dimensional weights for 44,534 tokens\n",
      "\tTraining data shape: (7169, 137)\n",
      "Headlines:\n",
      "\t11,432 unique tokens\n",
      "\tCreated matrix of 100-dimensional weights for 11,433 tokens\n",
      "\tTraining data shape: (7459, 10)\n",
      "Nouns Only:\n",
      "\t65,825 unique tokens\n",
      "\tCreated matrix of 100-dimensional weights for 65,826 tokens\n",
      "\tTraining data shape: (7459, 375)\n",
      "Lemmatized:\n",
      "\t89,513 unique tokens\n",
      "\tCreated matrix of 100-dimensional weights for 89,514 tokens\n",
      "\tTraining data shape: (7460, 1232)\n"
     ]
    }
   ],
   "source": [
    "reload(neural_nets)\n",
    "nn = neural_nets.NeuralNets()\n",
    "nn.load_glove_vectors()\n",
    "\n",
    "for x in all_inputs:\n",
    "    nn.tokenize_pad(x)\n",
    "\n",
    "# Num Tokens:\n",
    "# Drop 10%: 1238, 138, 11, 381, 1236\n",
    "# Drop 20%: 1234, 137, 10, 375, 1232\n",
    "\n",
    "# Padding:\n",
    "#  90%: 1241,  140, 11,  381, 1236\n",
    "# 100%: 7555, 5974, 55, 3296, 7556"
   ]
  },
  {
   "cell_type": "code",
   "execution_count": 49,
   "metadata": {},
   "outputs": [
    {
     "name": "stdout",
     "output_type": "stream",
     "text": [
      "Compiled\n",
      "Epoch 1/5\n",
      "7356/7356 [==============================] - 16s 2ms/step - loss: 2.4308 - acc: 0.2874\n",
      "Epoch 2/5\n",
      "7356/7356 [==============================] - 16s 2ms/step - loss: 1.9028 - acc: 0.4822\n",
      "Epoch 3/5\n",
      "7356/7356 [==============================] - 16s 2ms/step - loss: 1.6157 - acc: 0.5495\n",
      "Epoch 4/5\n",
      "7356/7356 [==============================] - 16s 2ms/step - loss: 1.4285 - acc: 0.6020\n",
      "Epoch 5/5\n",
      "7356/7356 [==============================] - 16s 2ms/step - loss: 1.2749 - acc: 0.6505\n",
      "Fit\n",
      "1978/1978 [==============================] - 0s 182us/step\n",
      "Test loss: 5.115254186643749\n",
      "Test accuracy: 0.10819009103867837\n",
      "First prediction (probabilities): [3.6816597e-01 1.8409354e-04 3.5002800e-03 6.9068553e-12 2.5758861e-02\n",
      " 3.5614166e-02 1.4984674e-02 1.7304564e-04 5.7187933e-04 4.7583836e-01\n",
      " 4.6099690e-03 8.7665664e-03 1.5217651e-04 9.6027451e-03 1.2069022e-05\n",
      " 2.3964307e-07 1.3232242e-03 2.7094398e-02 3.5057506e-03 1.7020537e-02\n",
      " 3.1209930e-03]\n",
      "First prediction (category): 9\n",
      "First test label: 0\n",
      "_________________________________________________________________\n",
      "Layer (type)                 Output Shape              Param #   \n",
      "=================================================================\n",
      "embedding_6 (Embedding)      (None, 1234, 100)         9954100   \n",
      "_________________________________________________________________\n",
      "global_average_pooling1d_6 ( (None, 100)               0         \n",
      "_________________________________________________________________\n",
      "dense_11 (Dense)             (None, 100)               10100     \n",
      "_________________________________________________________________\n",
      "dense_12 (Dense)             (None, 21)                2121      \n",
      "=================================================================\n",
      "Total params: 9,966,321\n",
      "Trainable params: 9,966,321\n",
      "Non-trainable params: 0\n",
      "_________________________________________________________________\n",
      "None\n"
     ]
    },
    {
     "data": {
      "text/plain": [
       "<tensorflow.python.keras._impl.keras.engine.sequential.Sequential at 0x144e42668>"
      ]
     },
     "execution_count": 49,
     "metadata": {},
     "output_type": "execute_result"
    }
   ],
   "source": [
    "nn.neural_net(full_text)"
   ]
  },
  {
   "cell_type": "code",
   "execution_count": 45,
   "metadata": {},
   "outputs": [
    {
     "name": "stdout",
     "output_type": "stream",
     "text": [
      "Compiled\n",
      "Epoch 1/5\n",
      "7459/7459 [==============================] - 0s 59us/step - loss: 2.1979 - acc: 0.3849\n",
      "Epoch 2/5\n",
      "7459/7459 [==============================] - 0s 34us/step - loss: 1.6700 - acc: 0.5270\n",
      "Epoch 3/5\n",
      "7459/7459 [==============================] - 0s 36us/step - loss: 1.5435 - acc: 0.5477\n",
      "Epoch 4/5\n",
      "7459/7459 [==============================] - 0s 34us/step - loss: 1.4902 - acc: 0.5619\n",
      "Epoch 5/5\n",
      "7459/7459 [==============================] - 0s 35us/step - loss: 1.4520 - acc: 0.5707\n",
      "Fit\n",
      "2022/2022 [==============================] - 0s 48us/step\n",
      "Test loss: 5.07985589860337\n",
      "Test accuracy: 0.06478733926805143\n",
      "First prediction (probabilities): [2.86900640e-01 9.02035460e-03 3.35148610e-02 2.88708719e-07\n",
      " 2.58624163e-02 1.45889461e-01 1.34178521e-02 3.19082080e-03\n",
      " 2.68922700e-03 3.31377983e-01 1.98429730e-03 5.77274337e-03\n",
      " 2.21231412e-02 1.86650399e-02 3.74859592e-05 2.15433772e-07\n",
      " 2.87353452e-02 1.33649865e-02 2.25146264e-02 2.13144161e-02\n",
      " 1.36238802e-02]\n",
      "First prediction (category): 9\n",
      "First test label: 0\n",
      "_________________________________________________________________\n",
      "Layer (type)                 Output Shape              Param #   \n",
      "=================================================================\n",
      "embedding_5 (Embedding)      (None, 10, 100)           1143300   \n",
      "_________________________________________________________________\n",
      "global_average_pooling1d_5 ( (None, 100)               0         \n",
      "_________________________________________________________________\n",
      "dense_9 (Dense)              (None, 100)               10100     \n",
      "_________________________________________________________________\n",
      "dense_10 (Dense)             (None, 21)                2121      \n",
      "=================================================================\n",
      "Total params: 1,155,521\n",
      "Trainable params: 12,221\n",
      "Non-trainable params: 1,143,300\n",
      "_________________________________________________________________\n",
      "None\n"
     ]
    },
    {
     "data": {
      "text/plain": [
       "<tensorflow.python.keras._impl.keras.engine.sequential.Sequential at 0x162ae4be0>"
      ]
     },
     "execution_count": 45,
     "metadata": {},
     "output_type": "execute_result"
    }
   ],
   "source": [
    "nn.neural_net(headlines)"
   ]
  },
  {
   "cell_type": "markdown",
   "metadata": {},
   "source": [
    "# Error Analysis"
   ]
  },
  {
   "cell_type": "code",
   "execution_count": null,
   "metadata": {},
   "outputs": [],
   "source": [
    "from sklearn.metrics import classification_report, confusion_matrix"
   ]
  },
  {
   "cell_type": "code",
   "execution_count": null,
   "metadata": {
    "scrolled": false
   },
   "outputs": [],
   "source": [
    "for x in [full_text]:#, lead_para, headlines, nouns, lemmas]:\n",
    "    print('\\n', x.name_, ':')\n",
    "    print(classification_report(x.dev_labels, x.best_mnb_model_.predict(x.tv_dev)))\n",
    "    print(confusion_matrix(x.dev_labels, x.best_mnb_model_.predict(x.tv_dev), labels=list(x.dev_labels.unique())))"
   ]
  },
  {
   "cell_type": "code",
   "execution_count": null,
   "metadata": {},
   "outputs": [],
   "source": [
    "x.dev_labels.unique()"
   ]
  },
  {
   "cell_type": "code",
   "execution_count": null,
   "metadata": {},
   "outputs": [],
   "source": []
  }
 ],
 "metadata": {
  "kernelspec": {
   "display_name": "Python 3",
   "language": "python",
   "name": "python3"
  },
  "language_info": {
   "codemirror_mode": {
    "name": "ipython",
    "version": 3
   },
   "file_extension": ".py",
   "mimetype": "text/x-python",
   "name": "python",
   "nbconvert_exporter": "python",
   "pygments_lexer": "ipython3",
   "version": "3.6.5"
  }
 },
 "nbformat": 4,
 "nbformat_minor": 2
}
