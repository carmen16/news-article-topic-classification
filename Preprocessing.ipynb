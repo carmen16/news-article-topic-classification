{
 "cells": [
  {
   "cell_type": "markdown",
   "metadata": {},
   "source": [
    "# Preprocessing"
   ]
  },
  {
   "cell_type": "code",
   "execution_count": 1,
   "metadata": {},
   "outputs": [],
   "source": [
    "import pandas as pd\n",
    "import numpy as np\n",
    "import matplotlib.pyplot as plt\n",
    "%matplotlib inline"
   ]
  },
  {
   "cell_type": "code",
   "execution_count": 23,
   "metadata": {},
   "outputs": [
    {
     "data": {
      "text/plain": [
       "(100000, 32)"
      ]
     },
     "execution_count": 23,
     "metadata": {},
     "output_type": "execute_result"
    }
   ],
   "source": [
    "df = pd.read_csv('data/nyt_corpus.csv')\n",
    "n = df.shape[0]\n",
    "df.shape"
   ]
  },
  {
   "cell_type": "code",
   "execution_count": 24,
   "metadata": {},
   "outputs": [
    {
     "data": {
      "text/plain": [
       "Index(['abstract', 'author_info', 'copyright_holder', 'copyright_year',\n",
       "       'descriptor', 'desk', 'full_text', 'general_descriptor', 'headline',\n",
       "       'id', 'indexing_descriptor', 'indexing_location', 'indexing_org',\n",
       "       'indexing_person', 'lead_paragraph', 'length', 'length_unit',\n",
       "       'normalized_byline', 'online_headline', 'online_sections',\n",
       "       'print_byline', 'print_column', 'print_page_number', 'print_section',\n",
       "       'publication_day_of_month', 'publication_day_of_week',\n",
       "       'publication_month', 'publication_year', 'series_name',\n",
       "       'taxonomic_classifier', 'title', 'types_of_material'],\n",
       "      dtype='object')"
      ]
     },
     "execution_count": 24,
     "metadata": {},
     "output_type": "execute_result"
    }
   ],
   "source": [
    "df.columns"
   ]
  },
  {
   "cell_type": "code",
   "execution_count": 25,
   "metadata": {},
   "outputs": [
    {
     "data": {
      "text/html": [
       "<div>\n",
       "<style scoped>\n",
       "    .dataframe tbody tr th:only-of-type {\n",
       "        vertical-align: middle;\n",
       "    }\n",
       "\n",
       "    .dataframe tbody tr th {\n",
       "        vertical-align: top;\n",
       "    }\n",
       "\n",
       "    .dataframe thead th {\n",
       "        text-align: right;\n",
       "    }\n",
       "</style>\n",
       "<table border=\"1\" class=\"dataframe\">\n",
       "  <thead>\n",
       "    <tr style=\"text-align: right;\">\n",
       "      <th></th>\n",
       "      <th>desk</th>\n",
       "      <th>general_descriptor</th>\n",
       "      <th>online_sections</th>\n",
       "      <th>taxonomic_classifier</th>\n",
       "    </tr>\n",
       "  </thead>\n",
       "  <tbody>\n",
       "    <tr>\n",
       "      <th>99990</th>\n",
       "      <td>National Desk</td>\n",
       "      <td>['Governors (US)', 'Election Issues', 'Budgets...</td>\n",
       "      <td>U.S.</td>\n",
       "      <td>['Top/News/U.S.', 'Top/News/U.S./U.S. States, ...</td>\n",
       "    </tr>\n",
       "    <tr>\n",
       "      <th>99991</th>\n",
       "      <td>Magazine Desk</td>\n",
       "      <td>['Threats and Threatening Messages', 'Immigrat...</td>\n",
       "      <td>Magazine</td>\n",
       "      <td>['Top/News/World/Countries and Territories/Net...</td>\n",
       "    </tr>\n",
       "    <tr>\n",
       "      <th>99992</th>\n",
       "      <td>The Arts/Cultural Desk</td>\n",
       "      <td>['Music']</td>\n",
       "      <td>Arts</td>\n",
       "      <td>['Top/News', 'Top/Features/Arts', 'Top/Feature...</td>\n",
       "    </tr>\n",
       "    <tr>\n",
       "      <th>99993</th>\n",
       "      <td>Foreign Desk</td>\n",
       "      <td>['Drug Abuse and Traffic']</td>\n",
       "      <td>World</td>\n",
       "      <td>['Top/News', 'Top/News/World/Countries and Ter...</td>\n",
       "    </tr>\n",
       "    <tr>\n",
       "      <th>99994</th>\n",
       "      <td>Real Estate Desk</td>\n",
       "      <td>['Rent Control and Stabilization', 'Real Estat...</td>\n",
       "      <td>Real Estate</td>\n",
       "      <td>['Top/Classifieds/Real Estate', 'Top/Classifie...</td>\n",
       "    </tr>\n",
       "    <tr>\n",
       "      <th>99995</th>\n",
       "      <td>Money and Business/Financial Desk</td>\n",
       "      <td>['Motion Pictures', 'Taxation', 'Law and Legis...</td>\n",
       "      <td>Movies; Corrections; Business</td>\n",
       "      <td>['Top/News/Business', 'Top/News/Corrections', ...</td>\n",
       "    </tr>\n",
       "    <tr>\n",
       "      <th>99996</th>\n",
       "      <td>Financial Desk</td>\n",
       "      <td>['Company Reports', 'Corporations']</td>\n",
       "      <td>Business</td>\n",
       "      <td>['Top/News/Business']</td>\n",
       "    </tr>\n",
       "    <tr>\n",
       "      <th>99997</th>\n",
       "      <td>Classified</td>\n",
       "      <td>NaN</td>\n",
       "      <td>Paid Death Notices</td>\n",
       "      <td>['Top/Classifieds/Paid Death Notices']</td>\n",
       "    </tr>\n",
       "    <tr>\n",
       "      <th>99998</th>\n",
       "      <td>Metropolitan Desk</td>\n",
       "      <td>['Robberies and Thefts', 'Automobiles']</td>\n",
       "      <td>New York and Region</td>\n",
       "      <td>['Top/News/U.S./U.S. States, Territories and P...</td>\n",
       "    </tr>\n",
       "    <tr>\n",
       "      <th>99999</th>\n",
       "      <td>National Desk</td>\n",
       "      <td>['Surveillance of Citizens by Government', 'Wi...</td>\n",
       "      <td>U.S.; Washington</td>\n",
       "      <td>['Top/News/U.S.', 'Top/News', 'Top/News/Washin...</td>\n",
       "    </tr>\n",
       "  </tbody>\n",
       "</table>\n",
       "</div>"
      ],
      "text/plain": [
       "                                    desk  \\\n",
       "99990                      National Desk   \n",
       "99991                      Magazine Desk   \n",
       "99992             The Arts/Cultural Desk   \n",
       "99993                       Foreign Desk   \n",
       "99994                   Real Estate Desk   \n",
       "99995  Money and Business/Financial Desk   \n",
       "99996                     Financial Desk   \n",
       "99997                         Classified   \n",
       "99998                  Metropolitan Desk   \n",
       "99999                      National Desk   \n",
       "\n",
       "                                      general_descriptor  \\\n",
       "99990  ['Governors (US)', 'Election Issues', 'Budgets...   \n",
       "99991  ['Threats and Threatening Messages', 'Immigrat...   \n",
       "99992                                          ['Music']   \n",
       "99993                         ['Drug Abuse and Traffic']   \n",
       "99994  ['Rent Control and Stabilization', 'Real Estat...   \n",
       "99995  ['Motion Pictures', 'Taxation', 'Law and Legis...   \n",
       "99996                ['Company Reports', 'Corporations']   \n",
       "99997                                                NaN   \n",
       "99998            ['Robberies and Thefts', 'Automobiles']   \n",
       "99999  ['Surveillance of Citizens by Government', 'Wi...   \n",
       "\n",
       "                     online_sections  \\\n",
       "99990                           U.S.   \n",
       "99991                       Magazine   \n",
       "99992                           Arts   \n",
       "99993                          World   \n",
       "99994                    Real Estate   \n",
       "99995  Movies; Corrections; Business   \n",
       "99996                       Business   \n",
       "99997             Paid Death Notices   \n",
       "99998            New York and Region   \n",
       "99999               U.S.; Washington   \n",
       "\n",
       "                                    taxonomic_classifier  \n",
       "99990  ['Top/News/U.S.', 'Top/News/U.S./U.S. States, ...  \n",
       "99991  ['Top/News/World/Countries and Territories/Net...  \n",
       "99992  ['Top/News', 'Top/Features/Arts', 'Top/Feature...  \n",
       "99993  ['Top/News', 'Top/News/World/Countries and Ter...  \n",
       "99994  ['Top/Classifieds/Real Estate', 'Top/Classifie...  \n",
       "99995  ['Top/News/Business', 'Top/News/Corrections', ...  \n",
       "99996                              ['Top/News/Business']  \n",
       "99997             ['Top/Classifieds/Paid Death Notices']  \n",
       "99998  ['Top/News/U.S./U.S. States, Territories and P...  \n",
       "99999  ['Top/News/U.S.', 'Top/News', 'Top/News/Washin...  "
      ]
     },
     "execution_count": 25,
     "metadata": {},
     "output_type": "execute_result"
    }
   ],
   "source": [
    "# possible labels - desk works best\n",
    "df[['desk','general_descriptor','online_sections','taxonomic_classifier']][-10:]"
   ]
  },
  {
   "cell_type": "code",
   "execution_count": 26,
   "metadata": {},
   "outputs": [
    {
     "data": {
      "text/plain": [
       "desk                    0.00343\n",
       "general_descriptor      0.21045\n",
       "online_sections         0.02268\n",
       "taxonomic_classifier    0.01484\n",
       "dtype: float64"
      ]
     },
     "execution_count": 26,
     "metadata": {},
     "output_type": "execute_result"
    }
   ],
   "source": [
    "# pct nulls for each possible labels\n",
    "(n - df[['desk','general_descriptor','online_sections','taxonomic_classifier']].count())/n"
   ]
  },
  {
   "cell_type": "code",
   "execution_count": 27,
   "metadata": {},
   "outputs": [
    {
     "data": {
      "text/plain": [
       "desk\n",
       "\"PROFILE: Elizabeth Peterken McCaughey Ross\"                                        1\n",
       "1;             Foreign Desk                                                         1\n",
       "A Nation Challenged                                                                10\n",
       "Amato finished shaving and smoothed his cheeks with his hands.                      1\n",
       "An odd bit of text that you could stumble across on Tallmo's Web site puts it       1\n",
       "Arts & Ideas/Cultural Desk                                                        203\n",
       "Arts & Leisure Desk                                                               358\n",
       "Arts and Leisure Desk                                                            1523\n",
       "Automobiles                                                                       105\n",
       "Autumn Times Supplement                                                             3\n",
       "Bob Ross, a senior and the convention's political chairman, fretted                 1\n",
       "Book Review Desk                                                                 1815\n",
       "Book Review Dest                                                                    1\n",
       "Boston 2004                                                                         1\n",
       "Business Desk                                                                       3\n",
       "Business Travel                                                                     2\n",
       "Business World Magazine                                                             3\n",
       "Business/Financial Desk                                                          6160\n",
       "Business/Financial Desk;                                                            2\n",
       "Business/Financial desk                                                             3\n",
       "Business/FinancialDesk                                                              8\n",
       "Business\\Financial Desk                                                             4\n",
       "Careers Supplement                                                                  2\n",
       "Careers Supplement Desk                                                             2\n",
       "Cars                                                                               14\n",
       "Circuits                                                                          464\n",
       "Classfied                                                                           1\n",
       "Classifed                                                                           9\n",
       "Classified                                                                       6917\n",
       "Classified Desk                                                                    27\n",
       "                                                                                 ... \n",
       "The City                                                                            2\n",
       "The City Weekly Desk                                                             1299\n",
       "The City Weekly/Queens                                                             28\n",
       "The Good Health Magazine                                                            2\n",
       "The Marathon                                                                        7\n",
       "The Millennium                                                                      6\n",
       "The Natural World                                                                   1\n",
       "The New Season Magazine                                                             1\n",
       "The Year in Pictures                                                                3\n",
       "Then & Now                                                                          1\n",
       "Thursday Styles                                                                    54\n",
       "Thursday Styles Desk                                                                1\n",
       "Travel Desk                                                                      1245\n",
       "Vacation                                                                            3\n",
       "Week In Review Desk                                                                57\n",
       "Week In Review DeskWeek In Review Desk                                              1\n",
       "Week in Review                                                                     13\n",
       "Week in Review Desk                                                              1169\n",
       "Week in Review desk                                                                 1\n",
       "Weekend Desk                                                                     1005\n",
       "Weekend DeskWeekend Desk                                                            7\n",
       "Weekin Review Desk                                                                  1\n",
       "Westchester Weekly Desk                                                          1122\n",
       "Winter Times Supplement                                                             1\n",
       "Wireless Living                                                                     2\n",
       "Women's Health                                                                      8\n",
       "Working                                                                             6\n",
       "Workplace                                                                          19\n",
       "World of New York Magazine                                                          6\n",
       "Your Taxes Supplement                                                               1\n",
       "Name: desk, Length: 176, dtype: int64"
      ]
     },
     "execution_count": 27,
     "metadata": {},
     "output_type": "execute_result"
    }
   ],
   "source": [
    "# these will be cleaned up for the final dataframe\n",
    "df.groupby('desk')['desk'].count()"
   ]
  },
  {
   "cell_type": "code",
   "execution_count": 32,
   "metadata": {},
   "outputs": [
    {
     "data": {
      "text/plain": [
       "desk\n",
       "                                                                                    5\n",
       "\"profile: elizabeth peterken mccaughey ross\"                                        1\n",
       "1;             foreign                                                              1\n",
       "a nation challenged                                                                10\n",
       "amato finished shaving & smoothed his cheeks with his hands.                        1\n",
       "an odd bit of text that you could stumble across on tallmo's web site puts it       1\n",
       "arts & ideas/cultural                                                             203\n",
       "arts & leisure                                                                   1881\n",
       "automobiles                                                                       105\n",
       "autumn times supplement                                                             3\n",
       "bob ross, a senior & the convention's political chairman, fretted                   1\n",
       "book review                                                                      1815\n",
       "book review dest                                                                    1\n",
       "boston 2004                                                                         1\n",
       "business                                                                            3\n",
       "business travel                                                                     2\n",
       "business world magazine                                                             3\n",
       "business/financial                                                               6175\n",
       "business/financial ;                                                                2\n",
       "careers supplement                                                                  4\n",
       "cars                                                                               14\n",
       "circuits                                                                          464\n",
       "classfied                                                                           1\n",
       "classifed                                                                           9\n",
       "classified                                                                       6944\n",
       "classifieds                                                                        50\n",
       "classsified                                                                         3\n",
       "connecticut weekly                                                                951\n",
       "cultural                                                                         2137\n",
       "dining in, dining out/cultural                                                      1\n",
       "                                                                                 ... \n",
       "television                                                                        104\n",
       "the arts/cultrual                                                                   1\n",
       "the arts/cultural                                                                2089\n",
       "the city                                                                            2\n",
       "the city weekly                                                                  1299\n",
       "the city weekly/queens                                                             28\n",
       "the good health magazine                                                            2\n",
       "the marathon                                                                        7\n",
       "the millennium                                                                      6\n",
       "the natural world                                                                   1\n",
       "the new season magazine                                                             1\n",
       "the year in pictures                                                                3\n",
       "then & now                                                                          1\n",
       "tholiday                                                                            7\n",
       "thursday styles                                                                    55\n",
       "travel                                                                           1245\n",
       "vacation                                                                            3\n",
       "week in review                                                                   1240\n",
       "week in review week in review                                                       1\n",
       "weekend                                                                          1005\n",
       "weekend weekend                                                                     7\n",
       "weekin review                                                                       1\n",
       "westchester weekly                                                               1122\n",
       "winter times supplement                                                             1\n",
       "wireless living                                                                     2\n",
       "women's health                                                                      8\n",
       "working                                                                             6\n",
       "workplace                                                                          19\n",
       "world of new york magazine                                                          6\n",
       "your taxes supplement                                                               1\n",
       "Name: desk, Length: 159, dtype: int64"
      ]
     },
     "execution_count": 32,
     "metadata": {},
     "output_type": "execute_result"
    }
   ],
   "source": [
    "df2 = pd.DataFrame(pd.concat([df.desk.str.lower().str.replace('desk', '').str.strip().str.replace(' and ', ' & ').str.replace('\\\\', '/'),\n",
    "                              df.lead_paragraph,\n",
    "                              df.full_text#,\n",
    "                              #df.nouns,\n",
    "                              #df.lemmas\n",
    "                             ], axis=1))\n",
    "df2.groupby('desk')['desk'].count()"
   ]
  },
  {
   "cell_type": "code",
   "execution_count": null,
   "metadata": {},
   "outputs": [],
   "source": []
  }
 ],
 "metadata": {
  "kernelspec": {
   "display_name": "Python 3",
   "language": "python",
   "name": "python3"
  },
  "language_info": {
   "codemirror_mode": {
    "name": "ipython",
    "version": 3
   },
   "file_extension": ".py",
   "mimetype": "text/x-python",
   "name": "python",
   "nbconvert_exporter": "python",
   "pygments_lexer": "ipython3",
   "version": "3.6.4"
  }
 },
 "nbformat": 4,
 "nbformat_minor": 2
}
