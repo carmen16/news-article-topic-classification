{
 "cells": [
  {
   "cell_type": "markdown",
   "metadata": {},
   "source": [
    "# Preprocessing"
   ]
  },
  {
   "cell_type": "code",
   "execution_count": 72,
   "metadata": {},
   "outputs": [],
   "source": [
    "import pandas as pd\n",
    "import numpy as np\n",
    "import matplotlib.pyplot as plt\n",
    "%matplotlib inline\n",
    "\n",
    "from sklearn.feature_extraction.text import CountVectorizer, TfidfVectorizer\n",
    "from sklearn.naive_bayes import MultinomialNB\n",
    "from sklearn.linear_model import LogisticRegression\n",
    "from sklearn.model_selection import GridSearchCV\n",
    "\n",
    "\n",
    "from w266_common import utils, vocabulary"
   ]
  },
  {
   "cell_type": "markdown",
   "metadata": {},
   "source": [
    "# Data"
   ]
  },
  {
   "cell_type": "code",
   "execution_count": 2,
   "metadata": {},
   "outputs": [
    {
     "data": {
      "text/plain": [
       "(10000, 32)"
      ]
     },
     "execution_count": 2,
     "metadata": {},
     "output_type": "execute_result"
    }
   ],
   "source": [
    "df = pd.read_csv('data/nyt_corpus.csv')\n",
    "n = df.shape[0]\n",
    "df.shape"
   ]
  },
  {
   "cell_type": "code",
   "execution_count": 3,
   "metadata": {},
   "outputs": [
    {
     "data": {
      "text/plain": [
       "Index(['abstract', 'author_info', 'copyright_holder', 'copyright_year',\n",
       "       'descriptor', 'desk', 'full_text', 'general_descriptor', 'headline',\n",
       "       'id', 'indexing_descriptor', 'indexing_location', 'indexing_org',\n",
       "       'indexing_person', 'lead_paragraph', 'length', 'length_unit',\n",
       "       'normalized_byline', 'online_headline', 'online_sections',\n",
       "       'print_byline', 'print_column', 'print_page_number', 'print_section',\n",
       "       'publication_day_of_month', 'publication_day_of_week',\n",
       "       'publication_month', 'publication_year', 'series_name',\n",
       "       'taxonomic_classifier', 'title', 'types_of_material'],\n",
       "      dtype='object')"
      ]
     },
     "execution_count": 3,
     "metadata": {},
     "output_type": "execute_result"
    }
   ],
   "source": [
    "df.columns"
   ]
  },
  {
   "cell_type": "markdown",
   "metadata": {},
   "source": [
    "### Nouns"
   ]
  },
  {
   "cell_type": "code",
   "execution_count": 8,
   "metadata": {},
   "outputs": [],
   "source": [
    "from nltk.corpus import treebank"
   ]
  },
  {
   "cell_type": "code",
   "execution_count": 14,
   "metadata": {},
   "outputs": [
    {
     "data": {
      "text/plain": [
       "['Alan',\n",
       " 'Spoon',\n",
       " ',',\n",
       " 'recently',\n",
       " 'named',\n",
       " '*',\n",
       " 'Newsweek',\n",
       " 'president',\n",
       " ',',\n",
       " 'said',\n",
       " '0',\n",
       " 'Newsweek',\n",
       " \"'s\",\n",
       " 'ad',\n",
       " 'rates',\n",
       " 'would',\n",
       " 'increase',\n",
       " '5',\n",
       " '%',\n",
       " 'in',\n",
       " 'January',\n",
       " '.']"
      ]
     },
     "execution_count": 14,
     "metadata": {},
     "output_type": "execute_result"
    }
   ],
   "source": [
    "treebank.sents()[100]"
   ]
  },
  {
   "cell_type": "markdown",
   "metadata": {},
   "source": [
    "### Lemmas"
   ]
  },
  {
   "cell_type": "code",
   "execution_count": null,
   "metadata": {},
   "outputs": [],
   "source": []
  },
  {
   "cell_type": "markdown",
   "metadata": {},
   "source": [
    "### Labels"
   ]
  },
  {
   "cell_type": "code",
   "execution_count": 4,
   "metadata": {},
   "outputs": [
    {
     "data": {
      "text/html": [
       "<div>\n",
       "<style scoped>\n",
       "    .dataframe tbody tr th:only-of-type {\n",
       "        vertical-align: middle;\n",
       "    }\n",
       "\n",
       "    .dataframe tbody tr th {\n",
       "        vertical-align: top;\n",
       "    }\n",
       "\n",
       "    .dataframe thead th {\n",
       "        text-align: right;\n",
       "    }\n",
       "</style>\n",
       "<table border=\"1\" class=\"dataframe\">\n",
       "  <thead>\n",
       "    <tr style=\"text-align: right;\">\n",
       "      <th></th>\n",
       "      <th>desk</th>\n",
       "      <th>general_descriptor</th>\n",
       "      <th>online_sections</th>\n",
       "      <th>taxonomic_classifier</th>\n",
       "    </tr>\n",
       "  </thead>\n",
       "  <tbody>\n",
       "    <tr>\n",
       "      <th>9990</th>\n",
       "      <td>Editorial Desk</td>\n",
       "      <td>['Budgets and Budgeting', 'National Debt (US)'...</td>\n",
       "      <td>Opinion</td>\n",
       "      <td>['Top/Opinion', 'Top/Opinion/Opinion', 'Top/Ne...</td>\n",
       "    </tr>\n",
       "    <tr>\n",
       "      <th>9991</th>\n",
       "      <td>Foreign Desk</td>\n",
       "      <td>['Immigration and Refugees', 'Jews', 'Music', ...</td>\n",
       "      <td>World</td>\n",
       "      <td>['Top/News', 'Top/News/World/Countries and Ter...</td>\n",
       "    </tr>\n",
       "    <tr>\n",
       "      <th>9992</th>\n",
       "      <td>Foreign Desk</td>\n",
       "      <td>['Airlines and Airplanes']</td>\n",
       "      <td>NaN</td>\n",
       "      <td>['Top/Classifieds/Job Market/Job Categories/Ma...</td>\n",
       "    </tr>\n",
       "    <tr>\n",
       "      <th>9993</th>\n",
       "      <td>Metropolitan Desk</td>\n",
       "      <td>['Murders and Attempted Murders', 'Basketball'...</td>\n",
       "      <td>New York and Region</td>\n",
       "      <td>['Top/News/U.S./U.S. States, Territories and P...</td>\n",
       "    </tr>\n",
       "    <tr>\n",
       "      <th>9994</th>\n",
       "      <td>Book Review Desk</td>\n",
       "      <td>['Books and Literature']</td>\n",
       "      <td>Arts; Books</td>\n",
       "      <td>['Top/Features/Books/Book Reviews', 'Top/Featu...</td>\n",
       "    </tr>\n",
       "    <tr>\n",
       "      <th>9995</th>\n",
       "      <td>Editorial Desk</td>\n",
       "      <td>NaN</td>\n",
       "      <td>Opinion</td>\n",
       "      <td>['Top/Opinion/Opinion/Letters', 'Top/Opinion',...</td>\n",
       "    </tr>\n",
       "    <tr>\n",
       "      <th>9996</th>\n",
       "      <td>National Desk</td>\n",
       "      <td>NaN</td>\n",
       "      <td>U.S.</td>\n",
       "      <td>['Top/News/U.S.', 'Top/News']</td>\n",
       "    </tr>\n",
       "    <tr>\n",
       "      <th>9997</th>\n",
       "      <td>Metropolitan Desk</td>\n",
       "      <td>NaN</td>\n",
       "      <td>New York and Region</td>\n",
       "      <td>['Top/News/New York and Region']</td>\n",
       "    </tr>\n",
       "    <tr>\n",
       "      <th>9998</th>\n",
       "      <td>Classified</td>\n",
       "      <td>NaN</td>\n",
       "      <td>Paid Death Notices</td>\n",
       "      <td>['Top/Classifieds/Paid Death Notices']</td>\n",
       "    </tr>\n",
       "    <tr>\n",
       "      <th>9999</th>\n",
       "      <td>Leisure/Weekend Desk</td>\n",
       "      <td>NaN</td>\n",
       "      <td>Arts</td>\n",
       "      <td>['Top/Features/Arts']</td>\n",
       "    </tr>\n",
       "  </tbody>\n",
       "</table>\n",
       "</div>"
      ],
      "text/plain": [
       "                      desk                                 general_descriptor  \\\n",
       "9990        Editorial Desk  ['Budgets and Budgeting', 'National Debt (US)'...   \n",
       "9991          Foreign Desk  ['Immigration and Refugees', 'Jews', 'Music', ...   \n",
       "9992          Foreign Desk                         ['Airlines and Airplanes']   \n",
       "9993     Metropolitan Desk  ['Murders and Attempted Murders', 'Basketball'...   \n",
       "9994      Book Review Desk                           ['Books and Literature']   \n",
       "9995        Editorial Desk                                                NaN   \n",
       "9996         National Desk                                                NaN   \n",
       "9997     Metropolitan Desk                                                NaN   \n",
       "9998            Classified                                                NaN   \n",
       "9999  Leisure/Weekend Desk                                                NaN   \n",
       "\n",
       "          online_sections                               taxonomic_classifier  \n",
       "9990              Opinion  ['Top/Opinion', 'Top/Opinion/Opinion', 'Top/Ne...  \n",
       "9991                World  ['Top/News', 'Top/News/World/Countries and Ter...  \n",
       "9992                  NaN  ['Top/Classifieds/Job Market/Job Categories/Ma...  \n",
       "9993  New York and Region  ['Top/News/U.S./U.S. States, Territories and P...  \n",
       "9994          Arts; Books  ['Top/Features/Books/Book Reviews', 'Top/Featu...  \n",
       "9995              Opinion  ['Top/Opinion/Opinion/Letters', 'Top/Opinion',...  \n",
       "9996                 U.S.                      ['Top/News/U.S.', 'Top/News']  \n",
       "9997  New York and Region                   ['Top/News/New York and Region']  \n",
       "9998   Paid Death Notices             ['Top/Classifieds/Paid Death Notices']  \n",
       "9999                 Arts                              ['Top/Features/Arts']  "
      ]
     },
     "execution_count": 4,
     "metadata": {},
     "output_type": "execute_result"
    }
   ],
   "source": [
    "# possible labels - desk works best\n",
    "df[['desk','general_descriptor','online_sections','taxonomic_classifier']][-10:]"
   ]
  },
  {
   "cell_type": "code",
   "execution_count": 5,
   "metadata": {},
   "outputs": [
    {
     "data": {
      "text/plain": [
       "desk                    0.0041\n",
       "general_descriptor      0.2140\n",
       "online_sections         0.0244\n",
       "taxonomic_classifier    0.0144\n",
       "dtype: float64"
      ]
     },
     "execution_count": 5,
     "metadata": {},
     "output_type": "execute_result"
    }
   ],
   "source": [
    "# pct nulls for each possible labels\n",
    "(n - df[['desk','general_descriptor','online_sections','taxonomic_classifier']].count())/n"
   ]
  },
  {
   "cell_type": "code",
   "execution_count": 270,
   "metadata": {},
   "outputs": [
    {
     "data": {
      "text/plain": [
       "desk\n",
       "A Nation Challenged                                                          1\n",
       "Adventure Sports                                                             2\n",
       "Arts & Ideas/Cultural Desk                                                  18\n",
       "Arts & Leisure Desk                                                         29\n",
       "Arts and Leisure Desk                                                      129\n",
       "Automobiles                                                                  9\n",
       "Book Review Desk                                                           176\n",
       "Business World Magazine                                                      1\n",
       "Business/Finance Desk                                                        1\n",
       "Business/Financial Desk                                                    628\n",
       "Business\\Financial Desk                                                      1\n",
       "Cars                                                                         4\n",
       "Circuits                                                                    48\n",
       "Classifed                                                                    1\n",
       "Classified                                                                 721\n",
       "Classified Desk                                                              3\n",
       "Classifieds                                                                  4\n",
       "Connecticut Weekly Desk                                                     90\n",
       "Cultural Desk                                                              231\n",
       "Dining In, Dining Out/Style Desk                                            37\n",
       "Dining, Dining Out/Cultural Desk                                            10\n",
       "E-Commerce                                                                   1\n",
       "Editorial Desk                                                             666\n",
       "Education Life Supple                                                        1\n",
       "Education Life Supplement                                                   12\n",
       "Escapes                                                                     18\n",
       "Fashions of The Times Magazine                                               2\n",
       "Financial Desk                                                            1106\n",
       "Financial Desk;                                                              2\n",
       "Flight                                                                       1\n",
       "                                                                          ... \n",
       "Style Desk                                                                 122\n",
       "Style Desk;                                                                  2\n",
       "Style and Entertaining Magazine                                              1\n",
       "Styles of The Times                                                         18\n",
       "Summer Times Supplement                                                      1\n",
       "SundayBusiness                                                              14\n",
       "T: Beauty                                                                    2\n",
       "T: Design Magazine                                                           1\n",
       "T: Men's Fashion Magazine                                                    2\n",
       "T: Travel Magazine                                                           2\n",
       "T: Women's Fashion Magazine                                                  1\n",
       "THoliday                                                                     1\n",
       "Television                                                                   8\n",
       "The Arts/Cultural Desk                                                     219\n",
       "The Business of Green                                                        1\n",
       "The City Weekly Desk                                                       116\n",
       "The City Weekly/Queens                                                       3\n",
       "The Marathon                                                                 1\n",
       "Thursday Styles                                                              5\n",
       "Travel Desk                                                                111\n",
       "Week In Review Desk                                                          6\n",
       "Week in Review                                                               1\n",
       "Week in Review Desk                                                        109\n",
       "Weekend Desk                                                               115\n",
       "Weekend DeskWeekend Desk                                                     4\n",
       "Westchester Weekly Desk                                                    115\n",
       "Working                                                                      1\n",
       "Workplace                                                                    3\n",
       "classified                                                                   1\n",
       "thrombotic thrombocytopenic purpura, which affects the central nervous       1\n",
       "Name: desk, Length: 97, dtype: int64"
      ]
     },
     "execution_count": 270,
     "metadata": {},
     "output_type": "execute_result"
    }
   ],
   "source": [
    "# these will be cleaned up for the final dataframe\n",
    "df.groupby('desk')['desk'].count()"
   ]
  },
  {
   "cell_type": "code",
   "execution_count": 268,
   "metadata": {
    "scrolled": false
   },
   "outputs": [
    {
     "data": {
      "text/plain": [
       "desk\n",
       "a nation challenged                                                          1\n",
       "arts                                                                       882\n",
       "book review                                                                176\n",
       "business                                                                   725\n",
       "cars                                                                        13\n",
       "city & region weekly                                                       558\n",
       "classified                                                                 734\n",
       "dining                                                                      47\n",
       "editorial                                                                  666\n",
       "education                                                                   13\n",
       "escapes                                                                     18\n",
       "financial                                                                 1108\n",
       "foreign                                                                    723\n",
       "giving                                                                       1\n",
       "health & fitness                                                            22\n",
       "home & garden                                                               94\n",
       "living                                                                      41\n",
       "magazine                                                                   147\n",
       "metropolitan                                                              1293\n",
       "national                                                                   785\n",
       "obituary                                                                   113\n",
       "outlook                                                                      1\n",
       "page 6, column 4                                                             1\n",
       "personal investing supplement                                                1\n",
       "real estate                                                                 75\n",
       "retirement                                                                   1\n",
       "science                                                                     68\n",
       "society                                                                    242\n",
       "sports                                                                     947\n",
       "style                                                                      147\n",
       "summer times supplement                                                      1\n",
       "t magazine                                                                  23\n",
       "technology                                                                  49\n",
       "television                                                                   8\n",
       "the business of green                                                        1\n",
       "the marathon                                                                 1\n",
       "tholiday                                                                     1\n",
       "thrombotic thrombocytopenic purpura, which affects the central nervous       1\n",
       "travel                                                                     111\n",
       "week in review                                                             116\n",
       "working                                                                      1\n",
       "workplace                                                                    3\n",
       "Name: desk, dtype: int64"
      ]
     },
     "execution_count": 268,
     "metadata": {},
     "output_type": "execute_result"
    }
   ],
   "source": [
    "def clean_labels(c):\n",
    "    c = c.str.lower().str.strip()\n",
    "    c = c.str.replace('desk', '')\n",
    "    c = c.str.replace(';', '')\n",
    "    c = c.str.replace(' and ', ' & ')\n",
    "    c = c.str.replace('\\\\', '/')\n",
    "    c = c.str.replace('arts & .*|cultural|museums|the arts/cultural|.*weekend.*', 'arts')\n",
    "    c = c.str.replace('automobiles', 'cars')\n",
    "    c = c.str.replace('classifed|classifieds|job market', 'classified')\n",
    "    c = c.str.replace('.*dining out.*', 'dining')\n",
    "    c = c.str.replace('education.*', 'education')\n",
    "    c = c.str.replace('business/financ.*|business world magazine|e-commerce|.*money.*financ.*|sundaybusiness', 'business')\n",
    "    c = c.str.replace('health&fitness', 'health & fitness')\n",
    "    c = c.str.replace('home|house & home/style', 'home & garden')\n",
    "    c = c.str.replace('metropolitian', 'metropolitan')\n",
    "    c = c.str.replace('new jersey.*', 'new jersey weekly')\n",
    "    c = c.str.replace('connecticut weekly|new jersey weekly|long island weekly|the city weekly.*|westchester weekly', 'city & region weekly')\n",
    "    c = c.str.replace('thursday styles|styles of the times', 'style')\n",
    "    c = c.str.replace('.*design.*magazine|.*fashion.*magazine|.*style.*magazine|.*travel.*magazine|t: \\w+.*', 't magazine')\n",
    "    c = c.str.replace('adventure sports|sports sports', 'sports')\n",
    "    c = c.str.replace('circuits|flight', 'technology')\n",
    "    c = c.str.strip()\n",
    "    return c\n",
    "\n",
    "labels = pd.DataFrame(clean_labels(df.desk))\n",
    "labels.groupby('desk')['desk'].count()"
   ]
  },
  {
   "cell_type": "code",
   "execution_count": 274,
   "metadata": {},
   "outputs": [
    {
     "data": {
      "text/plain": [
       "14"
      ]
     },
     "execution_count": 274,
     "metadata": {},
     "output_type": "execute_result"
    }
   ],
   "source": [
    "#labels.groupby('desk')['desk'].count().filter()\n",
    "\n",
    "labels.groupby('desk').filter(lambda x: x['desk'].count() <= 10).groupby('desk')['desk'].count().count()\n",
    "# >10: 28 categories with 9,936 articles\n",
    "# <=10: 14 categories with 23 articles\n",
    "# 41 articles with null category"
   ]
  },
  {
   "cell_type": "code",
   "execution_count": 9,
   "metadata": {},
   "outputs": [
    {
     "data": {
      "text/html": [
       "<div>\n",
       "<style scoped>\n",
       "    .dataframe tbody tr th:only-of-type {\n",
       "        vertical-align: middle;\n",
       "    }\n",
       "\n",
       "    .dataframe tbody tr th {\n",
       "        vertical-align: top;\n",
       "    }\n",
       "\n",
       "    .dataframe thead th {\n",
       "        text-align: right;\n",
       "    }\n",
       "</style>\n",
       "<table border=\"1\" class=\"dataframe\">\n",
       "  <thead>\n",
       "    <tr style=\"text-align: right;\">\n",
       "      <th></th>\n",
       "      <th>desk</th>\n",
       "      <th>full_text</th>\n",
       "      <th>lead_paragraph</th>\n",
       "    </tr>\n",
       "  </thead>\n",
       "  <tbody>\n",
       "    <tr>\n",
       "      <th>0</th>\n",
       "      <td>financial</td>\n",
       "      <td>The Bethlehem Steel Corporation, after report...</td>\n",
       "      <td>The Bethlehem Steel Corporation, after report...</td>\n",
       "    </tr>\n",
       "    <tr>\n",
       "      <th>1</th>\n",
       "      <td>foreign</td>\n",
       "      <td>Seeking to raise morale at home and improve i...</td>\n",
       "      <td>Seeking to raise morale at home and improve i...</td>\n",
       "    </tr>\n",
       "    <tr>\n",
       "      <th>2</th>\n",
       "      <td>editorial</td>\n",
       "      <td>By the time Lord Elgin obtained the authority...</td>\n",
       "      <td>By the time Lord Elgin obtained the authority...</td>\n",
       "    </tr>\n",
       "    <tr>\n",
       "      <th>3</th>\n",
       "      <td>classified</td>\n",
       "      <td>SPEIER-Claire. Born New York City. Age 70. Gr...</td>\n",
       "      <td>SPEIER-Claire. Born New York City. Age 70. Gr...</td>\n",
       "    </tr>\n",
       "    <tr>\n",
       "      <th>4</th>\n",
       "      <td>national</td>\n",
       "      <td>LEAD: The Japanese videotape begins with the ...</td>\n",
       "      <td>LEAD: The Japanese videotape begins with the ...</td>\n",
       "    </tr>\n",
       "  </tbody>\n",
       "</table>\n",
       "</div>"
      ],
      "text/plain": [
       "         desk                                          full_text  \\\n",
       "0   financial   The Bethlehem Steel Corporation, after report...   \n",
       "1     foreign   Seeking to raise morale at home and improve i...   \n",
       "2   editorial   By the time Lord Elgin obtained the authority...   \n",
       "3  classified   SPEIER-Claire. Born New York City. Age 70. Gr...   \n",
       "4    national   LEAD: The Japanese videotape begins with the ...   \n",
       "\n",
       "                                      lead_paragraph  \n",
       "0   The Bethlehem Steel Corporation, after report...  \n",
       "1   Seeking to raise morale at home and improve i...  \n",
       "2   By the time Lord Elgin obtained the authority...  \n",
       "3   SPEIER-Claire. Born New York City. Age 70. Gr...  \n",
       "4   LEAD: The Japanese videotape begins with the ...  "
      ]
     },
     "execution_count": 9,
     "metadata": {},
     "output_type": "execute_result"
    }
   ],
   "source": [
    "df_final = pd.DataFrame(pd.concat([labels, df.full_text, df.lead_paragraph#,\n",
    "                                   #df.nouns,\n",
    "                                   #df.lemmas\n",
    "                                  ], axis=1))\n",
    "df_final.head()"
   ]
  },
  {
   "cell_type": "code",
   "execution_count": 242,
   "metadata": {},
   "outputs": [
    {
     "data": {
      "text/html": [
       "<div>\n",
       "<style scoped>\n",
       "    .dataframe tbody tr th:only-of-type {\n",
       "        vertical-align: middle;\n",
       "    }\n",
       "\n",
       "    .dataframe tbody tr th {\n",
       "        vertical-align: top;\n",
       "    }\n",
       "\n",
       "    .dataframe thead th {\n",
       "        text-align: right;\n",
       "    }\n",
       "</style>\n",
       "<table border=\"1\" class=\"dataframe\">\n",
       "  <thead>\n",
       "    <tr style=\"text-align: right;\">\n",
       "      <th></th>\n",
       "      <th>desk</th>\n",
       "      <th>general_descriptor</th>\n",
       "      <th>online_sections</th>\n",
       "      <th>taxonomic_classifier</th>\n",
       "    </tr>\n",
       "  </thead>\n",
       "  <tbody>\n",
       "    <tr>\n",
       "      <th>4690</th>\n",
       "      <td>The Business of Green</td>\n",
       "      <td>['Oil (Petroleum) and Gasoline', 'Chemicals', ...</td>\n",
       "      <td>Business</td>\n",
       "      <td>['Top/News/Business', 'Top/News/Science/Enviro...</td>\n",
       "    </tr>\n",
       "  </tbody>\n",
       "</table>\n",
       "</div>"
      ],
      "text/plain": [
       "                       desk  \\\n",
       "4690  The Business of Green   \n",
       "\n",
       "                                     general_descriptor online_sections  \\\n",
       "4690  ['Oil (Petroleum) and Gasoline', 'Chemicals', ...        Business   \n",
       "\n",
       "                                   taxonomic_classifier  \n",
       "4690  ['Top/News/Business', 'Top/News/Science/Enviro...  "
      ]
     },
     "execution_count": 242,
     "metadata": {},
     "output_type": "execute_result"
    }
   ],
   "source": [
    "df[df.desk == 'The Business of Green'][['desk','general_descriptor','online_sections','taxonomic_classifier']][-10:]"
   ]
  },
  {
   "cell_type": "markdown",
   "metadata": {},
   "source": [
    "### Convert to Vocabulary Objects"
   ]
  },
  {
   "cell_type": "code",
   "execution_count": 196,
   "metadata": {},
   "outputs": [],
   "source": [
    "from nltk.tokenize.treebank import TreebankWordTokenizer\n",
    "\n",
    "def create_vocab(articles):\n",
    "    article_list = articles.tolist()\n",
    "    tokenizer = TreebankWordTokenizer()    \n",
    "    token_list = [tokenizer.tokenize(a) for a in article_list if not pd.isnull(a)]\n",
    "    tokens = utils.canonicalize_words(utils.flatten(token_list))\n",
    "    vocab = vocabulary.Vocabulary(tokens, size=None)\n",
    "    vocab.token_count = len(tokens)\n",
    "        \n",
    "    return vocab"
   ]
  },
  {
   "cell_type": "code",
   "execution_count": 197,
   "metadata": {},
   "outputs": [],
   "source": [
    "full_text_vocab = create_vocab(df_final.full_text)\n",
    "lead_paragraph_vocab = create_vocab(df_final.lead_paragraph)\n",
    "#noun_vocab = create_vocab(df_final.nouns)\n",
    "#lemma_vocab = create_vocab(df_final.lemmas)"
   ]
  },
  {
   "cell_type": "code",
   "execution_count": 198,
   "metadata": {},
   "outputs": [
    {
     "data": {
      "text/html": [
       "<table><tr><th>Article Type</th><th>Vocabulary Size</th><th>Token Count</th></tr><tr><td>Full Text</td><td>144,374</td><td>6,248,228</td></tr><tr><td>Lead Paragraph</td><td>57,600</td><td>921,434</td></tr></tr></table>"
      ],
      "text/plain": [
       "<IPython.core.display.HTML object>"
      ]
     },
     "metadata": {},
     "output_type": "display_data"
    }
   ],
   "source": [
    "from IPython.display import display, HTML\n",
    "\n",
    "html = '<table><tr><th>Article Type</th><th>Vocabulary Size</th><th>Token Count</th></tr>'\n",
    "html += '<tr><td>Full Text</td><td>{:,}</td>'.format(full_text_vocab.size)\n",
    "html += '<td>{:,}</td></tr>'.format(full_text_vocab.token_count)\n",
    "html += '<tr><td>Lead Paragraph</td><td>{:,}</td>'.format(lead_paragraph_vocab.size)\n",
    "html += '<td>{:,}</td></tr>'.format(lead_paragraph_vocab.token_count)\n",
    "#html += '<tr><td>Nouns</td><td>{:,}</td>'.format(noun_vocab.size)\n",
    "#html += '<td>{:,}</td></tr>'.format(noun_vocab.token_count)\n",
    "#html += '<tr><td>Lemmas</td><td>{:,}</td>'.format(lemma_vocab.size)\n",
    "#html += '<td>{:,}</td></tr>'.format(lemma_vocab.token_count)\n",
    "html += \"</tr></table>\"\n",
    "display(HTML(html))"
   ]
  },
  {
   "cell_type": "markdown",
   "metadata": {},
   "source": [
    "### TFIDF Vectorize"
   ]
  },
  {
   "cell_type": "code",
   "execution_count": 294,
   "metadata": {},
   "outputs": [],
   "source": [
    "def train_test_split(df, articles, labels, category_min):\n",
    "    # Remove null entries\n",
    "    data = df[[articles, labels]][df[articles].notnull()][df[labels].notnull()]\n",
    "    data = data.reset_index()[[articles, labels]]\n",
    "    \n",
    "    # Remove entries in categories with too few data points\n",
    "    data = data.groupby('desk').filter(lambda x: x['desk'].count() >= category_min)\n",
    "    data = data.reset_index()[[articles, labels]]\n",
    "\n",
    "    # Randomly assign indexes to train, dev, test\n",
    "    rand = np.random.uniform(size=len(data[labels]))\n",
    "    train_idx = np.where(rand < 0.75)[0]\n",
    "    dev_idx = np.where((rand >= 0.75) & (rand < 0.8))[0]\n",
    "    test_idx = np.where(rand >= 0.8)[0]\n",
    "    \n",
    "    # Break dataframe into train, dev, test dfs\n",
    "    train = data.loc[list(train_idx)].reset_index()[[articles, labels]]\n",
    "    dev = data.loc[list(dev_idx)].reset_index()[[articles, labels]]\n",
    "    test = data.loc[list(test_idx)].reset_index()[[articles, labels]]\n",
    "    \n",
    "    return train, dev, test"
   ]
  },
  {
   "cell_type": "code",
   "execution_count": 295,
   "metadata": {},
   "outputs": [
    {
     "name": "stderr",
     "output_type": "stream",
     "text": [
      "/Library/Frameworks/Python.framework/Versions/3.6/lib/python3.6/site-packages/ipykernel_launcher.py:3: UserWarning: Boolean Series key will be reindexed to match DataFrame index.\n",
      "  This is separate from the ipykernel package so we can avoid doing imports until\n"
     ]
    }
   ],
   "source": [
    "np.random.seed(102)\n",
    "ft_train, ft_dev, ft_test = train_test_split(df_final, 'full_text', 'desk', 10)\n",
    "lp_train, lp_dev, lp_test = train_test_split(df_final, 'lead_paragraph', 'desk', 10)"
   ]
  },
  {
   "cell_type": "code",
   "execution_count": 296,
   "metadata": {},
   "outputs": [],
   "source": [
    "def tfidf_vectorize(train_data, dev_data, test_data):\n",
    "    tv = TfidfVectorizer()\n",
    "    tv.fit(train_data)\n",
    "    tv_train = tv.transform(train_data)\n",
    "    tv_dev = tv.transform(dev_data)\n",
    "    tv_test = tv.transform(test_data)    \n",
    "    return tv_train, tv_dev, tv_test"
   ]
  },
  {
   "cell_type": "code",
   "execution_count": 297,
   "metadata": {},
   "outputs": [],
   "source": [
    "# Set up sparse matrices\n",
    "ft_tv_train, ft_tv_dev, ft_tv_test = tfidf_vectorize(ft_train.full_text, ft_dev.full_text, ft_test.full_text)\n",
    "lp_tv_train, lp_tv_dev, lp_tv_test = tfidf_vectorize(lp_train.lead_paragraph, lp_dev.lead_paragraph, lp_dev.lead_paragraph)"
   ]
  },
  {
   "cell_type": "code",
   "execution_count": 385,
   "metadata": {},
   "outputs": [
    {
     "data": {
      "text/html": [
       "<table><th>Article Type</th><th>Training Articles</th><th>Training Vocab Size</th><th>Training NNZ per Article</th><th>Dev Articles</th><th>Test Articles</th></tr><tr><td>Full Text</td><td>7,302</td><td>85,031</td><td>260</td><td>512</td><td>1,969</td></tr><tr><td>Lead Paragraph</td><td>7,076</td><td>39,378</td><td>61</td><td>484</td><td>484</td></tr></tr></table>"
      ],
      "text/plain": [
       "<IPython.core.display.HTML object>"
      ]
     },
     "metadata": {},
     "output_type": "display_data"
    }
   ],
   "source": [
    "html = '<table><th>Article Type</th><th>Training Articles</th><th>Training Vocab Size</th><th>Training NNZ per Article</th>'\n",
    "html += '<th>Dev Articles</th><th>Test Articles</th></tr>'\n",
    "html += '<tr><td>Full Text</td><td>{:,}</td><td>{:,}</td><td>{:,.0f}</td>'.format(ft_tv_train.shape[0], ft_tv_train.shape[1], ft_tv_train.nnz / ft_tv_train.shape[0])\n",
    "html += '<td>{:,}</td><td>{:,}</td></tr>'.format(ft_tv_dev.shape[0], ft_tv_test.shape[0])\n",
    "html += '<tr><td>Lead Paragraph</td><td>{:,}</td><td>{:,}</td><td>{:,.0f}</td>'.format(lp_tv_train.shape[0], lp_tv_train.shape[1], lp_tv_train.nnz / lp_tv_train.shape[0])\n",
    "html += '<td>{:,}</td><td>{:,}</td></tr>'.format(lp_tv_dev.shape[0], lp_tv_test.shape[0])\n",
    "html += '</tr></table>'\n",
    "display(HTML(html))"
   ]
  },
  {
   "cell_type": "code",
   "execution_count": 414,
   "metadata": {},
   "outputs": [],
   "source": [
    "def log_reg(train_data, train_labels, dev_data, dev_labels, C):\n",
    "    penalties = ['l1','l2']\n",
    "    accuracy = []\n",
    "    for i in penalties:\n",
    "        for j in range(len(C)):\n",
    "            lr = LogisticRegression(C=C[j], penalty=i)\n",
    "            lr.fit(train_data, train_labels)\n",
    "            accuracy.append(lr.score(dev_data, dev_labels))\n",
    "    \n",
    "    # Combine to dataframe\n",
    "    pd.options.display.float_format = '{:,.8f}'.format\n",
    "    df = pd.concat([pd.DataFrame(['L1']*len(C) + ['L2']*len(C), columns={'penalty'}),\n",
    "                    pd.DataFrame(C*len(penalties), columns={'C'}), pd.DataFrame(accuracy, columns={'accuracy'})], axis=1)\n",
    "    return df\n",
    "\n",
    "C = list(10. ** np.arange(-8, 8))\n",
    "ft_lr = log_reg(ft_tv_train, ft_train.desk, ft_tv_dev, ft_dev.desk, C)\n",
    "lp_lr = log_reg(lp_tv_train, lp_train.desk, lp_tv_dev, lp_dev.desk, C)"
   ]
  },
  {
   "cell_type": "code",
   "execution_count": 418,
   "metadata": {},
   "outputs": [
    {
     "data": {
      "text/plain": [
       "<matplotlib.legend.Legend at 0x141b7ae48>"
      ]
     },
     "execution_count": 418,
     "metadata": {},
     "output_type": "execute_result"
    },
    {
     "data": {
      "image/png": "[encoded data removed]",
      "text/plain": [
       "<Figure size 432x288 with 1 Axes>"
      ]
     },
     "metadata": {},
     "output_type": "display_data"
    }
   ],
   "source": [
    "# Plot logistic regression accuracies\n",
    "log_C = np.log10(C)\n",
    "plt.plot(log_C, ft_lr.accuracy[np.where(ft_lr.penalty == 'L1')[0]],\n",
    "        color='blue', linestyle='dotted', marker='x', label='Full Text-L1')\n",
    "plt.plot(log_C, ft_lr.accuracy[np.where(ft_lr.penalty == 'L2')[0]],\n",
    "        color='blue', marker='o', label='Full Text-L2')\n",
    "plt.plot(log_C, lp_lr.accuracy[np.where(lp_lr.penalty == 'L1')[0]],\n",
    "        color='red', linestyle='dotted', marker='x', label='Lead Paragraph-L1')\n",
    "plt.plot(log_C, lp_lr.accuracy[np.where(lp_lr.penalty == 'L2')[0]],\n",
    "        color='red', marker='o', label='Lead Paragraph-L2')\n",
    "plt.title('Logistic Regression on TFIDF Vectorizer')\n",
    "plt.xlabel('Log10(C)')\n",
    "plt.ylabel('Accuracy')\n",
    "plt.ylim(0, 1)\n",
    "plt.legend()"
   ]
  },
  {
   "cell_type": "code",
   "execution_count": 408,
   "metadata": {},
   "outputs": [
    {
     "data": {
      "text/plain": [
       "penalty           L2\n",
       "C          100.00000\n",
       "accuracy     0.76758\n",
       "Name: 26, dtype: object"
      ]
     },
     "execution_count": 408,
     "metadata": {},
     "output_type": "execute_result"
    }
   ],
   "source": [
    "ft_lr.iloc[np.where(ft_lr.accuracy == max(ft_lr.accuracy))[0][0]]"
   ]
  },
  {
   "cell_type": "code",
   "execution_count": 410,
   "metadata": {},
   "outputs": [],
   "source": [
    "def multi_nb(train_data, train_labels, dev_data, dev_labels, alpha):\n",
    "    accuracy = []\n",
    "    for i in range(len(alpha)):\n",
    "        mnb = MultinomialNB(alpha=alpha[i])\n",
    "        mnb.fit(train_data, train_labels)\n",
    "        accuracy.append(mnb.score(dev_data, dev_labels))\n",
    "    \n",
    "    # Combine to dataframe\n",
    "    pd.options.display.float_format = '{:,.5f}'.format\n",
    "    df = pd.concat([pd.DataFrame(alpha, columns={'alpha'}), pd.DataFrame(accuracy, columns={'accuracy'})], axis=1)\n",
    "    return df\n",
    "\n",
    "alpha = list(2. ** np.arange(-10, 5, 0.5))\n",
    "ft_mnb = multi_nb(ft_tv_train, ft_train.desk, ft_tv_dev, ft_dev.desk, alpha)\n",
    "lp_mnb = multi_nb(lp_tv_train, lp_train.desk, lp_tv_dev, lp_dev.desk, alpha)"
   ]
  },
  {
   "cell_type": "code",
   "execution_count": 421,
   "metadata": {},
   "outputs": [
    {
     "data": {
      "text/plain": [
       "<matplotlib.legend.Legend at 0x14007f5f8>"
      ]
     },
     "execution_count": 421,
     "metadata": {},
     "output_type": "execute_result"
    },
    {
     "data": {
      "image/png": "[encoded data removed]",
      "text/plain": [
       "<Figure size 432x288 with 1 Axes>"
      ]
     },
     "metadata": {},
     "output_type": "display_data"
    }
   ],
   "source": [
    "# Plot multinomial accuracies\n",
    "log_alpha = np.log2(alpha)\n",
    "plt.plot(log_alpha, ft_mnb.accuracy, color='blue', marker='o', label='Full Text')\n",
    "plt.plot(log_alpha, lp_mnb.accuracy, color='red', marker='o', label='Lead Paragraph')\n",
    "plt.title('Multinomial Naïve Bayes on TFIDF Vectorizer')\n",
    "plt.xlabel('Log2(Alpha)')\n",
    "plt.ylabel('Accuracy')\n",
    "plt.ylim(0, 1)\n",
    "plt.legend()"
   ]
  },
  {
   "cell_type": "code",
   "execution_count": 406,
   "metadata": {},
   "outputs": [
    {
     "data": {
      "text/plain": [
       "alpha      0.00552\n",
       "accuracy   0.70703\n",
       "Name: 5, dtype: float64"
      ]
     },
     "execution_count": 406,
     "metadata": {},
     "output_type": "execute_result"
    }
   ],
   "source": [
    "ft_mnb.iloc[np.where(ft_mnb.accuracy == max(ft_mnb.accuracy))[0][0]]"
   ]
  },
  {
   "cell_type": "code",
   "execution_count": null,
   "metadata": {},
   "outputs": [],
   "source": []
  }
 ],
 "metadata": {
  "kernelspec": {
   "display_name": "Python 3",
   "language": "python",
   "name": "python3"
  },
  "language_info": {
   "codemirror_mode": {
    "name": "ipython",
    "version": 3
   },
   "file_extension": ".py",
   "mimetype": "text/x-python",
   "name": "python",
   "nbconvert_exporter": "python",
   "pygments_lexer": "ipython3",
   "version": "3.6.5"
  }
 },
 "nbformat": 4,
 "nbformat_minor": 2
}
