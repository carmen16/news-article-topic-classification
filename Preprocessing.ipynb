{
 "cells": [
  {
   "cell_type": "markdown",
   "metadata": {},
   "source": [
    "# Packages"
   ]
  },
  {
   "cell_type": "code",
   "execution_count": 96,
   "metadata": {},
   "outputs": [],
   "source": [
    "# Helpful packages\n",
    "import pandas as pd\n",
    "import numpy as np\n",
    "import matplotlib.pyplot as plt\n",
    "%matplotlib inline\n",
    "\n",
    "# Preprocessing\n",
    "from nltk import pos_tag\n",
    "from nltk.corpus import wordnet as wn\n",
    "from nltk.stem import WordNetLemmatizer\n",
    "from nltk.tokenize.treebank import TreebankWordTokenizer\n",
    "\n",
    "# Baseline models\n",
    "from sklearn.feature_extraction.text import TfidfVectorizer\n",
    "from sklearn.naive_bayes import MultinomialNB\n",
    "from sklearn.linear_model import LogisticRegression\n",
    "\n",
    "from w266_common import utils, vocabulary"
   ]
  },
  {
   "cell_type": "markdown",
   "metadata": {},
   "source": [
    "# Import Data"
   ]
  },
  {
   "cell_type": "code",
   "execution_count": 2,
   "metadata": {},
   "outputs": [
    {
     "data": {
      "text/plain": [
       "(10000, 32)"
      ]
     },
     "execution_count": 2,
     "metadata": {},
     "output_type": "execute_result"
    }
   ],
   "source": [
    "df = pd.read_csv('data/nyt_corpus.csv')\n",
    "n = df.shape[0]\n",
    "df.shape"
   ]
  },
  {
   "cell_type": "code",
   "execution_count": 3,
   "metadata": {},
   "outputs": [
    {
     "data": {
      "text/plain": [
       "Index(['abstract', 'author_info', 'copyright_holder', 'copyright_year',\n",
       "       'descriptor', 'desk', 'full_text', 'general_descriptor', 'headline',\n",
       "       'id', 'indexing_descriptor', 'indexing_location', 'indexing_org',\n",
       "       'indexing_person', 'lead_paragraph', 'length', 'length_unit',\n",
       "       'normalized_byline', 'online_headline', 'online_sections',\n",
       "       'print_byline', 'print_column', 'print_page_number', 'print_section',\n",
       "       'publication_day_of_month', 'publication_day_of_week',\n",
       "       'publication_month', 'publication_year', 'series_name',\n",
       "       'taxonomic_classifier', 'title', 'types_of_material'],\n",
       "      dtype='object')"
      ]
     },
     "execution_count": 3,
     "metadata": {},
     "output_type": "execute_result"
    }
   ],
   "source": [
    "df.columns"
   ]
  },
  {
   "cell_type": "markdown",
   "metadata": {},
   "source": [
    "# Preprocessing"
   ]
  },
  {
   "cell_type": "markdown",
   "metadata": {},
   "source": [
    "### Nouns & Lemmas"
   ]
  },
  {
   "cell_type": "code",
   "execution_count": 62,
   "metadata": {},
   "outputs": [],
   "source": [
    "def treebank_to_wn_tags(tagged_tokens):\n",
    "    wn_tags = []\n",
    "    for x in tagged_tokens:\n",
    "        if x[1] in ['NN', 'NNS', 'NNP', 'NNPS']:\n",
    "            wn_tags.append((x[0], wn.NOUN))\n",
    "        elif x[1] in ['JJ', 'JJR', 'JJS']:\n",
    "            wn_tags.append((x[0], wn.ADJ))\n",
    "        elif x[1] in ['VB', 'VBD', 'VBG', 'VBN', 'VBP', 'VBZ']:\n",
    "            wn_tags.append((x[0], wn.VERB))\n",
    "        elif x[1] in ['RB', 'RBR', 'RBS']:\n",
    "            wn_tags.append((x[0], wn.ADV))\n",
    "    return wn_tags"
   ]
  },
  {
   "cell_type": "code",
   "execution_count": 79,
   "metadata": {},
   "outputs": [
    {
     "name": "stdout",
     "output_type": "stream",
     "text": [
      "NOUN EXAMPLE:\n",
      "VICKI COBB description home buyer. children point life type house things mind sense community maintenance headaches tennis. search Ms. Cobb author children science books condominiums way buyers days projects bankruptcies auctions. year three-bedroom condominium Pondside town-house development Greenburgh. developer Ginsburg Development Corporation Hawthrone left county building condominiums market. years pace units year Martin Ginsburg principal company. windfalls phases. Pondside units units phase Mr. Ginsburg units Mr. Ginsburg Boulder Ridge development Greenburgh units construction Mr. Ginsburg buyers company prices year percent. People home Mr. Ginsburg inducements People months Peter Murray officer L.F.M. Development Corporation New Rochelle. developer blemishes record L.F.M. Greens development New Rochelle Eleven Mr. Murray foundations company middle-income project Mamaroneck Buyers project commitment county subsidy years title money kind financing arrangement wave future condominium project Albert A. Annunziata director Cooperative Condominium Advisory Council Westchester. People type ownership foot door equity Ginsburg project Greenburgh Parkridge Village town houses income market Mr. Murray choice housing. housing market rate. condominium market groups home buyers investors Lately first-timers town-house developments Watch Hill Tarrytown homes difference arrangement condominium buyers land Watch Hill phases units phase. Cross Creek Van Cortlandtville Cortlandt fee-simple housing project town houses county infrastructure state Town employees residents priority buyers idea land Bill Balter president Balter Properties Peekskill developer Cross Creek. something check condo board. Mr. Balter investors market. Karyn Diamond Ms. Diamond husband Harvey condominium Boulder Ridge complex Greenburgh. Needing space family children town house. condo month Ms. Diamond Diamonds condominium New Jersey cash flow Mrs. Diamond Many condominium projects Greens empty-nesters people retirement age. lot family homes Mr. Murray. Many years Heritage Hills Somers units. spring Douglas C. Delano vice president Heritage Hills Development Association. contracts units. complex uits remaining Mr. Delano units year. range. Heritage Hills recreation areas year pool tennis court golf courses swimming pools tennis courts. lots plans future homes people houses lives Mr. Delano goal units condo market developments ours homes life style\n",
      "\n",
      "LEMMA EXAMPLE:\n",
      "VICKI COBB do n't fit usual description first-time home buyer. grown child finally reach point life be financially ready get type house 's always wanted. have very specific thing mind said. want sense community maintenance headache tennis. search Ms. Cobb author child science book focus exclusively condominium find most way too expensive said. most buyer day be skittish stalled project bankruptcy auctions. Last year buy new three-bedroom two-and-a-half-bath condominium Pondside town-house development Greenburgh. developer Ginsburg Development Corporation Hawthrone be few left county have manage continue sell building condominium down market. have do so build slowly several year keep pace sales. sell unit last year say Martin Ginsburg principal company. 're not make windfall 're go ahead phases. Pondside start be originally have be unit have be scale back two- three-bedroom unit price 're last phase now Mr. Ginsburg say be unit still sell. Mr. Ginsburg be also continue build 162-unit Boulder Ridge development Greenburgh price unit be still construction Mr. Ginsburg say be unsold. attract buyer company slash price year percent. People still buy home Mr. Ginsburg say think 's worth Even such inducement go have be agonizingly slow. People typically look month now say Peter Murray executive officer L.F.M. Development Corporation New Rochelle. 're wait see 're go auction. developer have blemish record 're not go buy. L.F.M. be now build Greens 20-unit two- three-bedroom development New Rochelle price Eleven be already up have be sell Mr. Murray say foundation have be pour more. company be also plan 50-unit middle-income project Mamaroneck sell low Buyers project have commitment county subsidy be able rent year take title money down. kind financing arrangement be wave future new condominium project say Albert A. Annunziata director Cooperative Condominium Advisory Council Westchester. People tend gravitate type ownership get foot door develop equity said. Ginsburg be also plan middle-income project Greenburgh call Parkridge Village two-bedroom town house price ooo Middle income be big market now Mr. Murray said. have choice new housing. do n't qualify low-income housing n't afford market rate. Traditionally condominium market have comprise group first-time home buyer investor empty-nesters. Lately first-timers seem be gravitate fee-simple town-house development Watch Hill Tarrytown be sell two- three-bedroom home major difference fee-simple arrangement condominium be fee-simple buyer own land units. Watch Hill sell first phase total unit be now build more third final phase. be also Cross Creek Van Cortlandtville Cortlandt subsidized fee-simple affordable housing project town house be sell county contribute infrastructure state grant unit. Town employee resident be give priority units. FIRST-TIME buyer seem like idea own own land say Bill Balter president Balter Properties Peekskill developer Cross Creek. want do something do n't have first check condo board. Mr. Balter say investor have mostly disappear market. few such Karyn Diamond still remain. Ms. Diamond husband Harvey have just move large condominium Boulder Ridge complex Greenburgh. Needing more space grow family now include child buy three-level 5,200-square-foot town house. keep other condo now rent month Ms. Diamond said. Diamonds also own condominium New Jersey rent provide nice cash flow Mrs. Diamond said. Many condominium project such Greens be orignally target so-called empty-nesters people retirement age. do n't really pan lot n't sell family home say Mr. Murray. Many do sell have be move steadily year Heritage Hills Somers be start now have units. spring add more accord Douglas C. Delano vice president Heritage Hills Development Association. already have contract new units. complex add uits last year. only have remaining Mr. Delano said. 's not late sell unit year. Now 're range. Heritage Hills feel confident enough add new recreation area year pool tennis court change complex already have golf course swimming pool tennis courts. have lot plan future add more detached home appeal people 've live house life Mr. Delano said. do have scale ultimate goal unit believe condo market bounce back especially development ours be not just offer home life style\n"
     ]
    }
   ],
   "source": [
    "data = df.full_text\n",
    "\n",
    "tokenizer = TreebankWordTokenizer()\n",
    "lemmatizer = WordNetLemmatizer()\n",
    "\n",
    "nouns = []\n",
    "lemmas = []\n",
    "\n",
    "for i in range(len(data)):\n",
    "    if pd.isnull(data[i]):\n",
    "        noun_string = np.nan\n",
    "    else:\n",
    "        tokens = tokenizer.tokenize(data[i])\n",
    "        tagged_tokens = pos_tag(tokens)\n",
    "        wn_tags = treebank_to_wn_tags(tagged_tokens)\n",
    "        \n",
    "        # For nouns\n",
    "        noun_list = [x[0] for x in wn_tags if x[1] == 'n']\n",
    "        noun_string = ' '.join(noun_list)\n",
    "        \n",
    "        # For lemmas\n",
    "        lemma_list = [lemmatizer.lemmatize(x[0], pos=x[1]) for x in wn_tags]\n",
    "        lemma_string = ' '.join(lemma_list)\n",
    "    \n",
    "    nouns.append(noun_string)\n",
    "    lemmas.append(lemma_string)\n",
    "\n",
    "print('NOUN EXAMPLE:')\n",
    "print(nouns[5])\n",
    "print('\\nLEMMA EXAMPLE:')\n",
    "print(lemmas[5])"
   ]
  },
  {
   "cell_type": "markdown",
   "metadata": {},
   "source": [
    "### Labels"
   ]
  },
  {
   "cell_type": "code",
   "execution_count": 81,
   "metadata": {},
   "outputs": [
    {
     "data": {
      "text/html": [
       "<div>\n",
       "<style scoped>\n",
       "    .dataframe tbody tr th:only-of-type {\n",
       "        vertical-align: middle;\n",
       "    }\n",
       "\n",
       "    .dataframe tbody tr th {\n",
       "        vertical-align: top;\n",
       "    }\n",
       "\n",
       "    .dataframe thead th {\n",
       "        text-align: right;\n",
       "    }\n",
       "</style>\n",
       "<table border=\"1\" class=\"dataframe\">\n",
       "  <thead>\n",
       "    <tr style=\"text-align: right;\">\n",
       "      <th></th>\n",
       "      <th>desk</th>\n",
       "      <th>general_descriptor</th>\n",
       "      <th>online_sections</th>\n",
       "      <th>taxonomic_classifier</th>\n",
       "    </tr>\n",
       "  </thead>\n",
       "  <tbody>\n",
       "    <tr>\n",
       "      <th>9990</th>\n",
       "      <td>Editorial Desk</td>\n",
       "      <td>['Budgets and Budgeting', 'National Debt (US)'...</td>\n",
       "      <td>Opinion</td>\n",
       "      <td>['Top/Opinion', 'Top/Opinion/Opinion', 'Top/Ne...</td>\n",
       "    </tr>\n",
       "    <tr>\n",
       "      <th>9991</th>\n",
       "      <td>Foreign Desk</td>\n",
       "      <td>['Immigration and Refugees', 'Jews', 'Music', ...</td>\n",
       "      <td>World</td>\n",
       "      <td>['Top/News', 'Top/News/World/Countries and Ter...</td>\n",
       "    </tr>\n",
       "    <tr>\n",
       "      <th>9992</th>\n",
       "      <td>Foreign Desk</td>\n",
       "      <td>['Airlines and Airplanes']</td>\n",
       "      <td>NaN</td>\n",
       "      <td>['Top/Classifieds/Job Market/Job Categories/Ma...</td>\n",
       "    </tr>\n",
       "    <tr>\n",
       "      <th>9993</th>\n",
       "      <td>Metropolitan Desk</td>\n",
       "      <td>['Murders and Attempted Murders', 'Basketball'...</td>\n",
       "      <td>New York and Region</td>\n",
       "      <td>['Top/News/U.S./U.S. States, Territories and P...</td>\n",
       "    </tr>\n",
       "    <tr>\n",
       "      <th>9994</th>\n",
       "      <td>Book Review Desk</td>\n",
       "      <td>['Books and Literature']</td>\n",
       "      <td>Arts; Books</td>\n",
       "      <td>['Top/Features/Books/Book Reviews', 'Top/Featu...</td>\n",
       "    </tr>\n",
       "    <tr>\n",
       "      <th>9995</th>\n",
       "      <td>Editorial Desk</td>\n",
       "      <td>NaN</td>\n",
       "      <td>Opinion</td>\n",
       "      <td>['Top/Opinion/Opinion/Letters', 'Top/Opinion',...</td>\n",
       "    </tr>\n",
       "    <tr>\n",
       "      <th>9996</th>\n",
       "      <td>National Desk</td>\n",
       "      <td>NaN</td>\n",
       "      <td>U.S.</td>\n",
       "      <td>['Top/News/U.S.', 'Top/News']</td>\n",
       "    </tr>\n",
       "    <tr>\n",
       "      <th>9997</th>\n",
       "      <td>Metropolitan Desk</td>\n",
       "      <td>NaN</td>\n",
       "      <td>New York and Region</td>\n",
       "      <td>['Top/News/New York and Region']</td>\n",
       "    </tr>\n",
       "    <tr>\n",
       "      <th>9998</th>\n",
       "      <td>Classified</td>\n",
       "      <td>NaN</td>\n",
       "      <td>Paid Death Notices</td>\n",
       "      <td>['Top/Classifieds/Paid Death Notices']</td>\n",
       "    </tr>\n",
       "    <tr>\n",
       "      <th>9999</th>\n",
       "      <td>Leisure/Weekend Desk</td>\n",
       "      <td>NaN</td>\n",
       "      <td>Arts</td>\n",
       "      <td>['Top/Features/Arts']</td>\n",
       "    </tr>\n",
       "  </tbody>\n",
       "</table>\n",
       "</div>"
      ],
      "text/plain": [
       "                      desk                                 general_descriptor  \\\n",
       "9990        Editorial Desk  ['Budgets and Budgeting', 'National Debt (US)'...   \n",
       "9991          Foreign Desk  ['Immigration and Refugees', 'Jews', 'Music', ...   \n",
       "9992          Foreign Desk                         ['Airlines and Airplanes']   \n",
       "9993     Metropolitan Desk  ['Murders and Attempted Murders', 'Basketball'...   \n",
       "9994      Book Review Desk                           ['Books and Literature']   \n",
       "9995        Editorial Desk                                                NaN   \n",
       "9996         National Desk                                                NaN   \n",
       "9997     Metropolitan Desk                                                NaN   \n",
       "9998            Classified                                                NaN   \n",
       "9999  Leisure/Weekend Desk                                                NaN   \n",
       "\n",
       "          online_sections                               taxonomic_classifier  \n",
       "9990              Opinion  ['Top/Opinion', 'Top/Opinion/Opinion', 'Top/Ne...  \n",
       "9991                World  ['Top/News', 'Top/News/World/Countries and Ter...  \n",
       "9992                  NaN  ['Top/Classifieds/Job Market/Job Categories/Ma...  \n",
       "9993  New York and Region  ['Top/News/U.S./U.S. States, Territories and P...  \n",
       "9994          Arts; Books  ['Top/Features/Books/Book Reviews', 'Top/Featu...  \n",
       "9995              Opinion  ['Top/Opinion/Opinion/Letters', 'Top/Opinion',...  \n",
       "9996                 U.S.                      ['Top/News/U.S.', 'Top/News']  \n",
       "9997  New York and Region                   ['Top/News/New York and Region']  \n",
       "9998   Paid Death Notices             ['Top/Classifieds/Paid Death Notices']  \n",
       "9999                 Arts                              ['Top/Features/Arts']  "
      ]
     },
     "execution_count": 81,
     "metadata": {},
     "output_type": "execute_result"
    }
   ],
   "source": [
    "# possible labels - desk works best\n",
    "df[['desk','general_descriptor','online_sections','taxonomic_classifier']][-10:]"
   ]
  },
  {
   "cell_type": "code",
   "execution_count": 82,
   "metadata": {},
   "outputs": [
    {
     "data": {
      "text/plain": [
       "desk                    0.0041\n",
       "general_descriptor      0.2140\n",
       "online_sections         0.0244\n",
       "taxonomic_classifier    0.0144\n",
       "dtype: float64"
      ]
     },
     "execution_count": 82,
     "metadata": {},
     "output_type": "execute_result"
    }
   ],
   "source": [
    "# pct nulls for each possible labels\n",
    "(n - df[['desk','general_descriptor','online_sections','taxonomic_classifier']].count())/n"
   ]
  },
  {
   "cell_type": "code",
   "execution_count": 119,
   "metadata": {},
   "outputs": [
    {
     "data": {
      "text/plain": [
       "desk\n",
       "A Nation Challenged                   1\n",
       "Adventure Sports                      2\n",
       "Arts & Ideas/Cultural Desk           18\n",
       "Arts & Leisure Desk                  29\n",
       "Arts and Leisure Desk               129\n",
       "Automobiles                           9\n",
       "Book Review Desk                    176\n",
       "Business World Magazine               1\n",
       "Business/Finance Desk                 1\n",
       "Business/Financial Desk             628\n",
       "Business\\Financial Desk               1\n",
       "Cars                                  4\n",
       "Circuits                             48\n",
       "Classifed                             1\n",
       "Classified                          721\n",
       "Classified Desk                       3\n",
       "Classifieds                           4\n",
       "Connecticut Weekly Desk              90\n",
       "Cultural Desk                       231\n",
       "Dining In, Dining Out/Style Desk     37\n",
       "Name: desk, dtype: int64"
      ]
     },
     "execution_count": 119,
     "metadata": {},
     "output_type": "execute_result"
    }
   ],
   "source": [
    "# these will be cleaned up for the final dataframe\n",
    "df.groupby('desk')['desk'].count()[:20]"
   ]
  },
  {
   "cell_type": "code",
   "execution_count": 84,
   "metadata": {
    "scrolled": false
   },
   "outputs": [
    {
     "data": {
      "text/plain": [
       "desk\n",
       "a nation challenged                                                          1\n",
       "arts                                                                       882\n",
       "book review                                                                176\n",
       "business                                                                   725\n",
       "cars                                                                        13\n",
       "city & region weekly                                                       558\n",
       "classified                                                                 734\n",
       "dining                                                                      47\n",
       "editorial                                                                  666\n",
       "education                                                                   13\n",
       "escapes                                                                     18\n",
       "financial                                                                 1108\n",
       "foreign                                                                    723\n",
       "giving                                                                       1\n",
       "health & fitness                                                            22\n",
       "home & garden                                                               94\n",
       "living                                                                      41\n",
       "magazine                                                                   147\n",
       "metropolitan                                                              1293\n",
       "national                                                                   785\n",
       "obituary                                                                   113\n",
       "outlook                                                                      1\n",
       "page 6, column 4                                                             1\n",
       "personal investing supplement                                                1\n",
       "real estate                                                                 75\n",
       "retirement                                                                   1\n",
       "science                                                                     68\n",
       "society                                                                    242\n",
       "sports                                                                     947\n",
       "style                                                                      147\n",
       "summer times supplement                                                      1\n",
       "t magazine                                                                  23\n",
       "technology                                                                  49\n",
       "television                                                                   8\n",
       "the business of green                                                        1\n",
       "the marathon                                                                 1\n",
       "tholiday                                                                     1\n",
       "thrombotic thrombocytopenic purpura, which affects the central nervous       1\n",
       "travel                                                                     111\n",
       "week in review                                                             116\n",
       "working                                                                      1\n",
       "workplace                                                                    3\n",
       "Name: desk, dtype: int64"
      ]
     },
     "execution_count": 84,
     "metadata": {},
     "output_type": "execute_result"
    }
   ],
   "source": [
    "def clean_labels(c):\n",
    "    c = c.str.lower().str.strip()\n",
    "    c = c.str.replace('desk', '')\n",
    "    c = c.str.replace(';', '')\n",
    "    c = c.str.replace(' and ', ' & ')\n",
    "    c = c.str.replace('\\\\', '/')\n",
    "    c = c.str.replace('arts & .*|cultural|museums|the arts/cultural|.*weekend.*', 'arts')\n",
    "    c = c.str.replace('automobiles', 'cars')\n",
    "    c = c.str.replace('classifed|classifieds|job market', 'classified')\n",
    "    c = c.str.replace('.*dining out.*', 'dining')\n",
    "    c = c.str.replace('education.*', 'education')\n",
    "    c = c.str.replace('business/financ.*|business world magazine|e-commerce|.*money.*financ.*|sundaybusiness', 'business')\n",
    "    c = c.str.replace('health&fitness', 'health & fitness')\n",
    "    c = c.str.replace('home|house & home/style', 'home & garden')\n",
    "    c = c.str.replace('metropolitian', 'metropolitan')\n",
    "    c = c.str.replace('new jersey.*', 'new jersey weekly')\n",
    "    c = c.str.replace('connecticut weekly|new jersey weekly|long island weekly|the city weekly.*|westchester weekly', 'city & region weekly')\n",
    "    c = c.str.replace('thursday styles|styles of the times', 'style')\n",
    "    c = c.str.replace('.*design.*magazine|.*fashion.*magazine|.*style.*magazine|.*travel.*magazine|t: \\w+.*', 't magazine')\n",
    "    c = c.str.replace('adventure sports|sports sports', 'sports')\n",
    "    c = c.str.replace('circuits|flight', 'technology')\n",
    "    c = c.str.strip()\n",
    "    return c\n",
    "\n",
    "labels = pd.DataFrame(clean_labels(df.desk))\n",
    "labels.groupby('desk')['desk'].count()"
   ]
  },
  {
   "cell_type": "code",
   "execution_count": 85,
   "metadata": {},
   "outputs": [
    {
     "data": {
      "text/plain": [
       "14"
      ]
     },
     "execution_count": 85,
     "metadata": {},
     "output_type": "execute_result"
    }
   ],
   "source": [
    "#labels.groupby('desk')['desk'].count().filter()\n",
    "\n",
    "labels.groupby('desk').filter(lambda x: x['desk'].count() <= 10).groupby('desk')['desk'].count().count()\n",
    "# >10: 28 categories with 9,936 articles\n",
    "# <=10: 14 categories with 23 articles\n",
    "# 41 articles with null category"
   ]
  },
  {
   "cell_type": "code",
   "execution_count": 93,
   "metadata": {},
   "outputs": [
    {
     "data": {
      "text/html": [
       "<div>\n",
       "<style scoped>\n",
       "    .dataframe tbody tr th:only-of-type {\n",
       "        vertical-align: middle;\n",
       "    }\n",
       "\n",
       "    .dataframe tbody tr th {\n",
       "        vertical-align: top;\n",
       "    }\n",
       "\n",
       "    .dataframe thead th {\n",
       "        text-align: right;\n",
       "    }\n",
       "</style>\n",
       "<table border=\"1\" class=\"dataframe\">\n",
       "  <thead>\n",
       "    <tr style=\"text-align: right;\">\n",
       "      <th></th>\n",
       "      <th>desk</th>\n",
       "      <th>full_text</th>\n",
       "      <th>lead_paragraph</th>\n",
       "      <th>nouns</th>\n",
       "      <th>lemmas</th>\n",
       "    </tr>\n",
       "  </thead>\n",
       "  <tbody>\n",
       "    <tr>\n",
       "      <th>0</th>\n",
       "      <td>financial</td>\n",
       "      <td>The Bethlehem Steel Corporation, after report...</td>\n",
       "      <td>The Bethlehem Steel Corporation, after report...</td>\n",
       "      <td>Bethlehem Steel Corporation loss quarter yeste...</td>\n",
       "      <td>Bethlehem Steel Corporation report loss fourth...</td>\n",
       "    </tr>\n",
       "    <tr>\n",
       "      <th>1</th>\n",
       "      <td>foreign</td>\n",
       "      <td>Seeking to raise morale at home and improve i...</td>\n",
       "      <td>Seeking to raise morale at home and improve i...</td>\n",
       "      <td>morale home image Iraq today elections candida...</td>\n",
       "      <td>Seeking raise morale home improve image abroad...</td>\n",
       "    </tr>\n",
       "    <tr>\n",
       "      <th>2</th>\n",
       "      <td>editorial</td>\n",
       "      <td>By the time Lord Elgin obtained the authority...</td>\n",
       "      <td>By the time Lord Elgin obtained the authority...</td>\n",
       "      <td>time Lord Elgin authority pieces stone inscrip...</td>\n",
       "      <td>time Lord Elgin obtain authority remove piece ...</td>\n",
       "    </tr>\n",
       "    <tr>\n",
       "      <th>3</th>\n",
       "      <td>classified</td>\n",
       "      <td>SPEIER-Claire. Born New York City. Age 70. Gr...</td>\n",
       "      <td>SPEIER-Claire. Born New York City. Age 70. Gr...</td>\n",
       "      <td>SPEIER-Claire. Born New York City. Age Graduat...</td>\n",
       "      <td>SPEIER-Claire. Born New York City. Age Graduat...</td>\n",
       "    </tr>\n",
       "    <tr>\n",
       "      <th>4</th>\n",
       "      <td>national</td>\n",
       "      <td>LEAD: The Japanese videotape begins with the ...</td>\n",
       "      <td>LEAD: The Japanese videotape begins with the ...</td>\n",
       "      <td>LEAD videotape words tables foods. tape inspec...</td>\n",
       "      <td>LEAD Japanese videotape begin word table be ov...</td>\n",
       "    </tr>\n",
       "  </tbody>\n",
       "</table>\n",
       "</div>"
      ],
      "text/plain": [
       "         desk                                          full_text  \\\n",
       "0   financial   The Bethlehem Steel Corporation, after report...   \n",
       "1     foreign   Seeking to raise morale at home and improve i...   \n",
       "2   editorial   By the time Lord Elgin obtained the authority...   \n",
       "3  classified   SPEIER-Claire. Born New York City. Age 70. Gr...   \n",
       "4    national   LEAD: The Japanese videotape begins with the ...   \n",
       "\n",
       "                                      lead_paragraph  \\\n",
       "0   The Bethlehem Steel Corporation, after report...   \n",
       "1   Seeking to raise morale at home and improve i...   \n",
       "2   By the time Lord Elgin obtained the authority...   \n",
       "3   SPEIER-Claire. Born New York City. Age 70. Gr...   \n",
       "4   LEAD: The Japanese videotape begins with the ...   \n",
       "\n",
       "                                               nouns  \\\n",
       "0  Bethlehem Steel Corporation loss quarter yeste...   \n",
       "1  morale home image Iraq today elections candida...   \n",
       "2  time Lord Elgin authority pieces stone inscrip...   \n",
       "3  SPEIER-Claire. Born New York City. Age Graduat...   \n",
       "4  LEAD videotape words tables foods. tape inspec...   \n",
       "\n",
       "                                              lemmas  \n",
       "0  Bethlehem Steel Corporation report loss fourth...  \n",
       "1  Seeking raise morale home improve image abroad...  \n",
       "2  time Lord Elgin obtain authority remove piece ...  \n",
       "3  SPEIER-Claire. Born New York City. Age Graduat...  \n",
       "4  LEAD Japanese videotape begin word table be ov...  "
      ]
     },
     "execution_count": 93,
     "metadata": {},
     "output_type": "execute_result"
    }
   ],
   "source": [
    "df_final = pd.DataFrame(pd.concat([labels, df.full_text, df.lead_paragraph, pd.DataFrame(nouns, columns={'nouns'}),\n",
    "                                   pd.DataFrame(lemmas, columns={'lemmas'})], axis=1))\n",
    "df_final.head()"
   ]
  },
  {
   "cell_type": "code",
   "execution_count": 242,
   "metadata": {},
   "outputs": [
    {
     "data": {
      "text/html": [
       "<div>\n",
       "<style scoped>\n",
       "    .dataframe tbody tr th:only-of-type {\n",
       "        vertical-align: middle;\n",
       "    }\n",
       "\n",
       "    .dataframe tbody tr th {\n",
       "        vertical-align: top;\n",
       "    }\n",
       "\n",
       "    .dataframe thead th {\n",
       "        text-align: right;\n",
       "    }\n",
       "</style>\n",
       "<table border=\"1\" class=\"dataframe\">\n",
       "  <thead>\n",
       "    <tr style=\"text-align: right;\">\n",
       "      <th></th>\n",
       "      <th>desk</th>\n",
       "      <th>general_descriptor</th>\n",
       "      <th>online_sections</th>\n",
       "      <th>taxonomic_classifier</th>\n",
       "    </tr>\n",
       "  </thead>\n",
       "  <tbody>\n",
       "    <tr>\n",
       "      <th>4690</th>\n",
       "      <td>The Business of Green</td>\n",
       "      <td>['Oil (Petroleum) and Gasoline', 'Chemicals', ...</td>\n",
       "      <td>Business</td>\n",
       "      <td>['Top/News/Business', 'Top/News/Science/Enviro...</td>\n",
       "    </tr>\n",
       "  </tbody>\n",
       "</table>\n",
       "</div>"
      ],
      "text/plain": [
       "                       desk  \\\n",
       "4690  The Business of Green   \n",
       "\n",
       "                                     general_descriptor online_sections  \\\n",
       "4690  ['Oil (Petroleum) and Gasoline', 'Chemicals', ...        Business   \n",
       "\n",
       "                                   taxonomic_classifier  \n",
       "4690  ['Top/News/Business', 'Top/News/Science/Enviro...  "
      ]
     },
     "execution_count": 242,
     "metadata": {},
     "output_type": "execute_result"
    }
   ],
   "source": [
    "df[df.desk == 'The Business of Green'][['desk','general_descriptor','online_sections','taxonomic_classifier']][-10:]"
   ]
  },
  {
   "cell_type": "markdown",
   "metadata": {},
   "source": [
    "### Convert to Vocabulary Objects"
   ]
  },
  {
   "cell_type": "code",
   "execution_count": 94,
   "metadata": {},
   "outputs": [],
   "source": [
    "def create_vocab(articles):\n",
    "    article_list = articles.tolist()\n",
    "    tokenizer = TreebankWordTokenizer()    \n",
    "    token_list = [tokenizer.tokenize(a) for a in article_list if not pd.isnull(a)]\n",
    "    tokens = utils.canonicalize_words(utils.flatten(token_list))\n",
    "    vocab = vocabulary.Vocabulary(tokens, size=None)\n",
    "    vocab.token_count = len(tokens)\n",
    "        \n",
    "    return vocab"
   ]
  },
  {
   "cell_type": "code",
   "execution_count": 97,
   "metadata": {},
   "outputs": [],
   "source": [
    "full_text_vocab = create_vocab(df_final.full_text)\n",
    "lead_paragraph_vocab = create_vocab(df_final.lead_paragraph)\n",
    "noun_vocab = create_vocab(df_final.nouns)\n",
    "lemma_vocab = create_vocab(df_final.lemmas)"
   ]
  },
  {
   "cell_type": "code",
   "execution_count": 98,
   "metadata": {},
   "outputs": [
    {
     "data": {
      "text/html": [
       "<table><tr><th>Article Type</th><th>Vocabulary Size</th><th>Token Count</th></tr><tr><td>Full Text</td><td>144,374</td><td>6,248,228</td></tr><tr><td>Lead Paragraph</td><td>57,600</td><td>921,434</td></tr><tr><td>Nouns</td><td>109,309</td><td>1,920,371</td></tr><tr><td>Lemmas</td><td>134,485</td><td>3,486,827</td></tr></tr></table>"
      ],
      "text/plain": [
       "<IPython.core.display.HTML object>"
      ]
     },
     "metadata": {},
     "output_type": "display_data"
    }
   ],
   "source": [
    "from IPython.display import display, HTML\n",
    "\n",
    "html = '<table><tr><th>Article Type</th><th>Vocabulary Size</th><th>Token Count</th></tr>'\n",
    "html += '<tr><td>Full Text</td><td>{:,}</td>'.format(full_text_vocab.size)\n",
    "html += '<td>{:,}</td></tr>'.format(full_text_vocab.token_count)\n",
    "html += '<tr><td>Lead Paragraph</td><td>{:,}</td>'.format(lead_paragraph_vocab.size)\n",
    "html += '<td>{:,}</td></tr>'.format(lead_paragraph_vocab.token_count)\n",
    "html += '<tr><td>Nouns</td><td>{:,}</td>'.format(noun_vocab.size)\n",
    "html += '<td>{:,}</td></tr>'.format(noun_vocab.token_count)\n",
    "html += '<tr><td>Lemmas</td><td>{:,}</td>'.format(lemma_vocab.size)\n",
    "html += '<td>{:,}</td></tr>'.format(lemma_vocab.token_count)\n",
    "html += \"</tr></table>\"\n",
    "display(HTML(html))"
   ]
  },
  {
   "cell_type": "markdown",
   "metadata": {},
   "source": [
    "### TFIDF Vectorize"
   ]
  },
  {
   "cell_type": "code",
   "execution_count": 100,
   "metadata": {},
   "outputs": [],
   "source": [
    "def train_test_split(df, articles, labels, category_min):\n",
    "    # Remove null entries\n",
    "    data = df[[articles, labels]][df[articles].notnull()][df[labels].notnull()]\n",
    "    data = data.reset_index()[[articles, labels]]\n",
    "    \n",
    "    # Remove entries in categories with too few data points\n",
    "    data = data.groupby('desk').filter(lambda x: x['desk'].count() >= category_min)\n",
    "    data = data.reset_index()[[articles, labels]]\n",
    "\n",
    "    # Randomly assign indexes to train, dev, test\n",
    "    rand = np.random.uniform(size=len(data[labels]))\n",
    "    train_idx = np.where(rand < 0.75)[0]\n",
    "    dev_idx = np.where((rand >= 0.75) & (rand < 0.8))[0]\n",
    "    test_idx = np.where(rand >= 0.8)[0]\n",
    "    \n",
    "    # Break dataframe into train, dev, test dfs\n",
    "    train = data.loc[list(train_idx)].reset_index()[[articles, labels]]\n",
    "    dev = data.loc[list(dev_idx)].reset_index()[[articles, labels]]\n",
    "    test = data.loc[list(test_idx)].reset_index()[[articles, labels]]\n",
    "    \n",
    "    return train, dev, test"
   ]
  },
  {
   "cell_type": "code",
   "execution_count": 101,
   "metadata": {},
   "outputs": [
    {
     "name": "stderr",
     "output_type": "stream",
     "text": [
      "/Library/Frameworks/Python.framework/Versions/3.6/lib/python3.6/site-packages/ipykernel_launcher.py:3: UserWarning: Boolean Series key will be reindexed to match DataFrame index.\n",
      "  This is separate from the ipykernel package so we can avoid doing imports until\n"
     ]
    }
   ],
   "source": [
    "np.random.seed(102)\n",
    "ft_train, ft_dev, ft_test = train_test_split(df_final, 'full_text', 'desk', 10)\n",
    "lp_train, lp_dev, lp_test = train_test_split(df_final, 'lead_paragraph', 'desk', 10)\n",
    "n_train, n_dev, n_test = train_test_split(df_final, 'nouns', 'desk', 10)\n",
    "l_train, l_dev, l_test = train_test_split(df_final, 'lemmas', 'desk', 10)"
   ]
  },
  {
   "cell_type": "code",
   "execution_count": 103,
   "metadata": {},
   "outputs": [],
   "source": [
    "def tfidf_vectorize(train_data, dev_data, test_data):\n",
    "    tv = TfidfVectorizer()\n",
    "    tv.fit(train_data)\n",
    "    tv_train = tv.transform(train_data)\n",
    "    tv_dev = tv.transform(dev_data)\n",
    "    tv_test = tv.transform(test_data)    \n",
    "    return tv_train, tv_dev, tv_test"
   ]
  },
  {
   "cell_type": "code",
   "execution_count": 105,
   "metadata": {},
   "outputs": [],
   "source": [
    "# Set up sparse matrices\n",
    "ft_tv_train, ft_tv_dev, ft_tv_test = tfidf_vectorize(ft_train.full_text, ft_dev.full_text, ft_test.full_text)\n",
    "lp_tv_train, lp_tv_dev, lp_tv_test = tfidf_vectorize(lp_train.lead_paragraph, lp_dev.lead_paragraph, lp_dev.lead_paragraph)\n",
    "n_tv_train, n_tv_dev, n_tv_test = tfidf_vectorize(n_train.nouns, n_dev.nouns, n_dev.nouns)\n",
    "l_tv_train, l_tv_dev, l_tv_test = tfidf_vectorize(l_train.lemmas, l_dev.lemmas, l_dev.lemmas)"
   ]
  },
  {
   "cell_type": "code",
   "execution_count": 106,
   "metadata": {},
   "outputs": [
    {
     "data": {
      "text/html": [
       "<table><th>Article Type</th><th>Training Articles</th><th>Training Vocab Size</th><th>Training NNZ per Article</th><th>Dev Articles</th><th>Test Articles</th></tr><tr><td>Full Text</td><td>7,302</td><td>85,031</td><td>260</td><td>512</td><td>1,969</td></tr><tr><td>Lead Paragraph</td><td>7,076</td><td>39,378</td><td>61</td><td>484</td><td>484</td></tr><tr><td>Nouns Only</td><td>7,300</td><td>68,712</td><td>120</td><td>501</td><td>501</td></tr><tr><td>Lemmatized</td><td>7,497</td><td>79,180</td><td>206</td><td>469</td><td>469</td></tr></tr></table>"
      ],
      "text/plain": [
       "<IPython.core.display.HTML object>"
      ]
     },
     "metadata": {},
     "output_type": "display_data"
    }
   ],
   "source": [
    "html = '<table><th>Article Type</th><th>Training Articles</th><th>Training Vocab Size</th><th>Training NNZ per Article</th>'\n",
    "html += '<th>Dev Articles</th><th>Test Articles</th></tr>'\n",
    "html += '<tr><td>Full Text</td><td>{:,}</td><td>{:,}</td><td>{:,.0f}</td>'.format(ft_tv_train.shape[0], ft_tv_train.shape[1], ft_tv_train.nnz / ft_tv_train.shape[0])\n",
    "html += '<td>{:,}</td><td>{:,}</td></tr>'.format(ft_tv_dev.shape[0], ft_tv_test.shape[0])\n",
    "html += '<tr><td>Lead Paragraph</td><td>{:,}</td><td>{:,}</td><td>{:,.0f}</td>'.format(lp_tv_train.shape[0], lp_tv_train.shape[1], lp_tv_train.nnz / lp_tv_train.shape[0])\n",
    "html += '<td>{:,}</td><td>{:,}</td></tr>'.format(lp_tv_dev.shape[0], lp_tv_test.shape[0])\n",
    "html += '<tr><td>Nouns Only</td><td>{:,}</td><td>{:,}</td><td>{:,.0f}</td>'.format(n_tv_train.shape[0], n_tv_train.shape[1], n_tv_train.nnz / n_tv_train.shape[0])\n",
    "html += '<td>{:,}</td><td>{:,}</td></tr>'.format(n_tv_dev.shape[0], n_tv_test.shape[0])\n",
    "html += '<tr><td>Lemmatized</td><td>{:,}</td><td>{:,}</td><td>{:,.0f}</td>'.format(l_tv_train.shape[0], l_tv_train.shape[1], l_tv_train.nnz / l_tv_train.shape[0])\n",
    "html += '<td>{:,}</td><td>{:,}</td></tr>'.format(l_tv_dev.shape[0], l_tv_test.shape[0])\n",
    "html += '</tr></table>'\n",
    "display(HTML(html))"
   ]
  },
  {
   "cell_type": "code",
   "execution_count": 110,
   "metadata": {},
   "outputs": [],
   "source": [
    "def log_reg(train_data, train_labels, dev_data, dev_labels, C):\n",
    "    penalties = ['l1','l2']\n",
    "    accuracy = []\n",
    "    for i in penalties:\n",
    "        for j in range(len(C)):\n",
    "            lr = LogisticRegression(C=C[j], penalty=i)\n",
    "            lr.fit(train_data, train_labels)\n",
    "            accuracy.append(lr.score(dev_data, dev_labels))\n",
    "    \n",
    "    # Combine to dataframe\n",
    "    pd.options.display.float_format = '{:,.8f}'.format\n",
    "    df = pd.concat([pd.DataFrame(['L1']*len(C) + ['L2']*len(C), columns={'penalty'}),\n",
    "                    pd.DataFrame(C*len(penalties), columns={'C'}), pd.DataFrame(accuracy, columns={'accuracy'})], axis=1)\n",
    "    return df\n",
    "\n",
    "C = list(10. ** np.arange(-8, 8))\n",
    "ft_lr = log_reg(ft_tv_train, ft_train.desk, ft_tv_dev, ft_dev.desk, C)\n",
    "lp_lr = log_reg(lp_tv_train, lp_train.desk, lp_tv_dev, lp_dev.desk, C)\n",
    "n_lr = log_reg(n_tv_train, n_train.desk, n_tv_dev, n_dev.desk, C)\n",
    "l_lr = log_reg(l_tv_train, l_train.desk, l_tv_dev, l_dev.desk, C)"
   ]
  },
  {
   "cell_type": "code",
   "execution_count": 111,
   "metadata": {},
   "outputs": [
    {
     "data": {
      "text/plain": [
       "<matplotlib.legend.Legend at 0x171c05e80>"
      ]
     },
     "execution_count": 111,
     "metadata": {},
     "output_type": "execute_result"
    },
    {
     "data": {
      "image/png": "[encoded data removed]",
      "text/plain": [
       "<Figure size 432x288 with 1 Axes>"
      ]
     },
     "metadata": {},
     "output_type": "display_data"
    }
   ],
   "source": [
    "# Plot logistic regression accuracies\n",
    "log_C = np.log10(C)\n",
    "models = [ft_lr, lp_lr, n_lr, l_lr]\n",
    "labels = ['Full Text', 'Lead Paragraph', 'Nouns Only', 'Lemmatized']\n",
    "colors = ['blue', 'red', 'green', 'orange']\n",
    "\n",
    "for i in range(len(models)):\n",
    "    plt.plot(log_C, models[i].accuracy[np.where(models[i].penalty == 'L1')[0]],\n",
    "        color=colors[i], linestyle='dotted', marker='x', label=labels[i]+'-L1')\n",
    "    plt.plot(log_C, models[i].accuracy[np.where(models[i].penalty == 'L2')[0]],\n",
    "        color=colors[i], marker='o', label=labels[i]+'-L2')\n",
    "\n",
    "plt.title('Logistic Regression on TFIDF Vectorizer')\n",
    "plt.xlabel('Log10(C)')\n",
    "plt.ylabel('Accuracy')\n",
    "plt.ylim(0, 1)\n",
    "plt.legend()"
   ]
  },
  {
   "cell_type": "code",
   "execution_count": 115,
   "metadata": {},
   "outputs": [
    {
     "data": {
      "text/plain": [
       "penalty           L2\n",
       "C          100.00000\n",
       "accuracy     0.76758\n",
       "Name: 26, dtype: object"
      ]
     },
     "execution_count": 115,
     "metadata": {},
     "output_type": "execute_result"
    }
   ],
   "source": [
    "ft_lr.iloc[np.where(ft_lr.accuracy == max(ft_lr.accuracy))[0][0]]"
   ]
  },
  {
   "cell_type": "code",
   "execution_count": 112,
   "metadata": {},
   "outputs": [],
   "source": [
    "def multi_nb(train_data, train_labels, dev_data, dev_labels, alpha):\n",
    "    accuracy = []\n",
    "    for i in range(len(alpha)):\n",
    "        mnb = MultinomialNB(alpha=alpha[i])\n",
    "        mnb.fit(train_data, train_labels)\n",
    "        accuracy.append(mnb.score(dev_data, dev_labels))\n",
    "    \n",
    "    # Combine to dataframe\n",
    "    pd.options.display.float_format = '{:,.5f}'.format\n",
    "    df = pd.concat([pd.DataFrame(alpha, columns={'alpha'}), pd.DataFrame(accuracy, columns={'accuracy'})], axis=1)\n",
    "    return df\n",
    "\n",
    "alpha = list(2. ** np.arange(-12, 3, 0.5))\n",
    "ft_mnb = multi_nb(ft_tv_train, ft_train.desk, ft_tv_dev, ft_dev.desk, alpha)\n",
    "lp_mnb = multi_nb(lp_tv_train, lp_train.desk, lp_tv_dev, lp_dev.desk, alpha)\n",
    "n_mnb = multi_nb(n_tv_train, n_train.desk, n_tv_dev, n_dev.desk, alpha)\n",
    "l_mnb = multi_nb(l_tv_train, l_train.desk, l_tv_dev, l_dev.desk, alpha)"
   ]
  },
  {
   "cell_type": "code",
   "execution_count": 113,
   "metadata": {},
   "outputs": [
    {
     "data": {
      "text/plain": [
       "<matplotlib.legend.Legend at 0x171c0e390>"
      ]
     },
     "execution_count": 113,
     "metadata": {},
     "output_type": "execute_result"
    },
    {
     "data": {
      "image/png": "[encoded data removed]",
      "text/plain": [
       "<Figure size 432x288 with 1 Axes>"
      ]
     },
     "metadata": {},
     "output_type": "display_data"
    }
   ],
   "source": [
    "# Plot multinomial accuracies\n",
    "log_alpha = np.log2(alpha)\n",
    "models = [ft_lr, lp_lr, n_lr, l_lr]\n",
    "labels = ['Full Text', 'Lead Paragraph', 'Nouns Only', 'Lemmatized']\n",
    "colors = ['blue', 'red', 'green', 'orange']\n",
    "\n",
    "for i in range(len(models)):\n",
    "    plt.plot(log_alpha, models[i].accuracy, color=colors[i], marker='o', label=labels[i])\n",
    "\n",
    "plt.title('Multinomial Naïve Bayes on TFIDF Vectorizer')\n",
    "plt.xlabel('Log2(Alpha)')\n",
    "plt.ylabel('Accuracy')\n",
    "plt.ylim(0, 1)\n",
    "plt.legend()"
   ]
  },
  {
   "cell_type": "code",
   "execution_count": 114,
   "metadata": {},
   "outputs": [
    {
     "data": {
      "text/plain": [
       "alpha      0.00552\n",
       "accuracy   0.70703\n",
       "Name: 9, dtype: float64"
      ]
     },
     "execution_count": 114,
     "metadata": {},
     "output_type": "execute_result"
    }
   ],
   "source": [
    "ft_mnb.iloc[np.where(ft_mnb.accuracy == max(ft_mnb.accuracy))[0][0]]"
   ]
  },
  {
   "cell_type": "code",
   "execution_count": 118,
   "metadata": {},
   "outputs": [
    {
     "data": {
      "text/plain": [
       "-7.501116017658643"
      ]
     },
     "execution_count": 118,
     "metadata": {},
     "output_type": "execute_result"
    }
   ],
   "source": [
    "np.log2(0.00552)"
   ]
  },
  {
   "cell_type": "code",
   "execution_count": null,
   "metadata": {},
   "outputs": [],
   "source": []
  }
 ],
 "metadata": {
  "kernelspec": {
   "display_name": "Python 3",
   "language": "python",
   "name": "python3"
  },
  "language_info": {
   "codemirror_mode": {
    "name": "ipython",
    "version": 3
   },
   "file_extension": ".py",
   "mimetype": "text/x-python",
   "name": "python",
   "nbconvert_exporter": "python",
   "pygments_lexer": "ipython3",
   "version": "3.6.5"
  }
 },
 "nbformat": 4,
 "nbformat_minor": 2
}
